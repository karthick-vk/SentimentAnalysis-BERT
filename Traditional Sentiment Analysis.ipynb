{
 "cells": [
  {
   "cell_type": "code",
   "execution_count": 1,
   "metadata": {
    "colab": {
     "base_uri": "https://localhost:8080/",
     "height": 34
    },
    "colab_type": "code",
    "id": "EoC0NJQyDShz",
    "outputId": "e4d3212f-ece0-4bd3-af5a-8cd289ca28f7"
   },
   "outputs": [
    {
     "name": "stdout",
     "output_type": "stream",
     "text": [
      "/bin/bash: -c: line 1: syntax error: unexpected end of file\n"
     ]
    }
   ],
   "source": [
    "!torch.cuda.is_available()"
   ]
  },
  {
   "cell_type": "code",
   "execution_count": 2,
   "metadata": {
    "colab": {
     "base_uri": "https://localhost:8080/",
     "height": 121
    },
    "colab_type": "code",
    "id": "3vROx6mcxB86",
    "outputId": "cb9252ef-88ab-4676-8954-f9a6cb782e52"
   },
   "outputs": [
    {
     "name": "stdout",
     "output_type": "stream",
     "text": [
      "Go to this URL in a browser: https://accounts.google.com/o/oauth2/auth?client_id=947318989803-6bn6qk8qdgf4n4g3pfee6491hc0brc4i.apps.googleusercontent.com&redirect_uri=urn%3aietf%3awg%3aoauth%3a2.0%3aoob&response_type=code&scope=email%20https%3a%2f%2fwww.googleapis.com%2fauth%2fdocs.test%20https%3a%2f%2fwww.googleapis.com%2fauth%2fdrive%20https%3a%2f%2fwww.googleapis.com%2fauth%2fdrive.photos.readonly%20https%3a%2f%2fwww.googleapis.com%2fauth%2fpeopleapi.readonly\n",
      "\n",
      "Enter your authorization code:\n",
      "··········\n",
      "Mounted at /content/drive\n"
     ]
    }
   ],
   "source": [
    "from google.colab import drive\n",
    "drive.mount(\"/content/drive\")"
   ]
  },
  {
   "cell_type": "code",
   "execution_count": 3,
   "metadata": {
    "colab": {
     "base_uri": "https://localhost:8080/",
     "height": 655
    },
    "colab_type": "code",
    "id": "DO5_Q5wLRdyO",
    "outputId": "17f76321-f12a-445c-9d16-7899f17bf5b3"
   },
   "outputs": [
    {
     "name": "stdout",
     "output_type": "stream",
     "text": [
      "Collecting transformers\n",
      "\u001b[?25l  Downloading https://files.pythonhosted.org/packages/a3/78/92cedda05552398352ed9784908b834ee32a0bd071a9b32de287327370b7/transformers-2.8.0-py3-none-any.whl (563kB)\n",
      "\r",
      "\u001b[K     |▋                               | 10kB 22.8MB/s eta 0:00:01\r",
      "\u001b[K     |█▏                              | 20kB 3.1MB/s eta 0:00:01\r",
      "\u001b[K     |█▊                              | 30kB 4.5MB/s eta 0:00:01\r",
      "\u001b[K     |██▎                             | 40kB 3.0MB/s eta 0:00:01\r",
      "\u001b[K     |███                             | 51kB 3.7MB/s eta 0:00:01\r",
      "\u001b[K     |███▌                            | 61kB 4.4MB/s eta 0:00:01\r",
      "\u001b[K     |████                            | 71kB 5.0MB/s eta 0:00:01\r",
      "\u001b[K     |████▋                           | 81kB 3.9MB/s eta 0:00:01\r",
      "\u001b[K     |█████▎                          | 92kB 4.4MB/s eta 0:00:01\r",
      "\u001b[K     |█████▉                          | 102kB 4.8MB/s eta 0:00:01\r",
      "\u001b[K     |██████▍                         | 112kB 4.8MB/s eta 0:00:01\r",
      "\u001b[K     |███████                         | 122kB 4.8MB/s eta 0:00:01\r",
      "\u001b[K     |███████▋                        | 133kB 4.8MB/s eta 0:00:01\r",
      "\u001b[K     |████████▏                       | 143kB 4.8MB/s eta 0:00:01\r",
      "\u001b[K     |████████▊                       | 153kB 4.8MB/s eta 0:00:01\r",
      "\u001b[K     |█████████▎                      | 163kB 4.8MB/s eta 0:00:01\r",
      "\u001b[K     |█████████▉                      | 174kB 4.8MB/s eta 0:00:01\r",
      "\u001b[K     |██████████▌                     | 184kB 4.8MB/s eta 0:00:01\r",
      "\u001b[K     |███████████                     | 194kB 4.8MB/s eta 0:00:01\r",
      "\u001b[K     |███████████▋                    | 204kB 4.8MB/s eta 0:00:01\r",
      "\u001b[K     |████████████▏                   | 215kB 4.8MB/s eta 0:00:01\r",
      "\u001b[K     |████████████▉                   | 225kB 4.8MB/s eta 0:00:01\r",
      "\u001b[K     |█████████████▍                  | 235kB 4.8MB/s eta 0:00:01\r",
      "\u001b[K     |██████████████                  | 245kB 4.8MB/s eta 0:00:01\r",
      "\u001b[K     |██████████████▌                 | 256kB 4.8MB/s eta 0:00:01\r",
      "\u001b[K     |███████████████▏                | 266kB 4.8MB/s eta 0:00:01\r",
      "\u001b[K     |███████████████▊                | 276kB 4.8MB/s eta 0:00:01\r",
      "\u001b[K     |████████████████▎               | 286kB 4.8MB/s eta 0:00:01\r",
      "\u001b[K     |████████████████▉               | 296kB 4.8MB/s eta 0:00:01\r",
      "\u001b[K     |█████████████████▍              | 307kB 4.8MB/s eta 0:00:01\r",
      "\u001b[K     |██████████████████              | 317kB 4.8MB/s eta 0:00:01\r",
      "\u001b[K     |██████████████████▋             | 327kB 4.8MB/s eta 0:00:01\r",
      "\u001b[K     |███████████████████▏            | 337kB 4.8MB/s eta 0:00:01\r",
      "\u001b[K     |███████████████████▊            | 348kB 4.8MB/s eta 0:00:01\r",
      "\u001b[K     |████████████████████▍           | 358kB 4.8MB/s eta 0:00:01\r",
      "\u001b[K     |█████████████████████           | 368kB 4.8MB/s eta 0:00:01\r",
      "\u001b[K     |█████████████████████▌          | 378kB 4.8MB/s eta 0:00:01\r",
      "\u001b[K     |██████████████████████          | 389kB 4.8MB/s eta 0:00:01\r",
      "\u001b[K     |██████████████████████▊         | 399kB 4.8MB/s eta 0:00:01\r",
      "\u001b[K     |███████████████████████▎        | 409kB 4.8MB/s eta 0:00:01\r",
      "\u001b[K     |███████████████████████▉        | 419kB 4.8MB/s eta 0:00:01\r",
      "\u001b[K     |████████████████████████▍       | 430kB 4.8MB/s eta 0:00:01\r",
      "\u001b[K     |█████████████████████████       | 440kB 4.8MB/s eta 0:00:01\r",
      "\u001b[K     |█████████████████████████▋      | 450kB 4.8MB/s eta 0:00:01\r",
      "\u001b[K     |██████████████████████████▏     | 460kB 4.8MB/s eta 0:00:01\r",
      "\u001b[K     |██████████████████████████▊     | 471kB 4.8MB/s eta 0:00:01\r",
      "\u001b[K     |███████████████████████████▎    | 481kB 4.8MB/s eta 0:00:01\r",
      "\u001b[K     |████████████████████████████    | 491kB 4.8MB/s eta 0:00:01\r",
      "\u001b[K     |████████████████████████████▌   | 501kB 4.8MB/s eta 0:00:01\r",
      "\u001b[K     |█████████████████████████████   | 512kB 4.8MB/s eta 0:00:01\r",
      "\u001b[K     |█████████████████████████████▋  | 522kB 4.8MB/s eta 0:00:01\r",
      "\u001b[K     |██████████████████████████████▎ | 532kB 4.8MB/s eta 0:00:01\r",
      "\u001b[K     |██████████████████████████████▉ | 542kB 4.8MB/s eta 0:00:01\r",
      "\u001b[K     |███████████████████████████████▍| 552kB 4.8MB/s eta 0:00:01\r",
      "\u001b[K     |████████████████████████████████| 563kB 4.8MB/s eta 0:00:01\r",
      "\u001b[K     |████████████████████████████████| 573kB 4.8MB/s \n",
      "\u001b[?25hRequirement already satisfied: filelock in /usr/local/lib/python3.6/dist-packages (from transformers) (3.0.12)\n",
      "Requirement already satisfied: regex!=2019.12.17 in /usr/local/lib/python3.6/dist-packages (from transformers) (2019.12.20)\n",
      "Collecting sentencepiece\n",
      "\u001b[?25l  Downloading https://files.pythonhosted.org/packages/74/f4/2d5214cbf13d06e7cb2c20d84115ca25b53ea76fa1f0ade0e3c9749de214/sentencepiece-0.1.85-cp36-cp36m-manylinux1_x86_64.whl (1.0MB)\n",
      "\r",
      "\u001b[K     |▎                               | 10kB 26.2MB/s eta 0:00:01\r",
      "\u001b[K     |▋                               | 20kB 31.9MB/s eta 0:00:01\r",
      "\u001b[K     |█                               | 30kB 37.2MB/s eta 0:00:01\r",
      "\u001b[K     |█▎                              | 40kB 38.9MB/s eta 0:00:01\r",
      "\u001b[K     |█▋                              | 51kB 40.5MB/s eta 0:00:01\r",
      "\u001b[K     |██                              | 61kB 42.6MB/s eta 0:00:01\r",
      "\u001b[K     |██▏                             | 71kB 43.4MB/s eta 0:00:01\r",
      "\u001b[K     |██▌                             | 81kB 43.9MB/s eta 0:00:01\r",
      "\u001b[K     |██▉                             | 92kB 44.9MB/s eta 0:00:01\r",
      "\u001b[K     |███▏                            | 102kB 45.9MB/s eta 0:00:01\r",
      "\u001b[K     |███▌                            | 112kB 45.9MB/s eta 0:00:01\r",
      "\u001b[K     |███▉                            | 122kB 45.9MB/s eta 0:00:01\r",
      "\u001b[K     |████                            | 133kB 45.9MB/s eta 0:00:01\r",
      "\u001b[K     |████▍                           | 143kB 45.9MB/s eta 0:00:01\r",
      "\u001b[K     |████▊                           | 153kB 45.9MB/s eta 0:00:01\r",
      "\u001b[K     |█████                           | 163kB 45.9MB/s eta 0:00:01\r",
      "\u001b[K     |█████▍                          | 174kB 45.9MB/s eta 0:00:01\r",
      "\u001b[K     |█████▊                          | 184kB 45.9MB/s eta 0:00:01\r",
      "\u001b[K     |██████                          | 194kB 45.9MB/s eta 0:00:01\r",
      "\u001b[K     |██████▎                         | 204kB 45.9MB/s eta 0:00:01\r",
      "\u001b[K     |██████▋                         | 215kB 45.9MB/s eta 0:00:01\r",
      "\u001b[K     |███████                         | 225kB 45.9MB/s eta 0:00:01\r",
      "\u001b[K     |███████▎                        | 235kB 45.9MB/s eta 0:00:01\r",
      "\u001b[K     |███████▋                        | 245kB 45.9MB/s eta 0:00:01\r",
      "\u001b[K     |███████▉                        | 256kB 45.9MB/s eta 0:00:01\r",
      "\u001b[K     |████████▏                       | 266kB 45.9MB/s eta 0:00:01\r",
      "\u001b[K     |████████▌                       | 276kB 45.9MB/s eta 0:00:01\r",
      "\u001b[K     |████████▉                       | 286kB 45.9MB/s eta 0:00:01\r",
      "\u001b[K     |█████████▏                      | 296kB 45.9MB/s eta 0:00:01\r",
      "\u001b[K     |█████████▌                      | 307kB 45.9MB/s eta 0:00:01\r",
      "\u001b[K     |█████████▊                      | 317kB 45.9MB/s eta 0:00:01\r",
      "\u001b[K     |██████████                      | 327kB 45.9MB/s eta 0:00:01\r",
      "\u001b[K     |██████████▍                     | 337kB 45.9MB/s eta 0:00:01\r",
      "\u001b[K     |██████████▊                     | 348kB 45.9MB/s eta 0:00:01\r",
      "\u001b[K     |███████████                     | 358kB 45.9MB/s eta 0:00:01\r",
      "\u001b[K     |███████████▍                    | 368kB 45.9MB/s eta 0:00:01\r",
      "\u001b[K     |███████████▋                    | 378kB 45.9MB/s eta 0:00:01\r",
      "\u001b[K     |████████████                    | 389kB 45.9MB/s eta 0:00:01\r",
      "\u001b[K     |████████████▎                   | 399kB 45.9MB/s eta 0:00:01\r",
      "\u001b[K     |████████████▋                   | 409kB 45.9MB/s eta 0:00:01\r",
      "\u001b[K     |█████████████                   | 419kB 45.9MB/s eta 0:00:01\r",
      "\u001b[K     |█████████████▎                  | 430kB 45.9MB/s eta 0:00:01\r",
      "\u001b[K     |█████████████▌                  | 440kB 45.9MB/s eta 0:00:01\r",
      "\u001b[K     |█████████████▉                  | 450kB 45.9MB/s eta 0:00:01\r",
      "\u001b[K     |██████████████▏                 | 460kB 45.9MB/s eta 0:00:01\r",
      "\u001b[K     |██████████████▌                 | 471kB 45.9MB/s eta 0:00:01\r",
      "\u001b[K     |██████████████▉                 | 481kB 45.9MB/s eta 0:00:01\r",
      "\u001b[K     |███████████████▏                | 491kB 45.9MB/s eta 0:00:01\r",
      "\u001b[K     |███████████████▍                | 501kB 45.9MB/s eta 0:00:01\r",
      "\u001b[K     |███████████████▊                | 512kB 45.9MB/s eta 0:00:01\r",
      "\u001b[K     |████████████████                | 522kB 45.9MB/s eta 0:00:01\r",
      "\u001b[K     |████████████████▍               | 532kB 45.9MB/s eta 0:00:01\r",
      "\u001b[K     |████████████████▊               | 542kB 45.9MB/s eta 0:00:01\r",
      "\u001b[K     |█████████████████               | 552kB 45.9MB/s eta 0:00:01\r",
      "\u001b[K     |█████████████████▎              | 563kB 45.9MB/s eta 0:00:01\r",
      "\u001b[K     |█████████████████▋              | 573kB 45.9MB/s eta 0:00:01\r",
      "\u001b[K     |██████████████████              | 583kB 45.9MB/s eta 0:00:01\r",
      "\u001b[K     |██████████████████▎             | 593kB 45.9MB/s eta 0:00:01\r",
      "\u001b[K     |██████████████████▋             | 604kB 45.9MB/s eta 0:00:01\r",
      "\u001b[K     |███████████████████             | 614kB 45.9MB/s eta 0:00:01\r",
      "\u001b[K     |███████████████████▏            | 624kB 45.9MB/s eta 0:00:01\r",
      "\u001b[K     |███████████████████▌            | 634kB 45.9MB/s eta 0:00:01\r",
      "\u001b[K     |███████████████████▉            | 645kB 45.9MB/s eta 0:00:01\r",
      "\u001b[K     |████████████████████▏           | 655kB 45.9MB/s eta 0:00:01\r",
      "\u001b[K     |████████████████████▌           | 665kB 45.9MB/s eta 0:00:01\r",
      "\u001b[K     |████████████████████▉           | 675kB 45.9MB/s eta 0:00:01\r",
      "\u001b[K     |█████████████████████▏          | 686kB 45.9MB/s eta 0:00:01\r",
      "\u001b[K     |█████████████████████▍          | 696kB 45.9MB/s eta 0:00:01\r",
      "\u001b[K     |█████████████████████▊          | 706kB 45.9MB/s eta 0:00:01\r",
      "\u001b[K     |██████████████████████          | 716kB 45.9MB/s eta 0:00:01\r",
      "\u001b[K     |██████████████████████▍         | 727kB 45.9MB/s eta 0:00:01\r",
      "\u001b[K     |██████████████████████▊         | 737kB 45.9MB/s eta 0:00:01\r",
      "\u001b[K     |███████████████████████         | 747kB 45.9MB/s eta 0:00:01\r",
      "\u001b[K     |███████████████████████▎        | 757kB 45.9MB/s eta 0:00:01\r",
      "\u001b[K     |███████████████████████▋        | 768kB 45.9MB/s eta 0:00:01\r",
      "\u001b[K     |████████████████████████        | 778kB 45.9MB/s eta 0:00:01\r",
      "\u001b[K     |████████████████████████▎       | 788kB 45.9MB/s eta 0:00:01\r",
      "\u001b[K     |████████████████████████▋       | 798kB 45.9MB/s eta 0:00:01\r",
      "\u001b[K     |█████████████████████████       | 808kB 45.9MB/s eta 0:00:01\r",
      "\u001b[K     |█████████████████████████▏      | 819kB 45.9MB/s eta 0:00:01\r",
      "\u001b[K     |█████████████████████████▌      | 829kB 45.9MB/s eta 0:00:01\r",
      "\u001b[K     |█████████████████████████▉      | 839kB 45.9MB/s eta 0:00:01\r",
      "\u001b[K     |██████████████████████████▏     | 849kB 45.9MB/s eta 0:00:01\r",
      "\u001b[K     |██████████████████████████▌     | 860kB 45.9MB/s eta 0:00:01\r",
      "\u001b[K     |██████████████████████████▉     | 870kB 45.9MB/s eta 0:00:01\r",
      "\u001b[K     |███████████████████████████     | 880kB 45.9MB/s eta 0:00:01\r",
      "\u001b[K     |███████████████████████████▍    | 890kB 45.9MB/s eta 0:00:01\r",
      "\u001b[K     |███████████████████████████▊    | 901kB 45.9MB/s eta 0:00:01\r",
      "\u001b[K     |████████████████████████████    | 911kB 45.9MB/s eta 0:00:01\r",
      "\u001b[K     |████████████████████████████▍   | 921kB 45.9MB/s eta 0:00:01\r",
      "\u001b[K     |████████████████████████████▊   | 931kB 45.9MB/s eta 0:00:01\r",
      "\u001b[K     |█████████████████████████████   | 942kB 45.9MB/s eta 0:00:01\r",
      "\u001b[K     |█████████████████████████████▎  | 952kB 45.9MB/s eta 0:00:01\r",
      "\u001b[K     |█████████████████████████████▋  | 962kB 45.9MB/s eta 0:00:01\r",
      "\u001b[K     |██████████████████████████████  | 972kB 45.9MB/s eta 0:00:01\r",
      "\u001b[K     |██████████████████████████████▎ | 983kB 45.9MB/s eta 0:00:01\r",
      "\u001b[K     |██████████████████████████████▋ | 993kB 45.9MB/s eta 0:00:01\r",
      "\u001b[K     |██████████████████████████████▉ | 1.0MB 45.9MB/s eta 0:00:01\r",
      "\u001b[K     |███████████████████████████████▏| 1.0MB 45.9MB/s eta 0:00:01\r",
      "\u001b[K     |███████████████████████████████▌| 1.0MB 45.9MB/s eta 0:00:01\r",
      "\u001b[K     |███████████████████████████████▉| 1.0MB 45.9MB/s eta 0:00:01\r",
      "\u001b[K     |████████████████████████████████| 1.0MB 45.9MB/s \n",
      "\u001b[?25hRequirement already satisfied: dataclasses; python_version < \"3.7\" in /usr/local/lib/python3.6/dist-packages (from transformers) (0.7)\n",
      "Requirement already satisfied: tqdm>=4.27 in /usr/local/lib/python3.6/dist-packages (from transformers) (4.38.0)\n",
      "Requirement already satisfied: requests in /usr/local/lib/python3.6/dist-packages (from transformers) (2.21.0)\n",
      "Collecting tokenizers==0.5.2\n",
      "\u001b[?25l  Downloading https://files.pythonhosted.org/packages/d1/3f/73c881ea4723e43c1e9acf317cf407fab3a278daab3a69c98dcac511c04f/tokenizers-0.5.2-cp36-cp36m-manylinux1_x86_64.whl (3.7MB)\n",
      "\u001b[K     |████████████████████████████████| 3.7MB 37.8MB/s \n",
      "\u001b[?25hRequirement already satisfied: numpy in /usr/local/lib/python3.6/dist-packages (from transformers) (1.18.2)\n",
      "Collecting sacremoses\n",
      "\u001b[?25l  Downloading https://files.pythonhosted.org/packages/99/50/93509f906a40bffd7d175f97fd75ea328ad9bd91f48f59c4bd084c94a25e/sacremoses-0.0.41.tar.gz (883kB)\n",
      "\u001b[K     |████████████████████████████████| 890kB 51.9MB/s \n",
      "\u001b[?25hRequirement already satisfied: boto3 in /usr/local/lib/python3.6/dist-packages (from transformers) (1.12.39)\n",
      "Requirement already satisfied: urllib3<1.25,>=1.21.1 in /usr/local/lib/python3.6/dist-packages (from requests->transformers) (1.24.3)\n",
      "Requirement already satisfied: certifi>=2017.4.17 in /usr/local/lib/python3.6/dist-packages (from requests->transformers) (2020.4.5.1)\n",
      "Requirement already satisfied: idna<2.9,>=2.5 in /usr/local/lib/python3.6/dist-packages (from requests->transformers) (2.8)\n",
      "Requirement already satisfied: chardet<3.1.0,>=3.0.2 in /usr/local/lib/python3.6/dist-packages (from requests->transformers) (3.0.4)\n",
      "Requirement already satisfied: six in /usr/local/lib/python3.6/dist-packages (from sacremoses->transformers) (1.12.0)\n",
      "Requirement already satisfied: click in /usr/local/lib/python3.6/dist-packages (from sacremoses->transformers) (7.1.1)\n",
      "Requirement already satisfied: joblib in /usr/local/lib/python3.6/dist-packages (from sacremoses->transformers) (0.14.1)\n",
      "Requirement already satisfied: jmespath<1.0.0,>=0.7.1 in /usr/local/lib/python3.6/dist-packages (from boto3->transformers) (0.9.5)\n",
      "Requirement already satisfied: s3transfer<0.4.0,>=0.3.0 in /usr/local/lib/python3.6/dist-packages (from boto3->transformers) (0.3.3)\n",
      "Requirement already satisfied: botocore<1.16.0,>=1.15.39 in /usr/local/lib/python3.6/dist-packages (from boto3->transformers) (1.15.39)\n",
      "Requirement already satisfied: python-dateutil<3.0.0,>=2.1 in /usr/local/lib/python3.6/dist-packages (from botocore<1.16.0,>=1.15.39->boto3->transformers) (2.8.1)\n",
      "Requirement already satisfied: docutils<0.16,>=0.10 in /usr/local/lib/python3.6/dist-packages (from botocore<1.16.0,>=1.15.39->boto3->transformers) (0.15.2)\n",
      "Building wheels for collected packages: sacremoses\n",
      "  Building wheel for sacremoses (setup.py) ... \u001b[?25l\u001b[?25hdone\n",
      "  Created wheel for sacremoses: filename=sacremoses-0.0.41-cp36-none-any.whl size=893334 sha256=4337aafafcdf6608fdff9ba22b79f7c54f5627fdfa9810694f57848919172343\n",
      "  Stored in directory: /root/.cache/pip/wheels/22/5a/d4/b020a81249de7dc63758a34222feaa668dbe8ebfe9170cc9b1\n",
      "Successfully built sacremoses\n",
      "Installing collected packages: sentencepiece, tokenizers, sacremoses, transformers\n",
      "Successfully installed sacremoses-0.0.41 sentencepiece-0.1.85 tokenizers-0.5.2 transformers-2.8.0\n"
     ]
    }
   ],
   "source": [
    "!pip install transformers"
   ]
  },
  {
   "cell_type": "code",
   "execution_count": 4,
   "metadata": {
    "colab": {
     "base_uri": "https://localhost:8080/",
     "height": 605
    },
    "colab_type": "code",
    "id": "ZHB5FMPlJJTX",
    "outputId": "5bd78128-7b94-47fb-ee04-6bb12265e8e6"
   },
   "outputs": [
    {
     "name": "stdout",
     "output_type": "stream",
     "text": [
      "Collecting pytorch_pretrained_bert\n",
      "\u001b[?25l  Downloading https://files.pythonhosted.org/packages/d7/e0/c08d5553b89973d9a240605b9c12404bcf8227590de62bae27acbcfe076b/pytorch_pretrained_bert-0.6.2-py3-none-any.whl (123kB)\n",
      "\r",
      "\u001b[K     |██▋                             | 10kB 23.0MB/s eta 0:00:01\r",
      "\u001b[K     |█████▎                          | 20kB 3.1MB/s eta 0:00:01\r",
      "\u001b[K     |████████                        | 30kB 4.5MB/s eta 0:00:01\r",
      "\u001b[K     |██████████▋                     | 40kB 3.0MB/s eta 0:00:01\r",
      "\u001b[K     |█████████████▎                  | 51kB 3.7MB/s eta 0:00:01\r",
      "\u001b[K     |███████████████▉                | 61kB 4.3MB/s eta 0:00:01\r",
      "\u001b[K     |██████████████████▌             | 71kB 5.0MB/s eta 0:00:01\r",
      "\u001b[K     |█████████████████████▏          | 81kB 3.9MB/s eta 0:00:01\r",
      "\u001b[K     |███████████████████████▉        | 92kB 4.4MB/s eta 0:00:01\r",
      "\u001b[K     |██████████████████████████▌     | 102kB 4.8MB/s eta 0:00:01\r",
      "\u001b[K     |█████████████████████████████▏  | 112kB 4.8MB/s eta 0:00:01\r",
      "\u001b[K     |███████████████████████████████▊| 122kB 4.8MB/s eta 0:00:01\r",
      "\u001b[K     |████████████████████████████████| 133kB 4.8MB/s \n",
      "\u001b[?25hCollecting tools\n",
      "  Downloading https://files.pythonhosted.org/packages/de/20/2a2dddb083fd0ce56b453cf016768b2c49f3c0194090500f78865b7d110c/tools-0.1.9.tar.gz\n",
      "Requirement already satisfied: regex in /usr/local/lib/python3.6/dist-packages (from pytorch_pretrained_bert) (2019.12.20)\n",
      "Requirement already satisfied: boto3 in /usr/local/lib/python3.6/dist-packages (from pytorch_pretrained_bert) (1.12.39)\n",
      "Requirement already satisfied: tqdm in /usr/local/lib/python3.6/dist-packages (from pytorch_pretrained_bert) (4.38.0)\n",
      "Requirement already satisfied: numpy in /usr/local/lib/python3.6/dist-packages (from pytorch_pretrained_bert) (1.18.2)\n",
      "Requirement already satisfied: requests in /usr/local/lib/python3.6/dist-packages (from pytorch_pretrained_bert) (2.21.0)\n",
      "Requirement already satisfied: torch>=0.4.1 in /usr/local/lib/python3.6/dist-packages (from pytorch_pretrained_bert) (1.4.0)\n",
      "Collecting pytils\n",
      "\u001b[?25l  Downloading https://files.pythonhosted.org/packages/c6/c1/12b556b5bb393ce5130d57af862d045f57fee764797c0fe837e49cb2a5da/pytils-0.3.tar.gz (89kB)\n",
      "\r",
      "\u001b[K     |███▋                            | 10kB 25.3MB/s eta 0:00:01\r",
      "\u001b[K     |███████▎                        | 20kB 28.4MB/s eta 0:00:01\r",
      "\u001b[K     |███████████                     | 30kB 32.8MB/s eta 0:00:01\r",
      "\u001b[K     |██████████████▋                 | 40kB 36.6MB/s eta 0:00:01\r",
      "\u001b[K     |██████████████████▎             | 51kB 38.1MB/s eta 0:00:01\r",
      "\u001b[K     |██████████████████████          | 61kB 40.4MB/s eta 0:00:01\r",
      "\u001b[K     |█████████████████████████▋      | 71kB 41.3MB/s eta 0:00:01\r",
      "\u001b[K     |█████████████████████████████▎  | 81kB 41.8MB/s eta 0:00:01\r",
      "\u001b[K     |████████████████████████████████| 92kB 11.0MB/s \n",
      "\u001b[?25hRequirement already satisfied: six in /usr/local/lib/python3.6/dist-packages (from tools) (1.12.0)\n",
      "Requirement already satisfied: lxml in /usr/local/lib/python3.6/dist-packages (from tools) (4.2.6)\n",
      "Requirement already satisfied: botocore<1.16.0,>=1.15.39 in /usr/local/lib/python3.6/dist-packages (from boto3->pytorch_pretrained_bert) (1.15.39)\n",
      "Requirement already satisfied: s3transfer<0.4.0,>=0.3.0 in /usr/local/lib/python3.6/dist-packages (from boto3->pytorch_pretrained_bert) (0.3.3)\n",
      "Requirement already satisfied: jmespath<1.0.0,>=0.7.1 in /usr/local/lib/python3.6/dist-packages (from boto3->pytorch_pretrained_bert) (0.9.5)\n",
      "Requirement already satisfied: idna<2.9,>=2.5 in /usr/local/lib/python3.6/dist-packages (from requests->pytorch_pretrained_bert) (2.8)\n",
      "Requirement already satisfied: chardet<3.1.0,>=3.0.2 in /usr/local/lib/python3.6/dist-packages (from requests->pytorch_pretrained_bert) (3.0.4)\n",
      "Requirement already satisfied: urllib3<1.25,>=1.21.1 in /usr/local/lib/python3.6/dist-packages (from requests->pytorch_pretrained_bert) (1.24.3)\n",
      "Requirement already satisfied: certifi>=2017.4.17 in /usr/local/lib/python3.6/dist-packages (from requests->pytorch_pretrained_bert) (2020.4.5.1)\n",
      "Requirement already satisfied: python-dateutil<3.0.0,>=2.1 in /usr/local/lib/python3.6/dist-packages (from botocore<1.16.0,>=1.15.39->boto3->pytorch_pretrained_bert) (2.8.1)\n",
      "Requirement already satisfied: docutils<0.16,>=0.10 in /usr/local/lib/python3.6/dist-packages (from botocore<1.16.0,>=1.15.39->boto3->pytorch_pretrained_bert) (0.15.2)\n",
      "Building wheels for collected packages: tools, pytils\n",
      "  Building wheel for tools (setup.py) ... \u001b[?25l\u001b[?25hdone\n",
      "  Created wheel for tools: filename=tools-0.1.9-cp36-none-any.whl size=46760 sha256=c17621f7c98d4803922d0a9df93dc503d52a76b788392030c699ed0c18fcf0aa\n",
      "  Stored in directory: /root/.cache/pip/wheels/87/67/9b/1ca7dcb0b9ebfdc23a00c85a0644abb6fb14f9159a0df8e067\n",
      "  Building wheel for pytils (setup.py) ... \u001b[?25l\u001b[?25hdone\n",
      "  Created wheel for pytils: filename=pytils-0.3-cp36-none-any.whl size=40355 sha256=9a5cf9c5be400e6b89f15c577ef82d8ebd8f72e12f79cbe909243d9d8395f93f\n",
      "  Stored in directory: /root/.cache/pip/wheels/d6/f9/dc/4f07d8ee40d9cfca9973b3f4aeff99d0bb69900e5f3dffbf32\n",
      "Successfully built tools pytils\n",
      "Installing collected packages: pytorch-pretrained-bert, pytils, tools\n",
      "Successfully installed pytils-0.3 pytorch-pretrained-bert-0.6.2 tools-0.1.9\n"
     ]
    }
   ],
   "source": [
    "!pip install pytorch_pretrained_bert tools"
   ]
  },
  {
   "cell_type": "code",
   "execution_count": 0,
   "metadata": {
    "colab": {},
    "colab_type": "code",
    "id": "XQOiExfuSp8Q"
   },
   "outputs": [],
   "source": [
    "from torch.utils.data.sampler import SubsetRandomSampler\n",
    "from torch.utils.data import random_split\n",
    "import torch.nn as nn"
   ]
  },
  {
   "cell_type": "code",
   "execution_count": 6,
   "metadata": {
    "colab": {
     "base_uri": "https://localhost:8080/",
     "height": 34
    },
    "colab_type": "code",
    "id": "ILBj0tMHYcu_",
    "outputId": "c5ca77d1-23f6-4055-fa36-7b71ceae3cd6"
   },
   "outputs": [
    {
     "name": "stdout",
     "output_type": "stream",
     "text": [
      "/content/drive/My Drive\n"
     ]
    }
   ],
   "source": [
    "cd /content/drive/My\\ Drive\n"
   ]
  },
  {
   "cell_type": "code",
   "execution_count": 0,
   "metadata": {
    "colab": {},
    "colab_type": "code",
    "id": "d4D11xtfkTQi"
   },
   "outputs": [],
   "source": []
  },
  {
   "cell_type": "code",
   "execution_count": 0,
   "metadata": {
    "colab": {},
    "colab_type": "code",
    "id": "dWBfSKe2kVIE"
   },
   "outputs": [],
   "source": []
  },
  {
   "cell_type": "code",
   "execution_count": 7,
   "metadata": {
    "colab": {
     "base_uri": "https://localhost:8080/",
     "height": 386
    },
    "colab_type": "code",
    "id": "O66tK2J2kdnn",
    "outputId": "5629a585-27b4-4935-be03-a4ff042a63e8"
   },
   "outputs": [
    {
     "name": "stdout",
     "output_type": "stream",
     "text": [
      "Collecting contractions\n",
      "  Downloading https://files.pythonhosted.org/packages/85/41/c3dfd5feb91a8d587ed1a59f553f07c05f95ad4e5d00ab78702fbf8fe48a/contractions-0.0.24-py2.py3-none-any.whl\n",
      "Collecting textsearch\n",
      "  Downloading https://files.pythonhosted.org/packages/42/a8/03407021f9555043de5492a2bd7a35c56cc03c2510092b5ec018cae1bbf1/textsearch-0.0.17-py2.py3-none-any.whl\n",
      "Collecting pyahocorasick\n",
      "\u001b[?25l  Downloading https://files.pythonhosted.org/packages/f4/9f/f0d8e8850e12829eea2e778f1c90e3c53a9a799b7f412082a5d21cd19ae1/pyahocorasick-1.4.0.tar.gz (312kB)\n",
      "\u001b[K     |████████████████████████████████| 317kB 6.8MB/s \n",
      "\u001b[?25hCollecting Unidecode\n",
      "\u001b[?25l  Downloading https://files.pythonhosted.org/packages/d0/42/d9edfed04228bacea2d824904cae367ee9efd05e6cce7ceaaedd0b0ad964/Unidecode-1.1.1-py2.py3-none-any.whl (238kB)\n",
      "\u001b[K     |████████████████████████████████| 245kB 52.1MB/s \n",
      "\u001b[?25hBuilding wheels for collected packages: pyahocorasick\n",
      "  Building wheel for pyahocorasick (setup.py) ... \u001b[?25l\u001b[?25hdone\n",
      "  Created wheel for pyahocorasick: filename=pyahocorasick-1.4.0-cp36-cp36m-linux_x86_64.whl size=81702 sha256=6e5645c5aafc5ac9da570aa1312b3a2e06527f24f4760db6173dcc79386e3916\n",
      "  Stored in directory: /root/.cache/pip/wheels/0a/90/61/87a55f5b459792fbb2b7ba6b31721b06ff5cf6bde541b40994\n",
      "Successfully built pyahocorasick\n",
      "Installing collected packages: pyahocorasick, Unidecode, textsearch, contractions\n",
      "Successfully installed Unidecode-1.1.1 contractions-0.0.24 pyahocorasick-1.4.0 textsearch-0.0.17\n",
      "Requirement already satisfied: inflect in /usr/local/lib/python3.6/dist-packages (2.1.0)\n",
      "Collecting fuzzywuzzy\n",
      "  Downloading https://files.pythonhosted.org/packages/43/ff/74f23998ad2f93b945c0309f825be92e04e0348e062026998b5eefef4c33/fuzzywuzzy-0.18.0-py2.py3-none-any.whl\n",
      "Installing collected packages: fuzzywuzzy\n",
      "Successfully installed fuzzywuzzy-0.18.0\n"
     ]
    }
   ],
   "source": [
    "!pip install contractions\n",
    "!pip install inflect\n",
    "!pip install fuzzywuzzy\n",
    "\n",
    "#text preprocess file\n",
    "import unicodedata\n",
    "import contractions  \n",
    "import inflect       \n",
    "from nltk import sent_tokenize\n",
    "from nltk.corpus import stopwords\n",
    "from nltk.stem import PorterStemmer\n",
    "from nltk.stem import WordNetLemmatizer\n",
    "\n",
    "\n",
    "def replace_contractions(text):\n",
    "    \"\"\"Replace contractions in string of text\"\"\"\n",
    "    return contractions.fix(text)\n",
    "\n",
    "def remove_non_ascii(words):\n",
    "    \"\"\"Remove non-ASCII characters from list of tokenized words\"\"\"\n",
    "    new_words = []\n",
    "    for word in words:\n",
    "        new_word = unicodedata.normalize('NFKD', word).encode('ascii', 'ignore').decode('utf-8', 'ignore')\n",
    "        new_words.append(new_word)\n",
    "    return new_words\n",
    "\n",
    "def remove_punctuation(words):\n",
    "    \"\"\"Remove punctuation from list of tokenized words\"\"\"\n",
    "    new_words = []\n",
    "    for word in words:\n",
    "        new_word = re.sub(r'[^\\w\\s]', '', word)\n",
    "        if new_word != '':\n",
    "            new_words.append(new_word)\n",
    "    return new_words\n",
    "\n",
    "def to_lowercase(words):\n",
    "    \"\"\"Convert all characters to lowercase from list of tokenized words\"\"\"\n",
    "    new_words = []\n",
    "    for word in words:\n",
    "        new_word = word.lower()\n",
    "        new_words.append(new_word)\n",
    "    return new_words\n",
    "\n",
    "\n",
    "def replace_numbers(words):\n",
    "    \"\"\"Replace all interger occurrences in list of tokenized words with textual representation\"\"\"\n",
    "    p = inflect.engine()\n",
    "    new_words = []\n",
    "    for word in words:\n",
    "        if word.isdigit():\n",
    "            new_word = p.number_to_words(word)\n",
    "            new_words.append(new_word)\n",
    "        else:\n",
    "            new_words.append(word)\n",
    "    return new_words\n",
    "\n"
   ]
  },
  {
   "cell_type": "code",
   "execution_count": 0,
   "metadata": {
    "colab": {},
    "colab_type": "code",
    "id": "yFppa-Eckg7u"
   },
   "outputs": [],
   "source": [
    "import warnings\n",
    "warnings.filterwarnings(\"ignore\")\n",
    "import re\n",
    "def clean_tweet(tweet): #remove user name, special characters and urls\n",
    "    tweet = str(tweet)\n",
    "    # removing urls\n",
    "    tweet = re.sub(r'https?://\\S+',' ',tweet)\n",
    "    # removing RTs\n",
    "    tweet = re.sub('RT @[A-Za-z0-9_]+: ', '', tweet)\n",
    "    # removing user names\n",
    "    user_names = re.findall(r\"(@[A-Za-z0-9_]+)\", tweet)\n",
    "    #iterating to remove multiple user names\n",
    "    for i in user_names:\n",
    "        tweet = re.sub(i,' ', tweet)\n",
    "    # replacing the special characters and numbers\n",
    "    tweet = re.sub(r'([^A-Za-z\\s])',' ',tweet)\n",
    "    #replacing multiple spaces in to a single space\n",
    "    tweet = re.sub(' +',' ', tweet)\n",
    "    return tweet\n",
    "  \n",
    "#removing the altmeric word in article name\n",
    "def remove_alt(article_name):\n",
    "    k = article_name.split()\n",
    "    if(k[0]==\"Altmetric\"):\n",
    "        a = k[2:]\n",
    "        article_name = ' '.join(a)\n",
    "    return article_name"
   ]
  },
  {
   "cell_type": "code",
   "execution_count": 0,
   "metadata": {
    "colab": {},
    "colab_type": "code",
    "id": "le_gkZ5Kx04o"
   },
   "outputs": [],
   "source": [
    "import re            \n",
    "def insert_mask(tweet,title):\n",
    "    tweet=str(tweet)\n",
    "    title=str(title)\n",
    "    mat = re.match(title,tweet)\n",
    "    if mat:\n",
    "        new_tweet = tweet.replace(title,' ArticleTitle ')\n",
    "    else:\n",
    "        new_tweet = tweet\n",
    "    return new_tweet"
   ]
  },
  {
   "cell_type": "code",
   "execution_count": 0,
   "metadata": {
    "colab": {},
    "colab_type": "code",
    "id": "nR7Egb98yBfV"
   },
   "outputs": [],
   "source": [
    "def preprocess(text):\n",
    "    text = replace_contractions(text)\n",
    "    content = nltk.word_tokenize(text)\n",
    "    words = remove_non_ascii(content)\n",
    "    words = to_lowercase(content)\n",
    "    words = remove_punctuation(words)\n",
    "    text = ' '.join(words)\n",
    "    return text"
   ]
  },
  {
   "cell_type": "code",
   "execution_count": 0,
   "metadata": {
    "colab": {},
    "colab_type": "code",
    "id": "ekKZYES-zgJm"
   },
   "outputs": [],
   "source": []
  },
  {
   "cell_type": "code",
   "execution_count": 0,
   "metadata": {
    "colab": {},
    "colab_type": "code",
    "id": "CTqrRs78zgdD"
   },
   "outputs": [],
   "source": []
  },
  {
   "cell_type": "code",
   "execution_count": 11,
   "metadata": {
    "colab": {
     "base_uri": "https://localhost:8080/",
     "height": 67
    },
    "colab_type": "code",
    "id": "ap1iwF5wzgp7",
    "outputId": "291447ce-0060-4334-c0b2-0af1a025ca9b"
   },
   "outputs": [
    {
     "name": "stdout",
     "output_type": "stream",
     "text": [
      "[nltk_data] Downloading package punkt to /root/nltk_data...\n",
      "[nltk_data]   Unzipping tokenizers/punkt.zip.\n"
     ]
    },
    {
     "data": {
      "text/plain": [
       "True"
      ]
     },
     "execution_count": 11,
     "metadata": {
      "tags": []
     },
     "output_type": "execute_result"
    }
   ],
   "source": [
    "import nltk\n",
    "nltk.download('punkt')"
   ]
  },
  {
   "cell_type": "code",
   "execution_count": 0,
   "metadata": {
    "colab": {},
    "colab_type": "code",
    "id": "s8X4g3XBKZiP"
   },
   "outputs": [],
   "source": [
    "import pandas as pd\n"
   ]
  },
  {
   "cell_type": "code",
   "execution_count": 0,
   "metadata": {
    "colab": {},
    "colab_type": "code",
    "id": "QlTjS0jVkmkG"
   },
   "outputs": [],
   "source": [
    "import pandas as pd\n",
    "xls = pd.ExcelFile('dataset.xlsx')\n",
    "neg_df = pd.read_excel(xls, 'negative')\n",
    "pos_df = pd.read_excel(xls, 'positive')\n",
    "neu_df = pd.read_excel(xls, 'neutral')"
   ]
  },
  {
   "cell_type": "code",
   "execution_count": 14,
   "metadata": {
    "colab": {
     "base_uri": "https://localhost:8080/",
     "height": 67
    },
    "colab_type": "code",
    "id": "gK9waloLkmw6",
    "outputId": "731a7e62-3213-48c9-eef0-f2817433015c"
   },
   "outputs": [
    {
     "name": "stdout",
     "output_type": "stream",
     "text": [
      "1139\n",
      "1200\n",
      "3523\n"
     ]
    }
   ],
   "source": [
    "from sklearn.utils import shuffle\n",
    "neg_df = shuffle(neg_df)\n",
    "pos_df = shuffle(pos_df)\n",
    "neu_df = shuffle(neu_df)\n",
    "print(len(neg_df))\n",
    "print(len(pos_df))\n",
    "print(len(neu_df))\n"
   ]
  },
  {
   "cell_type": "code",
   "execution_count": 0,
   "metadata": {
    "colab": {},
    "colab_type": "code",
    "id": "FQ_Ykq8ekm95"
   },
   "outputs": [],
   "source": [
    "neg_df.reset_index(drop=True, inplace= True)\n",
    "pos_df.reset_index(drop=True, inplace= True)\n",
    "neu_df.reset_index(drop=True, inplace= True)"
   ]
  },
  {
   "cell_type": "code",
   "execution_count": 16,
   "metadata": {
    "colab": {
     "base_uri": "https://localhost:8080/",
     "height": 67
    },
    "colab_type": "code",
    "id": "4KM6RUI7knOO",
    "outputId": "b1b2d3ab-4e0f-427e-9e98-282693166246"
   },
   "outputs": [
    {
     "name": "stdout",
     "output_type": "stream",
     "text": [
      "989\n",
      "1000\n",
      "3000\n"
     ]
    }
   ],
   "source": [
    "neg_val_df = neg_df[:150]\n",
    "neg_train_df = neg_df[150:]\n",
    "pos_val_df = pos_df[:150]\n",
    "pos_train_df = pos_df[150:1150]\n",
    "neu_val_df = neu_df[:450]\n",
    "neu_train_df = neu_df[450:3450]\n",
    "print(len(neg_train_df))\n",
    "print(len(pos_train_df))\n",
    "print(len(neu_train_df))"
   ]
  },
  {
   "cell_type": "code",
   "execution_count": 17,
   "metadata": {
    "colab": {
     "base_uri": "https://localhost:8080/",
     "height": 34
    },
    "colab_type": "code",
    "id": "f1OiH-qoxYEv",
    "outputId": "34a6ff7a-cc09-4fb2-8f12-f9595639c765"
   },
   "outputs": [
    {
     "data": {
      "text/plain": [
       "(1000, 3)"
      ]
     },
     "execution_count": 17,
     "metadata": {
      "tags": []
     },
     "output_type": "execute_result"
    }
   ],
   "source": [
    "from sklearn.utils import resample\n",
    "neg_train_df_sampled = resample(neg_train_df, \n",
    "                                 replace=True,     # sample with replacement\n",
    "                                 n_samples=1000)   # to match majority class\n",
    "                                 \n",
    "\n",
    "\n",
    "neg_train_df_sampled.shape"
   ]
  },
  {
   "cell_type": "code",
   "execution_count": 0,
   "metadata": {
    "colab": {},
    "colab_type": "code",
    "id": "xGqjQ-Nakm6_"
   },
   "outputs": [],
   "source": [
    "train_df = neg_train_df_sampled.append(pos_train_df, ignore_index= True)\n",
    "train_df = train_df.append(neu_train_df, ignore_index= True)"
   ]
  },
  {
   "cell_type": "code",
   "execution_count": 0,
   "metadata": {
    "colab": {},
    "colab_type": "code",
    "id": "VkhxLv_wkm4X"
   },
   "outputs": [],
   "source": [
    "test_df = neg_val_df.append(pos_val_df, ignore_index= True)\n",
    "test_df = test_df.append(neu_val_df, ignore_index= True)"
   ]
  },
  {
   "cell_type": "code",
   "execution_count": 0,
   "metadata": {
    "colab": {},
    "colab_type": "code",
    "id": "Pfgnh5_Wkm1z"
   },
   "outputs": [],
   "source": []
  },
  {
   "cell_type": "code",
   "execution_count": 20,
   "metadata": {
    "colab": {
     "base_uri": "https://localhost:8080/",
     "height": 195
    },
    "colab_type": "code",
    "id": "a4YZoUe590B1",
    "outputId": "c06f0159-d515-44da-cda1-402c664ef9e1"
   },
   "outputs": [
    {
     "data": {
      "text/html": [
       "<div>\n",
       "<style scoped>\n",
       "    .dataframe tbody tr th:only-of-type {\n",
       "        vertical-align: middle;\n",
       "    }\n",
       "\n",
       "    .dataframe tbody tr th {\n",
       "        vertical-align: top;\n",
       "    }\n",
       "\n",
       "    .dataframe thead th {\n",
       "        text-align: right;\n",
       "    }\n",
       "</style>\n",
       "<table border=\"1\" class=\"dataframe\">\n",
       "  <thead>\n",
       "    <tr style=\"text-align: right;\">\n",
       "      <th></th>\n",
       "      <th>tweets</th>\n",
       "      <th>sentiment</th>\n",
       "      <th>article_title</th>\n",
       "    </tr>\n",
       "  </thead>\n",
       "  <tbody>\n",
       "    <tr>\n",
       "      <th>0</th>\n",
       "      <td>RT @drdhanlon: The PSA Dilemma just got worse ...</td>\n",
       "      <td>-1</td>\n",
       "      <td>Altmetric – 10-Year Outcomes after Monitoring,...</td>\n",
       "    </tr>\n",
       "    <tr>\n",
       "      <th>1</th>\n",
       "      <td>More tiny \"risks\" from cohort studies that usu...</td>\n",
       "      <td>-1</td>\n",
       "      <td>intake of individual saturated fatty acids and...</td>\n",
       "    </tr>\n",
       "    <tr>\n",
       "      <th>2</th>\n",
       "      <td>The shame, blame, guilt game is lazy and also ...</td>\n",
       "      <td>-1</td>\n",
       "      <td>why are some population interventions for diet...</td>\n",
       "    </tr>\n",
       "    <tr>\n",
       "      <th>3</th>\n",
       "      <td>Frustratingly timely @JAMAInternalMed @HIPRC s...</td>\n",
       "      <td>-1</td>\n",
       "      <td>use of firearms in terrorist attacks</td>\n",
       "    </tr>\n",
       "    <tr>\n",
       "      <th>4</th>\n",
       "      <td>RT @MarteauTM: Great framework from @BathTR de...</td>\n",
       "      <td>-1</td>\n",
       "      <td>the policy dystopia model an interpretive anal...</td>\n",
       "    </tr>\n",
       "  </tbody>\n",
       "</table>\n",
       "</div>"
      ],
      "text/plain": [
       "                                              tweets  ...                                      article_title\n",
       "0  RT @drdhanlon: The PSA Dilemma just got worse ...  ...  Altmetric – 10-Year Outcomes after Monitoring,...\n",
       "1  More tiny \"risks\" from cohort studies that usu...  ...  intake of individual saturated fatty acids and...\n",
       "2  The shame, blame, guilt game is lazy and also ...  ...  why are some population interventions for diet...\n",
       "3  Frustratingly timely @JAMAInternalMed @HIPRC s...  ...               use of firearms in terrorist attacks\n",
       "4  RT @MarteauTM: Great framework from @BathTR de...  ...  the policy dystopia model an interpretive anal...\n",
       "\n",
       "[5 rows x 3 columns]"
      ]
     },
     "execution_count": 20,
     "metadata": {
      "tags": []
     },
     "output_type": "execute_result"
    }
   ],
   "source": [
    "train_df.head()"
   ]
  },
  {
   "cell_type": "code",
   "execution_count": 21,
   "metadata": {
    "colab": {
     "base_uri": "https://localhost:8080/",
     "height": 195
    },
    "colab_type": "code",
    "id": "IuGjMvyAp-B3",
    "outputId": "4649a57d-afcd-4fc1-b569-dfc83958885a"
   },
   "outputs": [
    {
     "data": {
      "text/html": [
       "<div>\n",
       "<style scoped>\n",
       "    .dataframe tbody tr th:only-of-type {\n",
       "        vertical-align: middle;\n",
       "    }\n",
       "\n",
       "    .dataframe tbody tr th {\n",
       "        vertical-align: top;\n",
       "    }\n",
       "\n",
       "    .dataframe thead th {\n",
       "        text-align: right;\n",
       "    }\n",
       "</style>\n",
       "<table border=\"1\" class=\"dataframe\">\n",
       "  <thead>\n",
       "    <tr style=\"text-align: right;\">\n",
       "      <th></th>\n",
       "      <th>tweets</th>\n",
       "      <th>sentiment</th>\n",
       "      <th>article_title</th>\n",
       "    </tr>\n",
       "  </thead>\n",
       "  <tbody>\n",
       "    <tr>\n",
       "      <th>0</th>\n",
       "      <td>Millions in need of humanitarian assistance in...</td>\n",
       "      <td>-1</td>\n",
       "      <td>millions in need of humanitarian assistance in...</td>\n",
       "    </tr>\n",
       "    <tr>\n",
       "      <th>1</th>\n",
       "      <td>Disappointing result https://t.co/dRvEDxITIl</td>\n",
       "      <td>-1</td>\n",
       "      <td>outcomes of a coachingbased who safe childbirt...</td>\n",
       "    </tr>\n",
       "    <tr>\n",
       "      <th>2</th>\n",
       "      <td>Detaining patients who are unable to pay their...</td>\n",
       "      <td>-1</td>\n",
       "      <td>make detaining patients who can not pay their ...</td>\n",
       "    </tr>\n",
       "    <tr>\n",
       "      <th>3</th>\n",
       "      <td>RT @SteveJoffe: Equipoise is a flawed norm for...</td>\n",
       "      <td>-1</td>\n",
       "      <td>conveying equipoise during recruitment for cli...</td>\n",
       "    </tr>\n",
       "    <tr>\n",
       "      <th>4</th>\n",
       "      <td>When a hospital becomes a prison - \"Detention ...</td>\n",
       "      <td>-1</td>\n",
       "      <td>when a hospital becomes a prison</td>\n",
       "    </tr>\n",
       "  </tbody>\n",
       "</table>\n",
       "</div>"
      ],
      "text/plain": [
       "                                              tweets  ...                                      article_title\n",
       "0  Millions in need of humanitarian assistance in...  ...  millions in need of humanitarian assistance in...\n",
       "1       Disappointing result https://t.co/dRvEDxITIl  ...  outcomes of a coachingbased who safe childbirt...\n",
       "2  Detaining patients who are unable to pay their...  ...  make detaining patients who can not pay their ...\n",
       "3  RT @SteveJoffe: Equipoise is a flawed norm for...  ...  conveying equipoise during recruitment for cli...\n",
       "4  When a hospital becomes a prison - \"Detention ...  ...                   when a hospital becomes a prison\n",
       "\n",
       "[5 rows x 3 columns]"
      ]
     },
     "execution_count": 21,
     "metadata": {
      "tags": []
     },
     "output_type": "execute_result"
    }
   ],
   "source": [
    "test_df.head()"
   ]
  },
  {
   "cell_type": "code",
   "execution_count": 0,
   "metadata": {
    "colab": {},
    "colab_type": "code",
    "id": "xNKwKOVAjZsB"
   },
   "outputs": [],
   "source": []
  },
  {
   "cell_type": "code",
   "execution_count": 0,
   "metadata": {
    "colab": {},
    "colab_type": "code",
    "id": "fI5V8xwYmm7K"
   },
   "outputs": [],
   "source": []
  },
  {
   "cell_type": "code",
   "execution_count": 0,
   "metadata": {
    "colab": {},
    "colab_type": "code",
    "id": "E39A67pRjffR"
   },
   "outputs": [],
   "source": [
    "train_df['tweets']=train_df['tweets'].apply(clean_tweet)\n",
    "train_df['tweets']=train_df['tweets'].apply(preprocess)\n",
    "train_df['article_title']=train_df['article_title'].apply(clean_tweet)\n",
    "train_df['article_title']=train_df['article_title'].apply(preprocess)\n"
   ]
  },
  {
   "cell_type": "code",
   "execution_count": 0,
   "metadata": {
    "colab": {},
    "colab_type": "code",
    "id": "qbetlwJTz-Kw"
   },
   "outputs": [],
   "source": [
    "test_df['tweets']=test_df['tweets'].apply(clean_tweet)\n",
    "test_df['tweets']=test_df['tweets'].apply(preprocess)\n",
    "test_df['article_title']=test_df['article_title'].apply(clean_tweet)\n",
    "test_df['article_title']=test_df['article_title'].apply(preprocess)\n"
   ]
  },
  {
   "cell_type": "code",
   "execution_count": 0,
   "metadata": {
    "colab": {},
    "colab_type": "code",
    "id": "DfpvlySJz-PC"
   },
   "outputs": [],
   "source": []
  },
  {
   "cell_type": "code",
   "execution_count": 0,
   "metadata": {
    "colab": {},
    "colab_type": "code",
    "id": "OshXVK8RqqEZ"
   },
   "outputs": [],
   "source": []
  },
  {
   "cell_type": "code",
   "execution_count": 0,
   "metadata": {
    "colab": {},
    "colab_type": "code",
    "id": "fxdAMtYOz-T-"
   },
   "outputs": [],
   "source": [
    "masked_tweet = []\n",
    "for tweet, title in zip(train_df['tweets'], train_df['article_title']):\n",
    "    new1_tweet = insert_mask(tweet,title)\n",
    "    masked_tweet.append(new1_tweet)\n"
   ]
  },
  {
   "cell_type": "code",
   "execution_count": 0,
   "metadata": {
    "colab": {},
    "colab_type": "code",
    "id": "hZ0ARuzBullM"
   },
   "outputs": [],
   "source": []
  },
  {
   "cell_type": "code",
   "execution_count": 0,
   "metadata": {
    "colab": {},
    "colab_type": "code",
    "id": "iBJcK_hkz-Wa"
   },
   "outputs": [],
   "source": [
    "train_df['masked_tweets'] = masked_tweet"
   ]
  },
  {
   "cell_type": "code",
   "execution_count": 0,
   "metadata": {
    "colab": {},
    "colab_type": "code",
    "id": "Ww1jDnBjz-Yv"
   },
   "outputs": [],
   "source": [
    "masked_tweet = []\n",
    "for tweet, title in zip(test_df['tweets'], test_df['article_title']):\n",
    "    new1_tweet = insert_mask(tweet,title)\n",
    "    masked_tweet.append(new1_tweet)\n"
   ]
  },
  {
   "cell_type": "code",
   "execution_count": 0,
   "metadata": {
    "colab": {},
    "colab_type": "code",
    "id": "6HRDVpNPz-dz"
   },
   "outputs": [],
   "source": [
    "test_df['masked_tweets'] = masked_tweet"
   ]
  },
  {
   "cell_type": "code",
   "execution_count": 28,
   "metadata": {
    "colab": {
     "base_uri": "https://localhost:8080/",
     "height": 195
    },
    "colab_type": "code",
    "id": "ct51l1Zj_k4z",
    "outputId": "cf3ff3a3-e714-4e2b-f8dd-fbbd6854261a"
   },
   "outputs": [
    {
     "data": {
      "text/html": [
       "<div>\n",
       "<style scoped>\n",
       "    .dataframe tbody tr th:only-of-type {\n",
       "        vertical-align: middle;\n",
       "    }\n",
       "\n",
       "    .dataframe tbody tr th {\n",
       "        vertical-align: top;\n",
       "    }\n",
       "\n",
       "    .dataframe thead th {\n",
       "        text-align: right;\n",
       "    }\n",
       "</style>\n",
       "<table border=\"1\" class=\"dataframe\">\n",
       "  <thead>\n",
       "    <tr style=\"text-align: right;\">\n",
       "      <th></th>\n",
       "      <th>tweets</th>\n",
       "      <th>sentiment</th>\n",
       "      <th>article_title</th>\n",
       "      <th>masked_tweets</th>\n",
       "    </tr>\n",
       "  </thead>\n",
       "  <tbody>\n",
       "    <tr>\n",
       "      <th>0</th>\n",
       "      <td>millions in need of humanitarian assistance in...</td>\n",
       "      <td>-1</td>\n",
       "      <td>millions in need of humanitarian assistance in...</td>\n",
       "      <td>ArticleTitle  sharmila devi published decembe...</td>\n",
       "    </tr>\n",
       "    <tr>\n",
       "      <th>1</th>\n",
       "      <td>disappointing result</td>\n",
       "      <td>-1</td>\n",
       "      <td>outcomes of a coachingbased who safe childbirt...</td>\n",
       "      <td>disappointing result</td>\n",
       "    </tr>\n",
       "    <tr>\n",
       "      <th>2</th>\n",
       "      <td>detaining patients who are unable to pay their...</td>\n",
       "      <td>-1</td>\n",
       "      <td>make detaining patients who can not pay their ...</td>\n",
       "      <td>detaining patients who are unable to pay their...</td>\n",
       "    </tr>\n",
       "    <tr>\n",
       "      <th>3</th>\n",
       "      <td>equipoise is a flawed norm for clinicaltrials ...</td>\n",
       "      <td>-1</td>\n",
       "      <td>conveying equipoise during recruitment for cli...</td>\n",
       "      <td>equipoise is a flawed norm for clinicaltrials ...</td>\n",
       "    </tr>\n",
       "    <tr>\n",
       "      <th>4</th>\n",
       "      <td>when a hospital becomes a prison detention see...</td>\n",
       "      <td>-1</td>\n",
       "      <td>when a hospital becomes a prison</td>\n",
       "      <td>ArticleTitle  detention seems to be most comm...</td>\n",
       "    </tr>\n",
       "  </tbody>\n",
       "</table>\n",
       "</div>"
      ],
      "text/plain": [
       "                                              tweets  ...                                      masked_tweets\n",
       "0  millions in need of humanitarian assistance in...  ...   ArticleTitle  sharmila devi published decembe...\n",
       "1                               disappointing result  ...                               disappointing result\n",
       "2  detaining patients who are unable to pay their...  ...  detaining patients who are unable to pay their...\n",
       "3  equipoise is a flawed norm for clinicaltrials ...  ...  equipoise is a flawed norm for clinicaltrials ...\n",
       "4  when a hospital becomes a prison detention see...  ...   ArticleTitle  detention seems to be most comm...\n",
       "\n",
       "[5 rows x 4 columns]"
      ]
     },
     "execution_count": 28,
     "metadata": {
      "tags": []
     },
     "output_type": "execute_result"
    }
   ],
   "source": [
    "test_df.head()"
   ]
  },
  {
   "cell_type": "code",
   "execution_count": 0,
   "metadata": {
    "colab": {},
    "colab_type": "code",
    "id": "FrfPl6Kgz-hV"
   },
   "outputs": [],
   "source": [
    "from sklearn import model_selection"
   ]
  },
  {
   "cell_type": "code",
   "execution_count": 0,
   "metadata": {
    "colab": {},
    "colab_type": "code",
    "id": "7Rr673JUt8nL"
   },
   "outputs": [],
   "source": [
    "newtrain_df, valid_df = model_selection.train_test_split(\n",
    "        train_df,\n",
    "        test_size=0.1,\n",
    "        random_state=42,\n",
    "        stratify=train_df.sentiment.values\n",
    "    )"
   ]
  },
  {
   "cell_type": "code",
   "execution_count": 0,
   "metadata": {
    "colab": {},
    "colab_type": "code",
    "id": "p0HoF7_uz-bk"
   },
   "outputs": [],
   "source": [
    "newtrain_df = newtrain_df.reset_index(drop=True)\n",
    "valid_df = valid_df.reset_index(drop=True)"
   ]
  },
  {
   "cell_type": "code",
   "execution_count": 32,
   "metadata": {
    "colab": {
     "base_uri": "https://localhost:8080/",
     "height": 34
    },
    "colab_type": "code",
    "id": "nEgJTvsjz-SQ",
    "outputId": "dce6da73-52f6-474d-dd54-bc02e592d623"
   },
   "outputs": [
    {
     "data": {
      "text/plain": [
       "(4500, 4)"
      ]
     },
     "execution_count": 32,
     "metadata": {
      "tags": []
     },
     "output_type": "execute_result"
    }
   ],
   "source": [
    "newtrain_df.shape"
   ]
  },
  {
   "cell_type": "code",
   "execution_count": 33,
   "metadata": {
    "colab": {
     "base_uri": "https://localhost:8080/",
     "height": 34
    },
    "colab_type": "code",
    "id": "r8YNEz5JgPma",
    "outputId": "1075583a-ed65-49ad-d013-d923554d1299"
   },
   "outputs": [
    {
     "data": {
      "text/plain": [
       "(500, 4)"
      ]
     },
     "execution_count": 33,
     "metadata": {
      "tags": []
     },
     "output_type": "execute_result"
    }
   ],
   "source": [
    "valid_df.shape"
   ]
  },
  {
   "cell_type": "code",
   "execution_count": 34,
   "metadata": {
    "colab": {
     "base_uri": "https://localhost:8080/",
     "height": 34
    },
    "colab_type": "code",
    "id": "af8ghEKYgQ2A",
    "outputId": "d645213f-5dff-4131-93cd-a9481f602c42"
   },
   "outputs": [
    {
     "data": {
      "text/plain": [
       "300"
      ]
     },
     "execution_count": 34,
     "metadata": {
      "tags": []
     },
     "output_type": "execute_result"
    }
   ],
   "source": [
    "valid_df[valid_df.sentiment==0].shape[0]"
   ]
  },
  {
   "cell_type": "code",
   "execution_count": 35,
   "metadata": {
    "colab": {
     "base_uri": "https://localhost:8080/",
     "height": 195
    },
    "colab_type": "code",
    "id": "o3sm4b8thGwk",
    "outputId": "c943c47d-f64b-4143-e0ca-960fbc62cb03"
   },
   "outputs": [
    {
     "data": {
      "text/html": [
       "<div>\n",
       "<style scoped>\n",
       "    .dataframe tbody tr th:only-of-type {\n",
       "        vertical-align: middle;\n",
       "    }\n",
       "\n",
       "    .dataframe tbody tr th {\n",
       "        vertical-align: top;\n",
       "    }\n",
       "\n",
       "    .dataframe thead th {\n",
       "        text-align: right;\n",
       "    }\n",
       "</style>\n",
       "<table border=\"1\" class=\"dataframe\">\n",
       "  <thead>\n",
       "    <tr style=\"text-align: right;\">\n",
       "      <th></th>\n",
       "      <th>tweets</th>\n",
       "      <th>sentiment</th>\n",
       "      <th>article_title</th>\n",
       "      <th>masked_tweets</th>\n",
       "    </tr>\n",
       "  </thead>\n",
       "  <tbody>\n",
       "    <tr>\n",
       "      <th>0</th>\n",
       "      <td>here is our beat hf article remote patient mon...</td>\n",
       "      <td>0</td>\n",
       "      <td>effectiveness of remote patient monitoring aft...</td>\n",
       "      <td>here is our beat hf article remote patient mon...</td>\n",
       "    </tr>\n",
       "    <tr>\n",
       "      <th>1</th>\n",
       "      <td>anzac group down under thankfully prove what s...</td>\n",
       "      <td>1</td>\n",
       "      <td>acetaminophen for fever in critically i will p...</td>\n",
       "      <td>anzac group down under thankfully prove what s...</td>\n",
       "    </tr>\n",
       "    <tr>\n",
       "      <th>2</th>\n",
       "      <td>tp and decitabine in acute myeloid leukemia an...</td>\n",
       "      <td>0</td>\n",
       "      <td>tp and decitabine in acute myeloid leukemia an...</td>\n",
       "      <td>ArticleTitle</td>\n",
       "    </tr>\n",
       "    <tr>\n",
       "      <th>3</th>\n",
       "      <td>interesting comparative research on alcohol an...</td>\n",
       "      <td>1</td>\n",
       "      <td>effects of decreases of animal pollinators on ...</td>\n",
       "      <td>interesting comparative research on alcohol an...</td>\n",
       "    </tr>\n",
       "    <tr>\n",
       "      <th>4</th>\n",
       "      <td>babies are twice as likely to die during plann...</td>\n",
       "      <td>-1</td>\n",
       "      <td>planned outofhospital birth and birth outcomes</td>\n",
       "      <td>babies are twice as likely to die during plann...</td>\n",
       "    </tr>\n",
       "  </tbody>\n",
       "</table>\n",
       "</div>"
      ],
      "text/plain": [
       "                                              tweets  ...                                      masked_tweets\n",
       "0  here is our beat hf article remote patient mon...  ...  here is our beat hf article remote patient mon...\n",
       "1  anzac group down under thankfully prove what s...  ...  anzac group down under thankfully prove what s...\n",
       "2  tp and decitabine in acute myeloid leukemia an...  ...                                      ArticleTitle \n",
       "3  interesting comparative research on alcohol an...  ...  interesting comparative research on alcohol an...\n",
       "4  babies are twice as likely to die during plann...  ...  babies are twice as likely to die during plann...\n",
       "\n",
       "[5 rows x 4 columns]"
      ]
     },
     "execution_count": 35,
     "metadata": {
      "tags": []
     },
     "output_type": "execute_result"
    }
   ],
   "source": [
    "newtrain_df.head()"
   ]
  },
  {
   "cell_type": "code",
   "execution_count": 0,
   "metadata": {
    "colab": {},
    "colab_type": "code",
    "id": "kzRuKtzMjjaf"
   },
   "outputs": [],
   "source": [
    "train_df_bert = pd.DataFrame({\n",
    "    'id':range(len(newtrain_df)),\n",
    "    'label':newtrain_df['sentiment'],\n",
    "    'alpha':['a']*newtrain_df.shape[0],\n",
    "    'text': newtrain_df['masked_tweets'].replace(r'\\n', ' ', regex=True)\n",
    "})"
   ]
  },
  {
   "cell_type": "code",
   "execution_count": 37,
   "metadata": {
    "colab": {
     "base_uri": "https://localhost:8080/",
     "height": 34
    },
    "colab_type": "code",
    "id": "eHwVCzTHgIYt",
    "outputId": "5b337ad0-58ff-4254-994a-4235e6858a8d"
   },
   "outputs": [
    {
     "data": {
      "text/plain": [
       "(500, 4)"
      ]
     },
     "execution_count": 37,
     "metadata": {
      "tags": []
     },
     "output_type": "execute_result"
    }
   ],
   "source": [
    "valid_df.shape"
   ]
  },
  {
   "cell_type": "code",
   "execution_count": 0,
   "metadata": {
    "colab": {},
    "colab_type": "code",
    "id": "wdt-V-xgecQm"
   },
   "outputs": [],
   "source": [
    "valid_df_bert = pd.DataFrame({\n",
    "    'id':range(len(valid_df)),\n",
    "    'label':valid_df['sentiment'],\n",
    "    'alpha':['a']*valid_df.shape[0],\n",
    "    'text': valid_df['masked_tweets'].replace(r'\\n', ' ', regex=True)\n",
    "})"
   ]
  },
  {
   "cell_type": "code",
   "execution_count": 0,
   "metadata": {
    "colab": {},
    "colab_type": "code",
    "id": "HIcQCoqLjlq5"
   },
   "outputs": [],
   "source": [
    "test_df_bert = pd.DataFrame({\n",
    "    'id':range(len(test_df)),\n",
    "    'label':test_df['sentiment'],\n",
    "    'alpha':['a']*test_df.shape[0],\n",
    "    'text': test_df['masked_tweets'].replace(r'\\n', ' ', regex=True)\n",
    "})"
   ]
  },
  {
   "cell_type": "code",
   "execution_count": 0,
   "metadata": {
    "colab": {},
    "colab_type": "code",
    "id": "ZBchSIOHnC4_"
   },
   "outputs": [],
   "source": []
  },
  {
   "cell_type": "code",
   "execution_count": 0,
   "metadata": {
    "colab": {},
    "colab_type": "code",
    "id": "OHIhz1eKjnyO"
   },
   "outputs": [],
   "source": [
    "train_df_bert.to_csv('data/train.tsv', sep='\\t', index=False, header=False)"
   ]
  },
  {
   "cell_type": "code",
   "execution_count": 0,
   "metadata": {
    "colab": {},
    "colab_type": "code",
    "id": "pC5piI-pjp6O"
   },
   "outputs": [],
   "source": [
    "test_df_bert.to_csv('data/test.tsv', sep='\\t', index=False, header=False)"
   ]
  },
  {
   "cell_type": "code",
   "execution_count": 0,
   "metadata": {
    "colab": {},
    "colab_type": "code",
    "id": "Td6_-qFUnoFa"
   },
   "outputs": [],
   "source": [
    "valid_df_bert.to_csv('data/valid.tsv', sep='\\t', index=False, header=False)"
   ]
  },
  {
   "cell_type": "code",
   "execution_count": 0,
   "metadata": {
    "colab": {},
    "colab_type": "code",
    "id": "2jPjs1mZjr21"
   },
   "outputs": [],
   "source": [
    "from __future__ import absolute_import, division, print_function\n",
    "\n",
    "import csv\n",
    "import os\n",
    "import sys\n",
    "import logging\n",
    "\n",
    "logger = logging.getLogger()\n",
    "csv.field_size_limit(2147483647) # Increase CSV reader's field limit incase we have long text.\n",
    "\n",
    "\n",
    "class InputExample(object):\n",
    "    \"\"\"A single training/test example for simple sequence classification.\"\"\"\n",
    "\n",
    "    def __init__(self, guid, text_a, text_b=None, label=None):\n",
    "        \"\"\"Constructs a InputExample.\n",
    "        Args:\n",
    "            guid: Unique id for the example.\n",
    "            text_a: string. The untokenized text of the first sequence. For single\n",
    "            sequence tasks, only this sequence must be specified.\n",
    "            text_b: (Optional) string. The untokenized text of the second sequence.\n",
    "            Only must be specified for sequence pair tasks.\n",
    "            label: (Optional) string. The label of the example. This should be\n",
    "            specified for train and dev examples, but not for test examples.\n",
    "        \"\"\"\n",
    "        self.guid = guid\n",
    "        self.text_a = text_a\n",
    "        self.text_b = text_b\n",
    "        self.label = label\n",
    "\n",
    "\n",
    "class DataProcessor(object):\n",
    "    \"\"\"Base class for data converters for sequence classification data sets.\"\"\"\n",
    "\n",
    "    def get_train_examples(self, data_dir):\n",
    "        \"\"\"Gets a collection of `InputExample`s for the train set.\"\"\"\n",
    "        raise NotImplementedError()\n",
    "\n",
    "    def get_dev_examples(self, data_dir):\n",
    "        \"\"\"Gets a collection of `InputExample`s for the dev set.\"\"\"\n",
    "        raise NotImplementedError()\n",
    "    \n",
    "    def get_test_examples(self, data_dir):\n",
    "        \"\"\"Gets a collection of `InputExample`s for the test set.\"\"\"\n",
    "        raise NotImplementedError()\n",
    "\n",
    "    def get_labels(self):\n",
    "        \"\"\"Gets the list of labels for this data set.\"\"\"\n",
    "        raise NotImplementedError()\n",
    "\n",
    "    @classmethod\n",
    "    def _read_tsv(cls, input_file, quotechar=None):\n",
    "        \"\"\"Reads a tab separated value file.\"\"\"\n",
    "        with open(input_file, \"r\", encoding=\"utf-8\") as f:\n",
    "            reader = csv.reader(f, delimiter=\"\\t\", quotechar=quotechar)\n",
    "            lines = []\n",
    "            for line in reader:\n",
    "                if sys.version_info[0] == 2:\n",
    "                    line = list(unicode(cell, 'utf-8') for cell in line)\n",
    "                lines.append(line)\n",
    "            return lines\n",
    "\n",
    "\n",
    "class ClassificationProcessor(DataProcessor):\n",
    "    \"\"\"Processor for  classification of dataset.\"\"\"\n",
    "\n",
    "    def get_train_examples(self, data_dir):\n",
    "        \"\"\"See base class.\"\"\"\n",
    "        return self._create_examples(\n",
    "            self._read_tsv(os.path.join(data_dir, \"train.tsv\")), \"train\")\n",
    "\n",
    "    def get_dev_examples(self, data_dir):\n",
    "        \"\"\"See base class.\"\"\"\n",
    "        return self._create_examples(\n",
    "            self._read_tsv(os.path.join(data_dir, \"valid.tsv\")), \"dev\")\n",
    "    def get_test_examples(self, data_dir):\n",
    "        \"\"\"See base class.\"\"\"\n",
    "        return self._create_examples(\n",
    "            self._read_tsv(os.path.join(data_dir, \"test.tsv\")), \"dev\")\n",
    "    \n",
    "    def get_labels(self):\n",
    "        \"\"\"See base class.\"\"\"\n",
    "        return [\"-1\", \"0\", \"1\"]\n",
    "\n",
    "    def _create_examples(self, lines, set_type):\n",
    "        \"\"\"Creates examples for the training and dev sets.\"\"\"\n",
    "        examples = []\n",
    "        for (i, line) in enumerate(lines):\n",
    "            if (len (line) > 3 ):\n",
    "              guid = \"%s-%s\" % (set_type, i)\n",
    "              text_a = line[3]\n",
    "              if set_type == \"test\":\n",
    "                label = \"0\" \n",
    "              else:\n",
    "                label = line[1]\n",
    "              examples.append(\n",
    "                  InputExample(guid=guid, text_a=text_a, text_b=None, label=label))\n",
    "        return examples"
   ]
  },
  {
   "cell_type": "code",
   "execution_count": 0,
   "metadata": {
    "colab": {},
    "colab_type": "code",
    "id": "8fsgYRBFjwfU"
   },
   "outputs": [],
   "source": [
    "class InputFeatures(object):\n",
    "    \"\"\"A single set of features of data.\"\"\"\n",
    "\n",
    "    def __init__(self, input_ids, input_mask, segment_ids, label_id):\n",
    "        self.input_ids = input_ids\n",
    "        self.input_mask = input_mask\n",
    "        self.segment_ids = segment_ids\n",
    "        self.label_id = label_id\n",
    "\n",
    "def _truncate_seq_pair(tokens_a, tokens_b, max_length):\n",
    "    \"\"\"Truncates a sequence pair in place to the maximum length.\"\"\"\n",
    "\n",
    "    while True:\n",
    "        total_length = len(tokens_a) + len(tokens_b)\n",
    "        if total_length <= max_length:\n",
    "            break\n",
    "        if len(tokens_a) > len(tokens_b):\n",
    "            tokens_a.pop()\n",
    "        else:\n",
    "            tokens_b.pop()\n",
    "\n",
    "\n",
    "def convert_example_to_feature(example_row):\n",
    "    # return example_row\n",
    "    example, label_map, max_seq_length, tokenizer, output_mode = example_row\n",
    "\n",
    "    tokens_a = tokenizer.tokenize(example.text_a)\n",
    "\n",
    "    tokens_b = None\n",
    "    if example.text_b:\n",
    "        tokens_b = tokenizer.tokenize(example.text_b)\n",
    "        _truncate_seq_pair(tokens_a, tokens_b, max_seq_length - 3)\n",
    "    else:\n",
    "        if len(tokens_a) > max_seq_length - 2:\n",
    "            tokens_a = tokens_a[:(max_seq_length - 2)]\n",
    "\n",
    "    tokens = [\"[CLS]\"] + tokens_a + [\"[SEP]\"]\n",
    "    segment_ids = [0] * len(tokens)\n",
    "\n",
    "    if tokens_b:\n",
    "        tokens += tokens_b + [\"[SEP]\"]\n",
    "        segment_ids += [1] * (len(tokens_b) + 1)\n",
    "\n",
    "    #token=[CLS]+SentenceA+[SEP]\n",
    "    input_ids = tokenizer.convert_tokens_to_ids(tokens)\n",
    "\n",
    "    # The mask has 1 for real tokens and 0 for padding tokens. Only real\n",
    "    # tokens are attended to.\n",
    "    input_mask = [1] * len(input_ids)\n",
    "\n",
    "    # Zero-pad up to the sequence length.\n",
    "    padding = [0] * (max_seq_length - len(input_ids))\n",
    "    input_ids += padding\n",
    "    input_mask += padding\n",
    "    segment_ids += padding\n",
    "\n",
    "    assert len(input_ids) == max_seq_length\n",
    "    assert len(input_mask) == max_seq_length\n",
    "    assert len(segment_ids) == max_seq_length\n",
    "\n",
    "    if output_mode == \"classification\":\n",
    "        label_id = label_map[example.label]\n",
    "        #print(label_id)\n",
    "    elif output_mode == \"regression\":\n",
    "        label_id = float(example.label)\n",
    "    else:\n",
    "        raise KeyError(output_mode)\n",
    "    \n",
    "    return InputFeatures(input_ids=input_ids,\n",
    "                         input_mask=input_mask,\n",
    "                         segment_ids=segment_ids,\n",
    "                         label_id=label_id)"
   ]
  },
  {
   "cell_type": "code",
   "execution_count": 0,
   "metadata": {
    "colab": {},
    "colab_type": "code",
    "id": "6nK29CWKTdxi"
   },
   "outputs": [],
   "source": []
  },
  {
   "cell_type": "code",
   "execution_count": 0,
   "metadata": {
    "colab": {},
    "colab_type": "code",
    "id": "D1-gGdhjjyxF"
   },
   "outputs": [],
   "source": [
    "import torch\n",
    "import numpy as np\n",
    "import pickle\n",
    "from torch.utils.data import (DataLoader, RandomSampler, SequentialSampler, TensorDataset)\n",
    "from torch.nn import CrossEntropyLoss, MSELoss\n",
    "import tqdm\n",
    "from tqdm import tqdm_notebook\n",
    "from tqdm.notebook import tqdm, trange\n",
    "import os\n",
    "from pytorch_pretrained_bert import BertTokenizer, BertModel, BertForMaskedLM, BertForSequenceClassification\n",
    "from pytorch_pretrained_bert.optimization import BertAdam, WarmupLinearSchedule\n",
    "\n",
    "from multiprocessing import Pool, cpu_count\n",
    "from tools import *\n",
    "\n",
    "import logging\n",
    "logging.basicConfig(level=logging.INFO)\n",
    "\n",
    "device = torch.device(\"cuda\" if torch.cuda.is_available() else \"cpu\")"
   ]
  },
  {
   "cell_type": "code",
   "execution_count": 46,
   "metadata": {
    "colab": {
     "base_uri": "https://localhost:8080/",
     "height": 50
    },
    "colab_type": "code",
    "id": "NTXS2Ug_z1ME",
    "outputId": "5af86cb9-8b91-4cc2-f672-5e3b3a212af7"
   },
   "outputs": [
    {
     "name": "stderr",
     "output_type": "stream",
     "text": [
      "INFO:transformers.file_utils:PyTorch version 1.4.0 available.\n",
      "INFO:transformers.file_utils:TensorFlow version 2.2.0-rc3 available.\n"
     ]
    }
   ],
   "source": [
    "from transformers import AdamW, BertConfig\n"
   ]
  },
  {
   "cell_type": "code",
   "execution_count": 0,
   "metadata": {
    "colab": {},
    "colab_type": "code",
    "id": "eSzg3h5Qj_sn"
   },
   "outputs": [],
   "source": [
    "# The input data dir. Should contain the .tsv files (or other data files) for the task.\n",
    "DATA_DIR = \"data/\"\n",
    "\n",
    "# Bert pre-trained model selected in the list: bert-base-uncased, \n",
    "# bert-large-uncased, bert-base-cased, bert-large-cased, bert-base-multilingual-uncased,\n",
    "# bert-base-multilingual-cased, bert-base-chinese.\n",
    "BERT_MODEL = 'bert-base-uncased'\n",
    "\n",
    "# The name of the task to train(can use any names).\n",
    "TASK_NAME = 'yelp'\n",
    "\n",
    "# The output directory where the fine-tuned model and checkpoints will be written.\n",
    "OUTPUT_DIR = f'outputs/{TASK_NAME}/'\n",
    "\n",
    "# This is where BERT will look for pre-trained models to load parameters from.\n",
    "CACHE_DIR = 'cache/'\n",
    "\n",
    "# The maximum total input sequence length after WordPiece tokenization.\n",
    "# Sequences longer than this will be truncated, and sequences shorter than this will be padded.\n",
    "MAX_SEQ_LENGTH = 512\n",
    "\n",
    "TRAIN_BATCH_SIZE = 6\n",
    "EVAL_BATCH_SIZE = 6\n",
    "LEARNING_RATE = 3e-5\n",
    "NUM_TRAIN_EPOCHS = 6\n",
    "RANDOM_SEED = 42\n",
    "#GRADIENT_ACCUMULATION_STEPS = 1\n",
    "#WARMUP_PROPORTION = 0.1\n",
    "OUTPUT_MODE = 'classification'\n",
    "\n",
    "CONFIG_NAME = \"config.json\"\n",
    "WEIGHTS_NAME = \"pytorch_model.bin\""
   ]
  },
  {
   "cell_type": "code",
   "execution_count": 0,
   "metadata": {
    "colab": {},
    "colab_type": "code",
    "id": "-m8s3fCXwJYt"
   },
   "outputs": [],
   "source": []
  },
  {
   "cell_type": "code",
   "execution_count": 0,
   "metadata": {
    "colab": {},
    "colab_type": "code",
    "id": "zfZNSYkykDLh"
   },
   "outputs": [],
   "source": [
    "output_mode = OUTPUT_MODE\n",
    "\n",
    "cache_dir = CACHE_DIR"
   ]
  },
  {
   "cell_type": "code",
   "execution_count": 0,
   "metadata": {
    "colab": {},
    "colab_type": "code",
    "id": "tE9HOAkbkFGg"
   },
   "outputs": [],
   "source": []
  },
  {
   "cell_type": "code",
   "execution_count": 0,
   "metadata": {
    "colab": {},
    "colab_type": "code",
    "id": "d98YcIHNkHbd"
   },
   "outputs": [],
   "source": [
    "if os.path.exists(OUTPUT_DIR) and os.listdir(OUTPUT_DIR):\n",
    "        raise ValueError(\"Output directory ({}) already exists and is not empty.\".format(OUTPUT_DIR))\n",
    "if not os.path.exists(OUTPUT_DIR):\n",
    "    os.makedirs(OUTPUT_DIR)"
   ]
  },
  {
   "cell_type": "code",
   "execution_count": 0,
   "metadata": {
    "colab": {},
    "colab_type": "code",
    "id": "nBbeQx_3kJfr"
   },
   "outputs": [],
   "source": [
    "processor = ClassificationProcessor()\n",
    "train_examples = processor.get_train_examples(DATA_DIR)\n",
    "train_examples_len = len(train_examples)\n",
    "\n",
    "label_list = processor.get_labels() # [-1, 0, 1] for classification\n",
    "num_labels = len(label_list)\n"
   ]
  },
  {
   "cell_type": "code",
   "execution_count": 52,
   "metadata": {
    "colab": {
     "base_uri": "https://localhost:8080/",
     "height": 34
    },
    "colab_type": "code",
    "id": "PRjzM2eUrJkp",
    "outputId": "cdc4ac3c-f592-4ef7-b92b-a64d1faefbd3"
   },
   "outputs": [
    {
     "name": "stdout",
     "output_type": "stream",
     "text": [
      "3\n"
     ]
    }
   ],
   "source": [
    "print(num_labels)"
   ]
  },
  {
   "cell_type": "code",
   "execution_count": 0,
   "metadata": {
    "colab": {},
    "colab_type": "code",
    "id": "7pznnsoNkLYr"
   },
   "outputs": [],
   "source": []
  },
  {
   "cell_type": "code",
   "execution_count": 53,
   "metadata": {
    "colab": {
     "base_uri": "https://localhost:8080/",
     "height": 138
    },
    "colab_type": "code",
    "id": "kCLro0ZIkNun",
    "outputId": "fde1dc15-18aa-4a3a-b484-b3d1e99fee6e"
   },
   "outputs": [
    {
     "name": "stderr",
     "output_type": "stream",
     "text": [
      "INFO:pytorch_pretrained_bert.file_utils:https://s3.amazonaws.com/models.huggingface.co/bert/bert-base-uncased-vocab.txt not found in cache, downloading to /tmp/tmphrnedfj7\n",
      "100%|██████████| 231508/231508 [00:00<00:00, 891767.97B/s]\n",
      "INFO:pytorch_pretrained_bert.file_utils:copying /tmp/tmphrnedfj7 to cache at /root/.pytorch_pretrained_bert/26bc1ad6c0ac742e9b52263248f6d0f00068293b33709fae12320c0e35ccfbbb.542ce4285a40d23a559526243235df47c5f75c197f04f37d1a0c124c32c9a084\n",
      "INFO:pytorch_pretrained_bert.file_utils:creating metadata file for /root/.pytorch_pretrained_bert/26bc1ad6c0ac742e9b52263248f6d0f00068293b33709fae12320c0e35ccfbbb.542ce4285a40d23a559526243235df47c5f75c197f04f37d1a0c124c32c9a084\n",
      "INFO:pytorch_pretrained_bert.file_utils:removing temp file /tmp/tmphrnedfj7\n",
      "INFO:pytorch_pretrained_bert.tokenization:loading vocabulary file https://s3.amazonaws.com/models.huggingface.co/bert/bert-base-uncased-vocab.txt from cache at /root/.pytorch_pretrained_bert/26bc1ad6c0ac742e9b52263248f6d0f00068293b33709fae12320c0e35ccfbbb.542ce4285a40d23a559526243235df47c5f75c197f04f37d1a0c124c32c9a084\n"
     ]
    }
   ],
   "source": [
    "tokenizer = BertTokenizer.from_pretrained(BERT_MODEL, do_lower_case=True)\n"
   ]
  },
  {
   "cell_type": "code",
   "execution_count": 0,
   "metadata": {
    "colab": {},
    "colab_type": "code",
    "id": "V-Y5EBkrkPfa"
   },
   "outputs": [],
   "source": [
    "label_map = {label: i for i, label in enumerate(label_list)}\n",
    "train_examples_for_processing = [(example, label_map, MAX_SEQ_LENGTH, tokenizer, OUTPUT_MODE) for example in train_examples]"
   ]
  },
  {
   "cell_type": "code",
   "execution_count": 55,
   "metadata": {
    "colab": {
     "base_uri": "https://localhost:8080/",
     "height": 116,
     "referenced_widgets": [
      "988020f3d08c400590e06d7ac82276e5",
      "24b14f47580a4a0fbcba3d243008c597",
      "2a902454afe3483c9a456ce0a110146e",
      "4574a4657bdc41879c1c89fc3509fcc5",
      "50499dda874a4d92906767303d471527",
      "439dd89e17704d5eb76c08ad04ae7739",
      "d5c635372c924de790feb19a29567821",
      "27c8a45ce12e487ab07b7d35809ad57f"
     ]
    },
    "colab_type": "code",
    "id": "HSOuTNSrkdyY",
    "outputId": "476ac2ea-702e-415e-bd43-fa8903e62392"
   },
   "outputs": [
    {
     "name": "stdout",
     "output_type": "stream",
     "text": [
      "{'-1': 0, '0': 1, '1': 2}\n",
      "Preparing to convert 4500 examples..\n",
      "Spawning 3 processes..\n"
     ]
    },
    {
     "data": {
      "application/vnd.jupyter.widget-view+json": {
       "model_id": "988020f3d08c400590e06d7ac82276e5",
       "version_major": 2,
       "version_minor": 0
      },
      "text/plain": [
       "HBox(children=(IntProgress(value=0, max=4500), HTML(value='')))"
      ]
     },
     "metadata": {
      "tags": []
     },
     "output_type": "display_data"
    },
    {
     "name": "stdout",
     "output_type": "stream",
     "text": [
      "\n"
     ]
    }
   ],
   "source": [
    "print (label_map)\n",
    "process_count = cpu_count() - 1\n",
    "if __name__ ==  '__main__':\n",
    "    print(f'Preparing to convert {train_examples_len} examples..')\n",
    "    print(f'Spawning {process_count} processes..')\n",
    "    with Pool(process_count) as p:\n",
    "        train_features = list(tqdm_notebook(p.imap(convert_example_to_feature, train_examples_for_processing), total=train_examples_len))"
   ]
  },
  {
   "cell_type": "code",
   "execution_count": 0,
   "metadata": {
    "colab": {},
    "colab_type": "code",
    "id": "7fBAd04nlKUF"
   },
   "outputs": [],
   "source": [
    "with open(\"data/train_features.pkl\", \"wb\") as f:\n",
    "    pickle.dump(train_features, f)"
   ]
  },
  {
   "cell_type": "code",
   "execution_count": 57,
   "metadata": {
    "colab": {
     "base_uri": "https://localhost:8080/",
     "height": 423
    },
    "colab_type": "code",
    "id": "Rr4Q7j-plVHO",
    "outputId": "58e05aef-b336-4014-c642-8bcce074e630"
   },
   "outputs": [
    {
     "name": "stderr",
     "output_type": "stream",
     "text": [
      "INFO:pytorch_pretrained_bert.file_utils:https://s3.amazonaws.com/models.huggingface.co/bert/bert-base-uncased.tar.gz not found in cache, downloading to /tmp/tmpmfbev8uk\n",
      "100%|██████████| 407873900/407873900 [00:11<00:00, 34874411.45B/s]\n",
      "INFO:pytorch_pretrained_bert.file_utils:copying /tmp/tmpmfbev8uk to cache at cache/9c41111e2de84547a463fd39217199738d1e3deb72d4fec4399e6e241983c6f0.ae3cef932725ca7a30cdcb93fc6e09150a55e2a130ec7af63975a16c153ae2ba\n",
      "INFO:pytorch_pretrained_bert.file_utils:creating metadata file for cache/9c41111e2de84547a463fd39217199738d1e3deb72d4fec4399e6e241983c6f0.ae3cef932725ca7a30cdcb93fc6e09150a55e2a130ec7af63975a16c153ae2ba\n",
      "INFO:pytorch_pretrained_bert.file_utils:removing temp file /tmp/tmpmfbev8uk\n",
      "INFO:pytorch_pretrained_bert.modeling:loading archive file https://s3.amazonaws.com/models.huggingface.co/bert/bert-base-uncased.tar.gz from cache at cache/9c41111e2de84547a463fd39217199738d1e3deb72d4fec4399e6e241983c6f0.ae3cef932725ca7a30cdcb93fc6e09150a55e2a130ec7af63975a16c153ae2ba\n",
      "INFO:pytorch_pretrained_bert.modeling:extracting archive file cache/9c41111e2de84547a463fd39217199738d1e3deb72d4fec4399e6e241983c6f0.ae3cef932725ca7a30cdcb93fc6e09150a55e2a130ec7af63975a16c153ae2ba to temp dir /tmp/tmp_okpud1_\n",
      "INFO:pytorch_pretrained_bert.modeling:Model config {\n",
      "  \"attention_probs_dropout_prob\": 0.1,\n",
      "  \"hidden_act\": \"gelu\",\n",
      "  \"hidden_dropout_prob\": 0.1,\n",
      "  \"hidden_size\": 768,\n",
      "  \"initializer_range\": 0.02,\n",
      "  \"intermediate_size\": 3072,\n",
      "  \"max_position_embeddings\": 512,\n",
      "  \"num_attention_heads\": 12,\n",
      "  \"num_hidden_layers\": 12,\n",
      "  \"type_vocab_size\": 2,\n",
      "  \"vocab_size\": 30522\n",
      "}\n",
      "\n",
      "INFO:pytorch_pretrained_bert.modeling:Weights of BertForSequenceClassification not initialized from pretrained model: ['classifier.weight', 'classifier.bias']\n",
      "INFO:pytorch_pretrained_bert.modeling:Weights from pretrained model not used in BertForSequenceClassification: ['cls.predictions.bias', 'cls.predictions.transform.dense.weight', 'cls.predictions.transform.dense.bias', 'cls.predictions.decoder.weight', 'cls.seq_relationship.weight', 'cls.seq_relationship.bias', 'cls.predictions.transform.LayerNorm.weight', 'cls.predictions.transform.LayerNorm.bias']\n"
     ]
    }
   ],
   "source": [
    "\n",
    "# Load pre-trained model (weights)\n",
    "model = BertForSequenceClassification.from_pretrained(BERT_MODEL, cache_dir=CACHE_DIR, num_labels=num_labels)"
   ]
  },
  {
   "cell_type": "code",
   "execution_count": 0,
   "metadata": {
    "colab": {},
    "colab_type": "code",
    "id": "rDzoqwpLoGU8"
   },
   "outputs": [],
   "source": [
    "model = nn.DataParallel(model)"
   ]
  },
  {
   "cell_type": "code",
   "execution_count": 59,
   "metadata": {
    "colab": {
     "base_uri": "https://localhost:8080/",
     "height": 1000
    },
    "colab_type": "code",
    "id": "9GUtLcuFnX-G",
    "outputId": "6df36498-384a-4aca-da94-dec6aaa8bdef"
   },
   "outputs": [
    {
     "data": {
      "text/plain": [
       "DataParallel(\n",
       "  (module): BertForSequenceClassification(\n",
       "    (bert): BertModel(\n",
       "      (embeddings): BertEmbeddings(\n",
       "        (word_embeddings): Embedding(30522, 768, padding_idx=0)\n",
       "        (position_embeddings): Embedding(512, 768)\n",
       "        (token_type_embeddings): Embedding(2, 768)\n",
       "        (LayerNorm): BertLayerNorm()\n",
       "        (dropout): Dropout(p=0.1, inplace=False)\n",
       "      )\n",
       "      (encoder): BertEncoder(\n",
       "        (layer): ModuleList(\n",
       "          (0): BertLayer(\n",
       "            (attention): BertAttention(\n",
       "              (self): BertSelfAttention(\n",
       "                (query): Linear(in_features=768, out_features=768, bias=True)\n",
       "                (key): Linear(in_features=768, out_features=768, bias=True)\n",
       "                (value): Linear(in_features=768, out_features=768, bias=True)\n",
       "                (dropout): Dropout(p=0.1, inplace=False)\n",
       "              )\n",
       "              (output): BertSelfOutput(\n",
       "                (dense): Linear(in_features=768, out_features=768, bias=True)\n",
       "                (LayerNorm): BertLayerNorm()\n",
       "                (dropout): Dropout(p=0.1, inplace=False)\n",
       "              )\n",
       "            )\n",
       "            (intermediate): BertIntermediate(\n",
       "              (dense): Linear(in_features=768, out_features=3072, bias=True)\n",
       "            )\n",
       "            (output): BertOutput(\n",
       "              (dense): Linear(in_features=3072, out_features=768, bias=True)\n",
       "              (LayerNorm): BertLayerNorm()\n",
       "              (dropout): Dropout(p=0.1, inplace=False)\n",
       "            )\n",
       "          )\n",
       "          (1): BertLayer(\n",
       "            (attention): BertAttention(\n",
       "              (self): BertSelfAttention(\n",
       "                (query): Linear(in_features=768, out_features=768, bias=True)\n",
       "                (key): Linear(in_features=768, out_features=768, bias=True)\n",
       "                (value): Linear(in_features=768, out_features=768, bias=True)\n",
       "                (dropout): Dropout(p=0.1, inplace=False)\n",
       "              )\n",
       "              (output): BertSelfOutput(\n",
       "                (dense): Linear(in_features=768, out_features=768, bias=True)\n",
       "                (LayerNorm): BertLayerNorm()\n",
       "                (dropout): Dropout(p=0.1, inplace=False)\n",
       "              )\n",
       "            )\n",
       "            (intermediate): BertIntermediate(\n",
       "              (dense): Linear(in_features=768, out_features=3072, bias=True)\n",
       "            )\n",
       "            (output): BertOutput(\n",
       "              (dense): Linear(in_features=3072, out_features=768, bias=True)\n",
       "              (LayerNorm): BertLayerNorm()\n",
       "              (dropout): Dropout(p=0.1, inplace=False)\n",
       "            )\n",
       "          )\n",
       "          (2): BertLayer(\n",
       "            (attention): BertAttention(\n",
       "              (self): BertSelfAttention(\n",
       "                (query): Linear(in_features=768, out_features=768, bias=True)\n",
       "                (key): Linear(in_features=768, out_features=768, bias=True)\n",
       "                (value): Linear(in_features=768, out_features=768, bias=True)\n",
       "                (dropout): Dropout(p=0.1, inplace=False)\n",
       "              )\n",
       "              (output): BertSelfOutput(\n",
       "                (dense): Linear(in_features=768, out_features=768, bias=True)\n",
       "                (LayerNorm): BertLayerNorm()\n",
       "                (dropout): Dropout(p=0.1, inplace=False)\n",
       "              )\n",
       "            )\n",
       "            (intermediate): BertIntermediate(\n",
       "              (dense): Linear(in_features=768, out_features=3072, bias=True)\n",
       "            )\n",
       "            (output): BertOutput(\n",
       "              (dense): Linear(in_features=3072, out_features=768, bias=True)\n",
       "              (LayerNorm): BertLayerNorm()\n",
       "              (dropout): Dropout(p=0.1, inplace=False)\n",
       "            )\n",
       "          )\n",
       "          (3): BertLayer(\n",
       "            (attention): BertAttention(\n",
       "              (self): BertSelfAttention(\n",
       "                (query): Linear(in_features=768, out_features=768, bias=True)\n",
       "                (key): Linear(in_features=768, out_features=768, bias=True)\n",
       "                (value): Linear(in_features=768, out_features=768, bias=True)\n",
       "                (dropout): Dropout(p=0.1, inplace=False)\n",
       "              )\n",
       "              (output): BertSelfOutput(\n",
       "                (dense): Linear(in_features=768, out_features=768, bias=True)\n",
       "                (LayerNorm): BertLayerNorm()\n",
       "                (dropout): Dropout(p=0.1, inplace=False)\n",
       "              )\n",
       "            )\n",
       "            (intermediate): BertIntermediate(\n",
       "              (dense): Linear(in_features=768, out_features=3072, bias=True)\n",
       "            )\n",
       "            (output): BertOutput(\n",
       "              (dense): Linear(in_features=3072, out_features=768, bias=True)\n",
       "              (LayerNorm): BertLayerNorm()\n",
       "              (dropout): Dropout(p=0.1, inplace=False)\n",
       "            )\n",
       "          )\n",
       "          (4): BertLayer(\n",
       "            (attention): BertAttention(\n",
       "              (self): BertSelfAttention(\n",
       "                (query): Linear(in_features=768, out_features=768, bias=True)\n",
       "                (key): Linear(in_features=768, out_features=768, bias=True)\n",
       "                (value): Linear(in_features=768, out_features=768, bias=True)\n",
       "                (dropout): Dropout(p=0.1, inplace=False)\n",
       "              )\n",
       "              (output): BertSelfOutput(\n",
       "                (dense): Linear(in_features=768, out_features=768, bias=True)\n",
       "                (LayerNorm): BertLayerNorm()\n",
       "                (dropout): Dropout(p=0.1, inplace=False)\n",
       "              )\n",
       "            )\n",
       "            (intermediate): BertIntermediate(\n",
       "              (dense): Linear(in_features=768, out_features=3072, bias=True)\n",
       "            )\n",
       "            (output): BertOutput(\n",
       "              (dense): Linear(in_features=3072, out_features=768, bias=True)\n",
       "              (LayerNorm): BertLayerNorm()\n",
       "              (dropout): Dropout(p=0.1, inplace=False)\n",
       "            )\n",
       "          )\n",
       "          (5): BertLayer(\n",
       "            (attention): BertAttention(\n",
       "              (self): BertSelfAttention(\n",
       "                (query): Linear(in_features=768, out_features=768, bias=True)\n",
       "                (key): Linear(in_features=768, out_features=768, bias=True)\n",
       "                (value): Linear(in_features=768, out_features=768, bias=True)\n",
       "                (dropout): Dropout(p=0.1, inplace=False)\n",
       "              )\n",
       "              (output): BertSelfOutput(\n",
       "                (dense): Linear(in_features=768, out_features=768, bias=True)\n",
       "                (LayerNorm): BertLayerNorm()\n",
       "                (dropout): Dropout(p=0.1, inplace=False)\n",
       "              )\n",
       "            )\n",
       "            (intermediate): BertIntermediate(\n",
       "              (dense): Linear(in_features=768, out_features=3072, bias=True)\n",
       "            )\n",
       "            (output): BertOutput(\n",
       "              (dense): Linear(in_features=3072, out_features=768, bias=True)\n",
       "              (LayerNorm): BertLayerNorm()\n",
       "              (dropout): Dropout(p=0.1, inplace=False)\n",
       "            )\n",
       "          )\n",
       "          (6): BertLayer(\n",
       "            (attention): BertAttention(\n",
       "              (self): BertSelfAttention(\n",
       "                (query): Linear(in_features=768, out_features=768, bias=True)\n",
       "                (key): Linear(in_features=768, out_features=768, bias=True)\n",
       "                (value): Linear(in_features=768, out_features=768, bias=True)\n",
       "                (dropout): Dropout(p=0.1, inplace=False)\n",
       "              )\n",
       "              (output): BertSelfOutput(\n",
       "                (dense): Linear(in_features=768, out_features=768, bias=True)\n",
       "                (LayerNorm): BertLayerNorm()\n",
       "                (dropout): Dropout(p=0.1, inplace=False)\n",
       "              )\n",
       "            )\n",
       "            (intermediate): BertIntermediate(\n",
       "              (dense): Linear(in_features=768, out_features=3072, bias=True)\n",
       "            )\n",
       "            (output): BertOutput(\n",
       "              (dense): Linear(in_features=3072, out_features=768, bias=True)\n",
       "              (LayerNorm): BertLayerNorm()\n",
       "              (dropout): Dropout(p=0.1, inplace=False)\n",
       "            )\n",
       "          )\n",
       "          (7): BertLayer(\n",
       "            (attention): BertAttention(\n",
       "              (self): BertSelfAttention(\n",
       "                (query): Linear(in_features=768, out_features=768, bias=True)\n",
       "                (key): Linear(in_features=768, out_features=768, bias=True)\n",
       "                (value): Linear(in_features=768, out_features=768, bias=True)\n",
       "                (dropout): Dropout(p=0.1, inplace=False)\n",
       "              )\n",
       "              (output): BertSelfOutput(\n",
       "                (dense): Linear(in_features=768, out_features=768, bias=True)\n",
       "                (LayerNorm): BertLayerNorm()\n",
       "                (dropout): Dropout(p=0.1, inplace=False)\n",
       "              )\n",
       "            )\n",
       "            (intermediate): BertIntermediate(\n",
       "              (dense): Linear(in_features=768, out_features=3072, bias=True)\n",
       "            )\n",
       "            (output): BertOutput(\n",
       "              (dense): Linear(in_features=3072, out_features=768, bias=True)\n",
       "              (LayerNorm): BertLayerNorm()\n",
       "              (dropout): Dropout(p=0.1, inplace=False)\n",
       "            )\n",
       "          )\n",
       "          (8): BertLayer(\n",
       "            (attention): BertAttention(\n",
       "              (self): BertSelfAttention(\n",
       "                (query): Linear(in_features=768, out_features=768, bias=True)\n",
       "                (key): Linear(in_features=768, out_features=768, bias=True)\n",
       "                (value): Linear(in_features=768, out_features=768, bias=True)\n",
       "                (dropout): Dropout(p=0.1, inplace=False)\n",
       "              )\n",
       "              (output): BertSelfOutput(\n",
       "                (dense): Linear(in_features=768, out_features=768, bias=True)\n",
       "                (LayerNorm): BertLayerNorm()\n",
       "                (dropout): Dropout(p=0.1, inplace=False)\n",
       "              )\n",
       "            )\n",
       "            (intermediate): BertIntermediate(\n",
       "              (dense): Linear(in_features=768, out_features=3072, bias=True)\n",
       "            )\n",
       "            (output): BertOutput(\n",
       "              (dense): Linear(in_features=3072, out_features=768, bias=True)\n",
       "              (LayerNorm): BertLayerNorm()\n",
       "              (dropout): Dropout(p=0.1, inplace=False)\n",
       "            )\n",
       "          )\n",
       "          (9): BertLayer(\n",
       "            (attention): BertAttention(\n",
       "              (self): BertSelfAttention(\n",
       "                (query): Linear(in_features=768, out_features=768, bias=True)\n",
       "                (key): Linear(in_features=768, out_features=768, bias=True)\n",
       "                (value): Linear(in_features=768, out_features=768, bias=True)\n",
       "                (dropout): Dropout(p=0.1, inplace=False)\n",
       "              )\n",
       "              (output): BertSelfOutput(\n",
       "                (dense): Linear(in_features=768, out_features=768, bias=True)\n",
       "                (LayerNorm): BertLayerNorm()\n",
       "                (dropout): Dropout(p=0.1, inplace=False)\n",
       "              )\n",
       "            )\n",
       "            (intermediate): BertIntermediate(\n",
       "              (dense): Linear(in_features=768, out_features=3072, bias=True)\n",
       "            )\n",
       "            (output): BertOutput(\n",
       "              (dense): Linear(in_features=3072, out_features=768, bias=True)\n",
       "              (LayerNorm): BertLayerNorm()\n",
       "              (dropout): Dropout(p=0.1, inplace=False)\n",
       "            )\n",
       "          )\n",
       "          (10): BertLayer(\n",
       "            (attention): BertAttention(\n",
       "              (self): BertSelfAttention(\n",
       "                (query): Linear(in_features=768, out_features=768, bias=True)\n",
       "                (key): Linear(in_features=768, out_features=768, bias=True)\n",
       "                (value): Linear(in_features=768, out_features=768, bias=True)\n",
       "                (dropout): Dropout(p=0.1, inplace=False)\n",
       "              )\n",
       "              (output): BertSelfOutput(\n",
       "                (dense): Linear(in_features=768, out_features=768, bias=True)\n",
       "                (LayerNorm): BertLayerNorm()\n",
       "                (dropout): Dropout(p=0.1, inplace=False)\n",
       "              )\n",
       "            )\n",
       "            (intermediate): BertIntermediate(\n",
       "              (dense): Linear(in_features=768, out_features=3072, bias=True)\n",
       "            )\n",
       "            (output): BertOutput(\n",
       "              (dense): Linear(in_features=3072, out_features=768, bias=True)\n",
       "              (LayerNorm): BertLayerNorm()\n",
       "              (dropout): Dropout(p=0.1, inplace=False)\n",
       "            )\n",
       "          )\n",
       "          (11): BertLayer(\n",
       "            (attention): BertAttention(\n",
       "              (self): BertSelfAttention(\n",
       "                (query): Linear(in_features=768, out_features=768, bias=True)\n",
       "                (key): Linear(in_features=768, out_features=768, bias=True)\n",
       "                (value): Linear(in_features=768, out_features=768, bias=True)\n",
       "                (dropout): Dropout(p=0.1, inplace=False)\n",
       "              )\n",
       "              (output): BertSelfOutput(\n",
       "                (dense): Linear(in_features=768, out_features=768, bias=True)\n",
       "                (LayerNorm): BertLayerNorm()\n",
       "                (dropout): Dropout(p=0.1, inplace=False)\n",
       "              )\n",
       "            )\n",
       "            (intermediate): BertIntermediate(\n",
       "              (dense): Linear(in_features=768, out_features=3072, bias=True)\n",
       "            )\n",
       "            (output): BertOutput(\n",
       "              (dense): Linear(in_features=3072, out_features=768, bias=True)\n",
       "              (LayerNorm): BertLayerNorm()\n",
       "              (dropout): Dropout(p=0.1, inplace=False)\n",
       "            )\n",
       "          )\n",
       "        )\n",
       "      )\n",
       "      (pooler): BertPooler(\n",
       "        (dense): Linear(in_features=768, out_features=768, bias=True)\n",
       "        (activation): Tanh()\n",
       "      )\n",
       "    )\n",
       "    (dropout): Dropout(p=0.1, inplace=False)\n",
       "    (classifier): Linear(in_features=768, out_features=3, bias=True)\n",
       "  )\n",
       ")"
      ]
     },
     "execution_count": 59,
     "metadata": {
      "tags": []
     },
     "output_type": "execute_result"
    }
   ],
   "source": [
    "model.to(device)\n"
   ]
  },
  {
   "cell_type": "code",
   "execution_count": 0,
   "metadata": {
    "colab": {},
    "colab_type": "code",
    "id": "kDzPL413oIDE"
   },
   "outputs": [],
   "source": [
    "\n",
    "global_step = 0\n",
    "nb_tr_steps = 0\n",
    "tr_loss = 0"
   ]
  },
  {
   "cell_type": "code",
   "execution_count": 0,
   "metadata": {
    "colab": {},
    "colab_type": "code",
    "id": "9tFP0ZN-Z_zN"
   },
   "outputs": [],
   "source": [
    "all_input_ids = torch.tensor([f.input_ids for f in train_features], dtype=torch.long)\n",
    "all_input_mask = torch.tensor([f.input_mask for f in train_features], dtype=torch.long)\n",
    "all_segment_ids = torch.tensor([f.segment_ids for f in train_features], dtype=torch.long)\n",
    "\n",
    "if OUTPUT_MODE == \"classification\":\n",
    "    all_label_ids = torch.tensor([f.label_id for f in train_features], dtype=torch.long)\n",
    "    #loss_fct = CrossEntropyLoss()\n",
    "elif OUTPUT_MODE == \"regression\":\n",
    "    all_label_ids = torch.tensor([f.label_id for f in train_features], dtype=torch.float)\n",
    "    #loss_fct = MSELoss()"
   ]
  },
  {
   "cell_type": "code",
   "execution_count": 0,
   "metadata": {
    "colab": {},
    "colab_type": "code",
    "id": "KQ9VrC4WaFhZ"
   },
   "outputs": [],
   "source": [
    "train_dataset = TensorDataset(all_input_ids, all_input_mask, all_segment_ids, all_label_ids)"
   ]
  },
  {
   "cell_type": "code",
   "execution_count": 0,
   "metadata": {
    "colab": {},
    "colab_type": "code",
    "id": "QyOhganai03d"
   },
   "outputs": [],
   "source": [
    "train_sampler = RandomSampler(train_dataset)\n",
    "train_dataloader = DataLoader(train_dataset, sampler=train_sampler, batch_size=TRAIN_BATCH_SIZE)\n"
   ]
  },
  {
   "cell_type": "code",
   "execution_count": 0,
   "metadata": {
    "colab": {},
    "colab_type": "code",
    "id": "4zytHzVwiHkZ"
   },
   "outputs": [],
   "source": [
    "processor = ClassificationProcessor()\n",
    "valid_examples = processor.get_dev_examples(DATA_DIR)\n",
    "label_list = processor.get_labels() # [-1, 0, 1] for classification\n",
    "num_labels = len(label_list)\n",
    "valid_examples_len = len(valid_examples)"
   ]
  },
  {
   "cell_type": "code",
   "execution_count": 0,
   "metadata": {
    "colab": {},
    "colab_type": "code",
    "id": "LVSaNFqIiQAy"
   },
   "outputs": [],
   "source": [
    "label_map = {label: i for i, label in enumerate(label_list)}\n",
    "valid_examples_for_processing = [(example, label_map, MAX_SEQ_LENGTH, tokenizer, OUTPUT_MODE) for example in valid_examples]"
   ]
  },
  {
   "cell_type": "code",
   "execution_count": 66,
   "metadata": {
    "colab": {
     "base_uri": "https://localhost:8080/",
     "height": 99,
     "referenced_widgets": [
      "9a959c7f84ab4f899fa93bbf1baa67e7",
      "3c5b9a15c66e4501a3716bc5a0b98ee6",
      "d51bf3f5e2b945219c055a07f18ab986",
      "9b4a1885459d4f30a911a0aae0a5e258",
      "bbb83f08bd9443eab554f852d5fa75a2",
      "b6c8964ccd1246c99d9dcb3c752f63f4",
      "55f7b06f0799442d9e5fb097774af2e5",
      "74ac6fc9ce054f0baaacd19b5568d3bb"
     ]
    },
    "colab_type": "code",
    "id": "0QH7WWSniWVo",
    "outputId": "6927ac8c-c2f4-41ba-a429-ae342b57f6b3"
   },
   "outputs": [
    {
     "name": "stdout",
     "output_type": "stream",
     "text": [
      "Preparing to convert 500 examples..\n",
      "Spawning 3 processes..\n"
     ]
    },
    {
     "data": {
      "application/vnd.jupyter.widget-view+json": {
       "model_id": "9a959c7f84ab4f899fa93bbf1baa67e7",
       "version_major": 2,
       "version_minor": 0
      },
      "text/plain": [
       "HBox(children=(IntProgress(value=0, max=500), HTML(value='')))"
      ]
     },
     "metadata": {
      "tags": []
     },
     "output_type": "display_data"
    },
    {
     "name": "stdout",
     "output_type": "stream",
     "text": [
      "\n"
     ]
    }
   ],
   "source": [
    "  process_count = cpu_count() - 1\n",
    "  if __name__ ==  '__main__':\n",
    "      print(f'Preparing to convert {valid_examples_len} examples..')\n",
    "      print(f'Spawning {process_count} processes..')\n",
    "      with Pool(process_count) as p:\n",
    "          valid_features = list(tqdm_notebook(p.imap(convert_example_to_feature, valid_examples_for_processing), total=valid_examples_len))"
   ]
  },
  {
   "cell_type": "code",
   "execution_count": 0,
   "metadata": {
    "colab": {},
    "colab_type": "code",
    "id": "qxT_V0vYifgE"
   },
   "outputs": [],
   "source": [
    "all_input_ids = torch.tensor([f.input_ids for f in valid_features], dtype=torch.long)\n",
    "all_input_mask = torch.tensor([f.input_mask for f in valid_features], dtype=torch.long)\n",
    "all_segment_ids = torch.tensor([f.segment_ids for f in valid_features], dtype=torch.long)\n",
    "all_label_ids = torch.tensor([f.label_id for f in valid_features], dtype=torch.long)\n"
   ]
  },
  {
   "cell_type": "code",
   "execution_count": 0,
   "metadata": {
    "colab": {},
    "colab_type": "code",
    "id": "De7TxiZ1ikV5"
   },
   "outputs": [],
   "source": [
    "\n",
    "valid_data = TensorDataset(all_input_ids, all_input_mask, all_segment_ids, all_label_ids)\n",
    "\n",
    "# Run prediction for full data\n",
    "valid_sampler = SequentialSampler(valid_data)\n",
    "validation_dataloader = DataLoader(valid_data, sampler=valid_sampler, batch_size=EVAL_BATCH_SIZE)"
   ]
  },
  {
   "cell_type": "code",
   "execution_count": 0,
   "metadata": {
    "colab": {},
    "colab_type": "code",
    "id": "RMcW6sJsaFrk"
   },
   "outputs": [],
   "source": []
  },
  {
   "cell_type": "code",
   "execution_count": 0,
   "metadata": {
    "colab": {},
    "colab_type": "code",
    "id": "ev6EutNaaNka"
   },
   "outputs": [],
   "source": []
  },
  {
   "cell_type": "code",
   "execution_count": 0,
   "metadata": {
    "colab": {},
    "colab_type": "code",
    "id": "y6iXSuauaNvh"
   },
   "outputs": [],
   "source": [
    "from transformers import AdamW\n",
    "from transformers import get_linear_schedule_with_warmup"
   ]
  },
  {
   "cell_type": "code",
   "execution_count": 0,
   "metadata": {
    "colab": {},
    "colab_type": "code",
    "id": "ziZOILPsZ_9f"
   },
   "outputs": [],
   "source": [
    "param_optimizer = list(model.named_parameters())\n",
    "no_decay = ['bias', 'LayerNorm.bias', 'LayerNorm.weight']\n",
    "optimizer_grouped_parameters = [\n",
    "    {'params': [p for n, p in param_optimizer if not any(nd in n for nd in no_decay)], 'weight_decay': 0.01},\n",
    "    {'params': [p for n, p in param_optimizer if any(nd in n for nd in no_decay)], 'weight_decay': 0.0}\n",
    "    ]"
   ]
  },
  {
   "cell_type": "code",
   "execution_count": 0,
   "metadata": {
    "colab": {},
    "colab_type": "code",
    "id": "k6uAIGnVhQBc"
   },
   "outputs": [],
   "source": [
    "\n",
    "epochs = NUM_TRAIN_EPOCHS\n",
    "\n",
    "total_steps = len(train_dataloader) * epochs\n",
    "\n"
   ]
  },
  {
   "cell_type": "code",
   "execution_count": 0,
   "metadata": {
    "colab": {},
    "colab_type": "code",
    "id": "_VNo39TA6bWw"
   },
   "outputs": [],
   "source": []
  },
  {
   "cell_type": "code",
   "execution_count": 0,
   "metadata": {
    "colab": {},
    "colab_type": "code",
    "id": "MngSaOILhTs3"
   },
   "outputs": [],
   "source": [
    "#num_train_optimization_steps = int(train_examples_len / TRAIN_BATCH_SIZE / GRADIENT_ACCUMULATION_STEPS) * NUM_TRAIN_EPOCHS"
   ]
  },
  {
   "cell_type": "code",
   "execution_count": 0,
   "metadata": {
    "colab": {},
    "colab_type": "code",
    "id": "fLAMtyJroJyX"
   },
   "outputs": [],
   "source": [
    "#optimizer = BertAdam(optimizer_grouped_parameters,\n",
    " #                    lr=LEARNING_RATE,\n",
    "  #                   warmup=WARMUP_PROPORTION,\n",
    "   #                  t_total=num_train_optimization_steps)\n",
    "optimizer = AdamW(optimizer_grouped_parameters,\n",
    "                  lr = LEARNING_RATE,\n",
    "                  )"
   ]
  },
  {
   "cell_type": "code",
   "execution_count": 0,
   "metadata": {
    "colab": {},
    "colab_type": "code",
    "id": "OOq4o_tSbd4A"
   },
   "outputs": [],
   "source": [
    "# Create the learning rate scheduler.\n",
    "scheduler = get_linear_schedule_with_warmup(optimizer, \n",
    "                                            num_warmup_steps = 0, # Default value in run_glue.py\n",
    "                                            num_training_steps = total_steps)\n"
   ]
  },
  {
   "cell_type": "code",
   "execution_count": 78,
   "metadata": {
    "colab": {
     "base_uri": "https://localhost:8080/",
     "height": 67
    },
    "colab_type": "code",
    "id": "iojLrc66oNBp",
    "outputId": "853e65ce-2c5d-4ed1-c62b-613c8b084345"
   },
   "outputs": [
    {
     "name": "stderr",
     "output_type": "stream",
     "text": [
      "INFO:root:  Num examples = 4500\n",
      "INFO:root:  Batch size = 6\n",
      "INFO:root:  Num steps = 4500\n"
     ]
    }
   ],
   "source": [
    "logger.info(\"  Num examples = %d\", train_examples_len)\n",
    "logger.info(\"  Batch size = %d\", TRAIN_BATCH_SIZE)\n",
    "logger.info(\"  Num steps = %d\", total_steps)"
   ]
  },
  {
   "cell_type": "code",
   "execution_count": 0,
   "metadata": {
    "colab": {},
    "colab_type": "code",
    "id": "mZln9kiZoQzj"
   },
   "outputs": [],
   "source": []
  },
  {
   "cell_type": "code",
   "execution_count": 0,
   "metadata": {
    "colab": {},
    "colab_type": "code",
    "id": "IRA3Q4z8oT63"
   },
   "outputs": [],
   "source": []
  },
  {
   "cell_type": "code",
   "execution_count": 0,
   "metadata": {
    "colab": {},
    "colab_type": "code",
    "id": "Or_iLd-P5cBP"
   },
   "outputs": [],
   "source": []
  },
  {
   "cell_type": "code",
   "execution_count": 0,
   "metadata": {
    "colab": {},
    "colab_type": "code",
    "id": "DTdneh_o5eAf"
   },
   "outputs": [],
   "source": []
  },
  {
   "cell_type": "code",
   "execution_count": 0,
   "metadata": {
    "colab": {},
    "colab_type": "code",
    "id": "_khbbvmASSAf"
   },
   "outputs": [],
   "source": []
  },
  {
   "cell_type": "code",
   "execution_count": 0,
   "metadata": {
    "colab": {},
    "colab_type": "code",
    "id": "J4m7YmEySS8w"
   },
   "outputs": [],
   "source": [
    "#Max(Number of occurrences in most common class) / (Number of occurrences in rare classes)\n"
   ]
  },
  {
   "cell_type": "code",
   "execution_count": 0,
   "metadata": {
    "colab": {},
    "colab_type": "code",
    "id": "eIaZXD-7RBoH"
   },
   "outputs": [],
   "source": [
    "weights = [0.33,1.0,0.33]\n",
    "class_weights = torch.FloatTensor(weights).to(device)"
   ]
  },
  {
   "cell_type": "code",
   "execution_count": 0,
   "metadata": {
    "colab": {},
    "colab_type": "code",
    "id": "D_u2-HYRH69t"
   },
   "outputs": [],
   "source": [
    "import time\n",
    "import datetime\n",
    "\n",
    "def format_time(elapsed):\n",
    "    '''\n",
    "    Takes a time in seconds and returns a string hh:mm:ss\n",
    "    '''\n",
    "    # Round to the nearest second.\n",
    "    elapsed_rounded = int(round((elapsed)))\n",
    "    \n",
    "    # Format as hh:mm:ss\n",
    "    return str(datetime.timedelta(seconds=elapsed_rounded))\n",
    "\n",
    "\n",
    "import random\n",
    "import numpy as np\n",
    "\n",
    "# This training code is based on the `run_glue.py` script here:\n",
    "# https://github.com/huggingface/transformers/blob/5bfcd0485ece086ebcbed2d008813037968a9e58/examples/run_glue.py#L128\n",
    "\n",
    "# Set the seed value all over the place to make this reproducible.\n",
    "seed_val = 42\n",
    "\n",
    "random.seed(seed_val)\n",
    "np.random.seed(seed_val)\n",
    "torch.manual_seed(seed_val)\n",
    "torch.cuda.manual_seed_all(seed_val)\n",
    "\n",
    "# We'll store a number of quantities such as training and validation loss, \n",
    "# validation accuracy, and timings.\n",
    "training_stats = []\n",
    "\n",
    "# Measure the total training time for the whole run.\n",
    "total_t0 = time.time()\n"
   ]
  },
  {
   "cell_type": "code",
   "execution_count": 0,
   "metadata": {
    "colab": {},
    "colab_type": "code",
    "id": "M9WsA5V5ZmRX"
   },
   "outputs": [],
   "source": [
    "# Function to calculate the accuracy of our predictions vs labels\n",
    "def flat_accuracy(preds, labels):\n",
    "    pred_flat = np.argmax(preds, axis=1).flatten()\n",
    "    labels_flat = labels.flatten()\n",
    "    return np.sum(pred_flat == labels_flat) / len(labels_flat)\n"
   ]
  },
  {
   "cell_type": "code",
   "execution_count": 0,
   "metadata": {
    "colab": {},
    "colab_type": "code",
    "id": "7aVOqlhy2_aT"
   },
   "outputs": [],
   "source": [
    "from sklearn.metrics import matthews_corrcoef, classification_report,confusion_matrix\n"
   ]
  },
  {
   "cell_type": "code",
   "execution_count": 0,
   "metadata": {
    "colab": {},
    "colab_type": "code",
    "id": "zI_ZKzG17ViP"
   },
   "outputs": [],
   "source": [
    "def cal_eval_metrics(predictions,true_labels,epochval):\n",
    "  flat_predictions = np.concatenate(predictions, axis=0)\n",
    "  flat_predictions = np.argmax(flat_predictions, axis=1).flatten()\n",
    "  flat_true_labels = np.concatenate(true_labels, axis=0)\n",
    "  mcc = matthews_corrcoef(flat_true_labels, flat_predictions)\n",
    "  print(\"Mcc and classification report for Epoch :\",epochval)\n",
    "  print(classification_report(flat_true_labels, flat_predictions))\n",
    "  print(confusion_matrix(flat_true_labels, flat_predictions))\n",
    "  print('Total MCC: %.3f' % mcc)"
   ]
  },
  {
   "cell_type": "code",
   "execution_count": 0,
   "metadata": {
    "colab": {},
    "colab_type": "code",
    "id": "BzZ9m8jhva59"
   },
   "outputs": [],
   "source": []
  },
  {
   "cell_type": "code",
   "execution_count": 85,
   "metadata": {
    "colab": {
     "base_uri": "https://localhost:8080/",
     "height": 1000
    },
    "colab_type": "code",
    "id": "rSOh6f8uH69u",
    "outputId": "05f7c263-845c-46df-d7cc-12370ecf7f66"
   },
   "outputs": [
    {
     "name": "stdout",
     "output_type": "stream",
     "text": [
      "\n",
      "======== Epoch 1 / 6 ========\n",
      "Training...\n",
      "  Batch    40  of    750.    Elapsed: 0:00:17.\n",
      "  Batch    80  of    750.    Elapsed: 0:00:34.\n",
      "  Batch   120  of    750.    Elapsed: 0:00:51.\n",
      "  Batch   160  of    750.    Elapsed: 0:01:08.\n",
      "  Batch   200  of    750.    Elapsed: 0:01:25.\n",
      "  Batch   240  of    750.    Elapsed: 0:01:42.\n",
      "  Batch   280  of    750.    Elapsed: 0:01:59.\n",
      "  Batch   320  of    750.    Elapsed: 0:02:16.\n",
      "  Batch   360  of    750.    Elapsed: 0:02:33.\n",
      "  Batch   400  of    750.    Elapsed: 0:02:50.\n",
      "  Batch   440  of    750.    Elapsed: 0:03:07.\n",
      "  Batch   480  of    750.    Elapsed: 0:03:24.\n",
      "  Batch   520  of    750.    Elapsed: 0:03:41.\n",
      "  Batch   560  of    750.    Elapsed: 0:03:59.\n",
      "  Batch   600  of    750.    Elapsed: 0:04:16.\n",
      "  Batch   640  of    750.    Elapsed: 0:04:33.\n",
      "  Batch   680  of    750.    Elapsed: 0:04:50.\n",
      "  Batch   720  of    750.    Elapsed: 0:05:07.\n",
      "  Accuracy: 0.74\n",
      "\n",
      "  Average training loss: 0.47\n",
      "  Training epcoh took: 0:05:19\n",
      "\n",
      "Running Validation...\n",
      "Mcc and classification report for Epoch : 1\n",
      "              precision    recall  f1-score   support\n",
      "\n",
      "           0       0.86      0.80      0.83       100\n",
      "           1       0.86      0.93      0.89       300\n",
      "           2       0.82      0.68      0.74       100\n",
      "\n",
      "    accuracy                           0.85       500\n",
      "   macro avg       0.85      0.80      0.82       500\n",
      "weighted avg       0.85      0.85      0.85       500\n",
      "\n",
      "[[ 80  17   3]\n",
      " [  9 279  12]\n",
      " [  4  28  68]]\n",
      "Total MCC: 0.733\n",
      "  Accuracy: 0.86\n",
      "  Validation Loss: 0.33\n",
      "  Validation took: 0:00:10\n",
      "\n",
      "======== Epoch 2 / 6 ========\n",
      "Training...\n",
      "  Batch    40  of    750.    Elapsed: 0:00:17.\n",
      "  Batch    80  of    750.    Elapsed: 0:00:34.\n",
      "  Batch   120  of    750.    Elapsed: 0:00:51.\n",
      "  Batch   160  of    750.    Elapsed: 0:01:08.\n",
      "  Batch   200  of    750.    Elapsed: 0:01:25.\n",
      "  Batch   240  of    750.    Elapsed: 0:01:42.\n",
      "  Batch   280  of    750.    Elapsed: 0:01:59.\n",
      "  Batch   320  of    750.    Elapsed: 0:02:16.\n",
      "  Batch   360  of    750.    Elapsed: 0:02:33.\n",
      "  Batch   400  of    750.    Elapsed: 0:02:50.\n",
      "  Batch   440  of    750.    Elapsed: 0:03:07.\n",
      "  Batch   480  of    750.    Elapsed: 0:03:24.\n",
      "  Batch   520  of    750.    Elapsed: 0:03:41.\n",
      "  Batch   560  of    750.    Elapsed: 0:03:58.\n",
      "  Batch   600  of    750.    Elapsed: 0:04:15.\n",
      "  Batch   640  of    750.    Elapsed: 0:04:32.\n",
      "  Batch   680  of    750.    Elapsed: 0:04:49.\n",
      "  Batch   720  of    750.    Elapsed: 0:05:06.\n",
      "  Accuracy: 0.91\n",
      "\n",
      "  Average training loss: 0.26\n",
      "  Training epcoh took: 0:05:18\n",
      "\n",
      "Running Validation...\n",
      "Mcc and classification report for Epoch : 2\n",
      "              precision    recall  f1-score   support\n",
      "\n",
      "           0       0.84      0.94      0.89       100\n",
      "           1       0.92      0.92      0.92       300\n",
      "           2       0.84      0.75      0.79       100\n",
      "\n",
      "    accuracy                           0.89       500\n",
      "   macro avg       0.87      0.87      0.87       500\n",
      "weighted avg       0.89      0.89      0.89       500\n",
      "\n",
      "[[ 94   6   0]\n",
      " [ 11 275  14]\n",
      " [  7  18  75]]\n",
      "Total MCC: 0.801\n",
      "  Accuracy: 0.89\n",
      "  Validation Loss: 0.41\n",
      "  Validation took: 0:00:10\n",
      "\n",
      "======== Epoch 3 / 6 ========\n",
      "Training...\n",
      "  Batch    40  of    750.    Elapsed: 0:00:17.\n",
      "  Batch    80  of    750.    Elapsed: 0:00:34.\n",
      "  Batch   120  of    750.    Elapsed: 0:00:51.\n",
      "  Batch   160  of    750.    Elapsed: 0:01:08.\n",
      "  Batch   200  of    750.    Elapsed: 0:01:24.\n",
      "  Batch   240  of    750.    Elapsed: 0:01:41.\n",
      "  Batch   280  of    750.    Elapsed: 0:01:58.\n",
      "  Batch   320  of    750.    Elapsed: 0:02:15.\n",
      "  Batch   360  of    750.    Elapsed: 0:02:32.\n",
      "  Batch   400  of    750.    Elapsed: 0:02:49.\n",
      "  Batch   440  of    750.    Elapsed: 0:03:06.\n",
      "  Batch   480  of    750.    Elapsed: 0:03:23.\n",
      "  Batch   520  of    750.    Elapsed: 0:03:40.\n",
      "  Batch   560  of    750.    Elapsed: 0:03:57.\n",
      "  Batch   600  of    750.    Elapsed: 0:04:14.\n",
      "  Batch   640  of    750.    Elapsed: 0:04:31.\n",
      "  Batch   680  of    750.    Elapsed: 0:04:48.\n",
      "  Batch   720  of    750.    Elapsed: 0:05:05.\n",
      "  Accuracy: 0.96\n",
      "\n",
      "  Average training loss: 0.12\n",
      "  Training epcoh took: 0:05:17\n",
      "\n",
      "Running Validation...\n",
      "Mcc and classification report for Epoch : 3\n",
      "              precision    recall  f1-score   support\n",
      "\n",
      "           0       0.90      0.92      0.91       100\n",
      "           1       0.93      0.92      0.92       300\n",
      "           2       0.84      0.83      0.83       100\n",
      "\n",
      "    accuracy                           0.90       500\n",
      "   macro avg       0.89      0.89      0.89       500\n",
      "weighted avg       0.90      0.90      0.90       500\n",
      "\n",
      "[[ 92   7   1]\n",
      " [  8 277  15]\n",
      " [  2  15  83]]\n",
      "Total MCC: 0.829\n",
      "  Accuracy: 0.90\n",
      "  Validation Loss: 0.50\n",
      "  Validation took: 0:00:10\n",
      "\n",
      "======== Epoch 4 / 6 ========\n",
      "Training...\n",
      "  Batch    40  of    750.    Elapsed: 0:00:17.\n",
      "  Batch    80  of    750.    Elapsed: 0:00:34.\n",
      "  Batch   120  of    750.    Elapsed: 0:00:51.\n",
      "  Batch   160  of    750.    Elapsed: 0:01:08.\n",
      "  Batch   200  of    750.    Elapsed: 0:01:25.\n",
      "  Batch   240  of    750.    Elapsed: 0:01:41.\n",
      "  Batch   280  of    750.    Elapsed: 0:01:58.\n",
      "  Batch   320  of    750.    Elapsed: 0:02:15.\n",
      "  Batch   360  of    750.    Elapsed: 0:02:32.\n",
      "  Batch   400  of    750.    Elapsed: 0:02:49.\n",
      "  Batch   440  of    750.    Elapsed: 0:03:06.\n",
      "  Batch   480  of    750.    Elapsed: 0:03:23.\n",
      "  Batch   520  of    750.    Elapsed: 0:03:40.\n",
      "  Batch   560  of    750.    Elapsed: 0:03:57.\n",
      "  Batch   600  of    750.    Elapsed: 0:04:14.\n",
      "  Batch   640  of    750.    Elapsed: 0:04:31.\n",
      "  Batch   680  of    750.    Elapsed: 0:04:48.\n",
      "  Batch   720  of    750.    Elapsed: 0:05:04.\n",
      "  Accuracy: 0.98\n",
      "\n",
      "  Average training loss: 0.06\n",
      "  Training epcoh took: 0:05:17\n",
      "\n",
      "Running Validation...\n",
      "Mcc and classification report for Epoch : 4\n",
      "              precision    recall  f1-score   support\n",
      "\n",
      "           0       0.89      0.92      0.91       100\n",
      "           1       0.92      0.92      0.92       300\n",
      "           2       0.83      0.82      0.82       100\n",
      "\n",
      "    accuracy                           0.90       500\n",
      "   macro avg       0.88      0.89      0.88       500\n",
      "weighted avg       0.90      0.90      0.90       500\n",
      "\n",
      "[[ 92   7   1]\n",
      " [  9 275  16]\n",
      " [  2  16  82]]\n",
      "Total MCC: 0.818\n",
      "  Accuracy: 0.90\n",
      "  Validation Loss: 0.58\n",
      "  Validation took: 0:00:10\n",
      "\n",
      "======== Epoch 5 / 6 ========\n",
      "Training...\n",
      "  Batch    40  of    750.    Elapsed: 0:00:17.\n",
      "  Batch    80  of    750.    Elapsed: 0:00:34.\n",
      "  Batch   120  of    750.    Elapsed: 0:00:51.\n",
      "  Batch   160  of    750.    Elapsed: 0:01:08.\n",
      "  Batch   200  of    750.    Elapsed: 0:01:25.\n",
      "  Batch   240  of    750.    Elapsed: 0:01:41.\n",
      "  Batch   280  of    750.    Elapsed: 0:01:58.\n",
      "  Batch   320  of    750.    Elapsed: 0:02:15.\n",
      "  Batch   360  of    750.    Elapsed: 0:02:32.\n",
      "  Batch   400  of    750.    Elapsed: 0:02:49.\n",
      "  Batch   440  of    750.    Elapsed: 0:03:06.\n",
      "  Batch   480  of    750.    Elapsed: 0:03:23.\n",
      "  Batch   520  of    750.    Elapsed: 0:03:39.\n",
      "  Batch   560  of    750.    Elapsed: 0:03:56.\n",
      "  Batch   600  of    750.    Elapsed: 0:04:13.\n",
      "  Batch   640  of    750.    Elapsed: 0:04:30.\n",
      "  Batch   680  of    750.    Elapsed: 0:04:47.\n",
      "  Batch   720  of    750.    Elapsed: 0:05:04.\n",
      "  Accuracy: 0.98\n",
      "\n",
      "  Average training loss: 0.05\n",
      "  Training epcoh took: 0:05:17\n",
      "\n",
      "Running Validation...\n",
      "Mcc and classification report for Epoch : 5\n",
      "              precision    recall  f1-score   support\n",
      "\n",
      "           0       0.89      0.94      0.91       100\n",
      "           1       0.93      0.92      0.92       300\n",
      "           2       0.85      0.81      0.83       100\n",
      "\n",
      "    accuracy                           0.90       500\n",
      "   macro avg       0.89      0.89      0.89       500\n",
      "weighted avg       0.90      0.90      0.90       500\n",
      "\n",
      "[[ 94   6   0]\n",
      " [  9 277  14]\n",
      " [  3  16  81]]\n",
      "Total MCC: 0.829\n",
      "  Accuracy: 0.90\n",
      "  Validation Loss: 0.58\n",
      "  Validation took: 0:00:10\n",
      "\n",
      "======== Epoch 6 / 6 ========\n",
      "Training...\n",
      "  Batch    40  of    750.    Elapsed: 0:00:17.\n",
      "  Batch    80  of    750.    Elapsed: 0:00:34.\n",
      "  Batch   120  of    750.    Elapsed: 0:00:51.\n",
      "  Batch   160  of    750.    Elapsed: 0:01:07.\n",
      "  Batch   200  of    750.    Elapsed: 0:01:24.\n",
      "  Batch   240  of    750.    Elapsed: 0:01:41.\n",
      "  Batch   280  of    750.    Elapsed: 0:01:58.\n",
      "  Batch   320  of    750.    Elapsed: 0:02:15.\n",
      "  Batch   360  of    750.    Elapsed: 0:02:32.\n",
      "  Batch   400  of    750.    Elapsed: 0:02:49.\n",
      "  Batch   440  of    750.    Elapsed: 0:03:06.\n",
      "  Batch   480  of    750.    Elapsed: 0:03:23.\n",
      "  Batch   520  of    750.    Elapsed: 0:03:40.\n",
      "  Batch   560  of    750.    Elapsed: 0:03:57.\n",
      "  Batch   600  of    750.    Elapsed: 0:04:14.\n",
      "  Batch   640  of    750.    Elapsed: 0:04:31.\n",
      "  Batch   680  of    750.    Elapsed: 0:04:48.\n",
      "  Batch   720  of    750.    Elapsed: 0:05:05.\n",
      "  Accuracy: 0.98\n",
      "\n",
      "  Average training loss: 0.05\n",
      "  Training epcoh took: 0:05:17\n",
      "\n",
      "Running Validation...\n",
      "Mcc and classification report for Epoch : 6\n",
      "              precision    recall  f1-score   support\n",
      "\n",
      "           0       0.91      0.93      0.92       100\n",
      "           1       0.92      0.92      0.92       300\n",
      "           2       0.84      0.82      0.83       100\n",
      "\n",
      "    accuracy                           0.90       500\n",
      "   macro avg       0.89      0.89      0.89       500\n",
      "weighted avg       0.90      0.90      0.90       500\n",
      "\n",
      "[[ 93   7   0]\n",
      " [  7 277  16]\n",
      " [  2  16  82]]\n",
      "Total MCC: 0.829\n",
      "  Accuracy: 0.90\n",
      "  Validation Loss: 0.53\n",
      "  Validation took: 0:00:10\n",
      "\n",
      "Training complete!\n",
      "Total training took 0:32:49 (h:mm:ss)\n"
     ]
    }
   ],
   "source": [
    "epochs = int(NUM_TRAIN_EPOCHS)\n",
    "#best_accuracy = 0\n",
    "# For each epoch...\n",
    "for epoch_i in range(0, epochs):\n",
    "    \n",
    "    # ========================================\n",
    "    #               Training\n",
    "    # ========================================\n",
    "    \n",
    "    # Perform one full pass over the training set.\n",
    "\n",
    "    print(\"\")\n",
    "    print('======== Epoch {:} / {:} ========'.format(epoch_i + 1, epochs))\n",
    "    print('Training...')\n",
    "    predictions , true_labels = [], []\n",
    "    predictions_train , true_labels_train = [], []\n",
    "\n",
    "    # Measure how long the training epoch takes.\n",
    "    t0 = time.time()\n",
    "    total_train_accuracy=0\n",
    "    # Reset the total loss for this epoch.\n",
    "    total_train_loss = 0\n",
    "\n",
    "    model.train()\n",
    "\n",
    "    # For each batch of training data...\n",
    "    for step, batch in enumerate(train_dataloader):\n",
    "            if step % 40 == 0 and not step == 0:\n",
    "            # Calculate elapsed time in minutes.\n",
    "                elapsed = format_time(time.time() - t0)\n",
    "            \n",
    "            # Report progress.\n",
    "                print('  Batch {:>5,}  of  {:>5,}.    Elapsed: {:}.'.format(step, len(train_dataloader), elapsed))\n",
    "\n",
    "        # Unpack this training batch from our dataloader. \n",
    "        #\n",
    "        # As we unpack the batch, we'll also copy each tensor to the GPU using the \n",
    "        # `to` method.\n",
    "        #\n",
    "        # `batch` contains three pytorch tensors:\n",
    "        #   [0]: input ids \n",
    "        #   [1]: attention masks\n",
    "        #   [2]: labels \n",
    "            batch = tuple(t.to(device) for t in batch)\n",
    "            b_input_ids, b_input_mask, b_segment_ids, b_label_ids = batch\n",
    "        # Always clear any previously calculated gradients before performing a\n",
    "        # backward pass. PyTorch doesn't do this automatically \n",
    "        # (source: https://stackoverflow.com/questions/48001598/why-do-we-need-to-call-zero-grad-in-pytorch)\n",
    "            model.zero_grad()        \n",
    "            logits = model(b_input_ids, token_type_ids=b_segment_ids, attention_mask=b_input_mask,labels=None)\n",
    "\n",
    "        # Accumulate the training loss over all of the batches so that we can\n",
    "        # calculate the average loss at the end. `loss` is a Tensor containing a\n",
    "        # single value; the `.item()` function just returns the Python value \n",
    "        # from the tensor.\n",
    "            loss_fct = CrossEntropyLoss(weight=class_weights)\n",
    "            loss = loss_fct(logits.view(-1, num_labels), b_label_ids.view(-1))\n",
    "            total_train_loss += loss.item()\n",
    "            logits_train = logits.detach().cpu().numpy()\n",
    "            label_ids_train = b_label_ids.to('cpu').numpy()\n",
    "        \n",
    "        \n",
    "            predictions_train.append(logits_train)\n",
    "            true_labels_train.append(label_ids_train)\n",
    "        \n",
    "        \n",
    "            # Calculate the accuracy for this batch of test sentences, and\n",
    "            # accumulate it over all batches.\n",
    "            total_train_accuracy += flat_accuracy(logits_train, label_ids_train)\n",
    "            \n",
    "            \n",
    "            \n",
    "        # Perform a backward pass to calculate the gradients.\n",
    "            loss.backward()\n",
    "\n",
    "        # Clip the norm of the gradients to 1.0.\n",
    "        # This is to help prevent the \"exploding gradients\" problem.\n",
    "            torch.nn.utils.clip_grad_norm_(model.parameters(), 1.0)\n",
    "\n",
    "        # Update parameters and take a step using the computed gradient.\n",
    "        # The optimizer dictates the \"update rule\"--how the parameters are\n",
    "        # modified based on their gradients, the learning rate, etc.\n",
    "            optimizer.step()\n",
    "\n",
    "        # Update the learning rate.\n",
    "            scheduler.step()\n",
    "\n",
    "    # Report the final accuracy for this training run.\n",
    "    avg_train_accuracy = total_train_accuracy / len(train_dataloader)\n",
    "    print(\"  Accuracy: {0:.2f}\".format(avg_train_accuracy))\n",
    "\n",
    "    # Calculate the average loss over all of the batches.\n",
    "    avg_train_loss = total_train_loss / len(train_dataloader)            \n",
    "    \n",
    "    # Measure how long this epoch took.\n",
    "    training_time = format_time(time.time() - t0)\n",
    "\n",
    "    print(\"\")\n",
    "    print(\"  Average training loss: {0:.2f}\".format(avg_train_loss))\n",
    "    print(\"  Training epcoh took: {:}\".format(training_time))\n",
    "        \n",
    "    # ========================================\n",
    "    #               Validation\n",
    "    # ========================================\n",
    "    # After the completion of each training epoch, measure our performance on\n",
    "    # our validation set.\n",
    "\n",
    "    print(\"\")\n",
    "    print(\"Running Validation...\")\n",
    "\n",
    "    t0 = time.time()\n",
    "\n",
    "    # Put the model in evaluation mode--the dropout layers behave differently\n",
    "    # during evaluation.\n",
    "    model.eval()\n",
    "\n",
    "    # Tracking variables \n",
    "    total_eval_accuracy = 0\n",
    "    total_eval_mcc = 0\n",
    "    total_eval_loss = 0\n",
    "    nb_eval_steps = 0\n",
    "    \n",
    "    for batch in validation_dataloader:\n",
    "     \n",
    "        batch = tuple(t.to(device) for t in batch)\n",
    "        b_input_ids, b_input_mask, b_segment_ids, b_label_ids = batch\n",
    "        # Tell pytorch not to bother with constructing the compute graph during\n",
    "        # the forward pass, since this is only needed for backprop (training).\n",
    "        with torch.no_grad():        \n",
    "\n",
    "            # Forward pass, calculate logit predictions.\n",
    "            # token_type_ids is the same as the \"segment ids\", which \n",
    "            # differentiates sentence 1 and 2 in 2-sentence tasks.\n",
    "            # The documentation for this `model` function is here: \n",
    "            # https://huggingface.co/transformers/v2.2.0/model_doc/bert.html#transformers.BertForSequenceClassification\n",
    "            # Get the \"logits\" output by the model. The \"logits\" are the output\n",
    "            # values prior to applying an activation function like the softmax.\n",
    "            logits = model(b_input_ids, \n",
    "                                   token_type_ids=b_segment_ids, \n",
    "                                   attention_mask=b_input_mask,\n",
    "                                   labels=None)\n",
    "            \n",
    "        # Accumulate the validation loss.\n",
    "        loss_fct = CrossEntropyLoss(weight=class_weights)\n",
    "        loss = loss_fct(logits.view(-1, num_labels), b_label_ids.view(-1))\n",
    "            \n",
    "        total_eval_loss += loss.item()\n",
    "\n",
    "        # Move logits and labels to CPU\n",
    "        logits = logits.detach().cpu().numpy()\n",
    "        label_ids = b_label_ids.to('cpu').numpy()\n",
    "        \n",
    "        \n",
    "        predictions.append(logits)\n",
    "        true_labels.append(label_ids)\n",
    "        \n",
    "        \n",
    "        # Calculate the accuracy for this batch of test sentences, and\n",
    "        # accumulate it over all batches.\n",
    "        total_eval_accuracy += flat_accuracy(logits, label_ids)\n",
    "        \n",
    "    cal_eval_metrics(predictions,true_labels,epoch_i+1)\n",
    "    \n",
    "    # Report the final accuracy for this validation run.\n",
    "    avg_val_accuracy = total_eval_accuracy / len(validation_dataloader)\n",
    "    print(\"  Accuracy: {0:.2f}\".format(avg_val_accuracy))\n",
    "    # Calculate the average loss over all of the batches.\n",
    "    avg_val_loss = total_eval_loss / len(validation_dataloader)\n",
    "    \n",
    "    # Measure how long the validation run took.\n",
    "    validation_time = format_time(time.time() - t0)\n",
    "    \n",
    "    print(\"  Validation Loss: {0:.2f}\".format(avg_val_loss))\n",
    "    print(\"  Validation took: {:}\".format(validation_time))\n",
    "\n",
    "    # Record all statistics from this epoch.\n",
    "    training_stats.append(\n",
    "        {\n",
    "            'epoch': epoch_i + 1,\n",
    "            'Training Loss': avg_train_loss,\n",
    "            'Valid. Loss': avg_val_loss,\n",
    "            'Valid. Accur.': avg_val_accuracy,\n",
    "            'Train Accur.' : avg_train_accuracy,\n",
    "            'Training Time': training_time,\n",
    "            'Validation Time': validation_time\n",
    "        }\n",
    "    )\n",
    "\n",
    "\n",
    "print(\"\")\n",
    "print(\"Training complete!\")\n",
    "print(\"Total training took {:} (h:mm:ss)\".format(format_time(time.time()-total_t0)))\n"
   ]
  },
  {
   "cell_type": "code",
   "execution_count": 0,
   "metadata": {
    "colab": {},
    "colab_type": "code",
    "id": "i-OonqqVxSoG"
   },
   "outputs": [],
   "source": []
  },
  {
   "cell_type": "code",
   "execution_count": 0,
   "metadata": {
    "colab": {},
    "colab_type": "code",
    "id": "gn-KhWLJL88r"
   },
   "outputs": [],
   "source": []
  },
  {
   "cell_type": "code",
   "execution_count": 0,
   "metadata": {
    "colab": {},
    "colab_type": "code",
    "id": "qFJ0AZnREoMq"
   },
   "outputs": [],
   "source": []
  },
  {
   "cell_type": "code",
   "execution_count": 0,
   "metadata": {
    "colab": {},
    "colab_type": "code",
    "id": "2cZSx2nBE22J"
   },
   "outputs": [],
   "source": []
  },
  {
   "cell_type": "code",
   "execution_count": 0,
   "metadata": {
    "colab": {},
    "colab_type": "code",
    "id": "DVe5m47gFFfq"
   },
   "outputs": [],
   "source": []
  },
  {
   "cell_type": "code",
   "execution_count": 0,
   "metadata": {
    "colab": {},
    "colab_type": "code",
    "id": "U1FGoZqo7S6x"
   },
   "outputs": [],
   "source": []
  },
  {
   "cell_type": "code",
   "execution_count": 0,
   "metadata": {
    "colab": {},
    "colab_type": "code",
    "id": "3BVrNoxXksgt"
   },
   "outputs": [],
   "source": []
  },
  {
   "cell_type": "code",
   "execution_count": 0,
   "metadata": {
    "colab": {},
    "colab_type": "code",
    "id": "6FJNbu50fLa0"
   },
   "outputs": [],
   "source": []
  },
  {
   "cell_type": "code",
   "execution_count": 0,
   "metadata": {
    "colab": {},
    "colab_type": "code",
    "id": "pVjgRzoI79JR"
   },
   "outputs": [],
   "source": []
  },
  {
   "cell_type": "code",
   "execution_count": 0,
   "metadata": {
    "colab": {},
    "colab_type": "code",
    "id": "HBYwT-He7aXr"
   },
   "outputs": [],
   "source": []
  },
  {
   "cell_type": "code",
   "execution_count": 0,
   "metadata": {
    "colab": {},
    "colab_type": "code",
    "id": "ZyzuD7SKmWV3"
   },
   "outputs": [],
   "source": [
    "from sklearn.metrics import accuracy_score"
   ]
  },
  {
   "cell_type": "code",
   "execution_count": 0,
   "metadata": {
    "colab": {},
    "colab_type": "code",
    "id": "fm0ndkyxmTgB"
   },
   "outputs": [],
   "source": []
  },
  {
   "cell_type": "code",
   "execution_count": 0,
   "metadata": {
    "colab": {},
    "colab_type": "code",
    "id": "BeTRfDmk8Eza"
   },
   "outputs": [],
   "source": []
  },
  {
   "cell_type": "code",
   "execution_count": 0,
   "metadata": {
    "colab": {},
    "colab_type": "code",
    "id": "7BrcbjP7iYfu"
   },
   "outputs": [],
   "source": []
  },
  {
   "cell_type": "code",
   "execution_count": 0,
   "metadata": {
    "colab": {},
    "colab_type": "code",
    "id": "40vcQTrHinJQ"
   },
   "outputs": [],
   "source": []
  },
  {
   "cell_type": "code",
   "execution_count": 87,
   "metadata": {
    "colab": {
     "base_uri": "https://localhost:8080/",
     "height": 254
    },
    "colab_type": "code",
    "id": "gkj_OeZkH69w",
    "outputId": "96b417d5-30a9-4449-e51d-9b639f670677"
   },
   "outputs": [
    {
     "data": {
      "text/html": [
       "<div>\n",
       "<style scoped>\n",
       "    .dataframe tbody tr th:only-of-type {\n",
       "        vertical-align: middle;\n",
       "    }\n",
       "\n",
       "    .dataframe tbody tr th {\n",
       "        vertical-align: top;\n",
       "    }\n",
       "\n",
       "    .dataframe thead th {\n",
       "        text-align: right;\n",
       "    }\n",
       "</style>\n",
       "<table border=\"1\" class=\"dataframe\">\n",
       "  <thead>\n",
       "    <tr style=\"text-align: right;\">\n",
       "      <th></th>\n",
       "      <th>Training Loss</th>\n",
       "      <th>Valid. Loss</th>\n",
       "      <th>Valid. Accur.</th>\n",
       "      <th>Train Accur.</th>\n",
       "      <th>Training Time</th>\n",
       "      <th>Validation Time</th>\n",
       "    </tr>\n",
       "    <tr>\n",
       "      <th>epoch</th>\n",
       "      <th></th>\n",
       "      <th></th>\n",
       "      <th></th>\n",
       "      <th></th>\n",
       "      <th></th>\n",
       "      <th></th>\n",
       "    </tr>\n",
       "  </thead>\n",
       "  <tbody>\n",
       "    <tr>\n",
       "      <th>1</th>\n",
       "      <td>0.47</td>\n",
       "      <td>0.33</td>\n",
       "      <td>0.86</td>\n",
       "      <td>0.74</td>\n",
       "      <td>0:05:19</td>\n",
       "      <td>0:00:10</td>\n",
       "    </tr>\n",
       "    <tr>\n",
       "      <th>2</th>\n",
       "      <td>0.26</td>\n",
       "      <td>0.41</td>\n",
       "      <td>0.89</td>\n",
       "      <td>0.91</td>\n",
       "      <td>0:05:18</td>\n",
       "      <td>0:00:10</td>\n",
       "    </tr>\n",
       "    <tr>\n",
       "      <th>3</th>\n",
       "      <td>0.12</td>\n",
       "      <td>0.50</td>\n",
       "      <td>0.90</td>\n",
       "      <td>0.96</td>\n",
       "      <td>0:05:17</td>\n",
       "      <td>0:00:10</td>\n",
       "    </tr>\n",
       "    <tr>\n",
       "      <th>4</th>\n",
       "      <td>0.06</td>\n",
       "      <td>0.58</td>\n",
       "      <td>0.90</td>\n",
       "      <td>0.98</td>\n",
       "      <td>0:05:17</td>\n",
       "      <td>0:00:10</td>\n",
       "    </tr>\n",
       "    <tr>\n",
       "      <th>5</th>\n",
       "      <td>0.05</td>\n",
       "      <td>0.58</td>\n",
       "      <td>0.90</td>\n",
       "      <td>0.98</td>\n",
       "      <td>0:05:17</td>\n",
       "      <td>0:00:10</td>\n",
       "    </tr>\n",
       "    <tr>\n",
       "      <th>6</th>\n",
       "      <td>0.05</td>\n",
       "      <td>0.53</td>\n",
       "      <td>0.90</td>\n",
       "      <td>0.98</td>\n",
       "      <td>0:05:17</td>\n",
       "      <td>0:00:10</td>\n",
       "    </tr>\n",
       "  </tbody>\n",
       "</table>\n",
       "</div>"
      ],
      "text/plain": [
       "       Training Loss  Valid. Loss  ...  Training Time  Validation Time\n",
       "epoch                              ...                                \n",
       "1               0.47         0.33  ...        0:05:19          0:00:10\n",
       "2               0.26         0.41  ...        0:05:18          0:00:10\n",
       "3               0.12         0.50  ...        0:05:17          0:00:10\n",
       "4               0.06         0.58  ...        0:05:17          0:00:10\n",
       "5               0.05         0.58  ...        0:05:17          0:00:10\n",
       "6               0.05         0.53  ...        0:05:17          0:00:10\n",
       "\n",
       "[6 rows x 6 columns]"
      ]
     },
     "execution_count": 87,
     "metadata": {
      "tags": []
     },
     "output_type": "execute_result"
    }
   ],
   "source": [
    "import pandas as pd\n",
    "\n",
    "# Display floats with two decimal places.\n",
    "pd.set_option('precision', 2)\n",
    "\n",
    "# Create a DataFrame from our training statistics.\n",
    "df_stats = pd.DataFrame(data=training_stats)\n",
    "\n",
    "# Use the 'epoch' as the row index.\n",
    "df_stats = df_stats.set_index('epoch')\n",
    "\n",
    "\n",
    "# Display the table.\n",
    "df_stats"
   ]
  },
  {
   "cell_type": "code",
   "execution_count": 0,
   "metadata": {
    "colab": {},
    "colab_type": "code",
    "id": "UL-8aBl4jEcM"
   },
   "outputs": [],
   "source": []
  },
  {
   "cell_type": "code",
   "execution_count": 0,
   "metadata": {
    "colab": {},
    "colab_type": "code",
    "id": "nCIgDnlWi1yr"
   },
   "outputs": [],
   "source": []
  },
  {
   "cell_type": "code",
   "execution_count": 88,
   "metadata": {
    "colab": {
     "base_uri": "https://localhost:8080/",
     "height": 427
    },
    "colab_type": "code",
    "id": "KFzgamCQogPL",
    "outputId": "0dc45ec7-2e4f-4d4c-8372-5ad661cffd41"
   },
   "outputs": [
    {
     "data": {
      "image/png": "[encoded data removed]",
      "text/plain": [
       "<Figure size 864x432 with 1 Axes>"
      ]
     },
     "metadata": {
      "tags": []
     },
     "output_type": "display_data"
    }
   ],
   "source": [
    "import matplotlib.pyplot as plt\n",
    "% matplotlib inline\n",
    "\n",
    "import seaborn as sns\n",
    "# Use plot styling from seaborn.\n",
    "sns.set(style='darkgrid')\n",
    "\n",
    "# Increase the plot size and font size.\n",
    "sns.set(font_scale=1.5)\n",
    "plt.rcParams[\"figure.figsize\"] = (12,6)\n",
    "\n",
    "# Plot the learning curve.\n",
    "plt.plot(df_stats['Training Loss'], 'b-o', label=\"Training\")\n",
    "plt.plot(df_stats['Valid. Loss'], 'g-o', label=\"Validation\")\n",
    "\n",
    "# Label the plot.\n",
    "plt.title(\"Training & Validation Loss\")\n",
    "plt.xlabel(\"Epoch\")\n",
    "plt.ylabel(\"Loss\")\n",
    "plt.legend()\n",
    "plt.xticks([1, 2, 3, 4])\n",
    "\n",
    "plt.show()\n"
   ]
  },
  {
   "cell_type": "code",
   "execution_count": 0,
   "metadata": {
    "colab": {},
    "colab_type": "code",
    "id": "Vj0fLRO-i83j"
   },
   "outputs": [],
   "source": []
  },
  {
   "cell_type": "code",
   "execution_count": 89,
   "metadata": {
    "colab": {
     "base_uri": "https://localhost:8080/",
     "height": 427
    },
    "colab_type": "code",
    "id": "atJXoaRRi9Gc",
    "outputId": "f66cc254-9180-4173-ba9a-dc6d63fe405d"
   },
   "outputs": [
    {
     "data": {
      "image/png": "[encoded data removed]",
      "text/plain": [
       "<Figure size 864x432 with 1 Axes>"
      ]
     },
     "metadata": {
      "tags": []
     },
     "output_type": "display_data"
    }
   ],
   "source": [
    "plt.plot(df_stats['Train Accur.'], 'b-o', label=\"Training\")\n",
    "plt.plot(df_stats['Valid. Accur.'], 'g-o', label=\"Validation\")\n",
    "\n",
    "# Label the plot.\n",
    "plt.title(\"Training & Validation Accuracy\")\n",
    "plt.xlabel(\"Epoch\")\n",
    "plt.ylabel(\"Accuracy\")\n",
    "plt.legend()\n",
    "plt.xticks([1, 2, 3, 4])\n",
    "\n",
    "plt.show()\n"
   ]
  },
  {
   "cell_type": "code",
   "execution_count": 0,
   "metadata": {
    "colab": {},
    "colab_type": "code",
    "id": "4DN_sJmKJ0_D"
   },
   "outputs": [],
   "source": []
  },
  {
   "cell_type": "code",
   "execution_count": 0,
   "metadata": {
    "colab": {},
    "colab_type": "code",
    "id": "YPCBI_BhM_6s"
   },
   "outputs": [],
   "source": []
  },
  {
   "cell_type": "code",
   "execution_count": 90,
   "metadata": {
    "colab": {
     "base_uri": "https://localhost:8080/",
     "height": 34
    },
    "colab_type": "code",
    "id": "-TW42oL28vMN",
    "outputId": "113786b5-b8bb-4cc2-f6ff-d1dbc2d5ed12"
   },
   "outputs": [
    {
     "data": {
      "text/plain": [
       "'outputs/yelp/vocab.txt'"
      ]
     },
     "execution_count": 90,
     "metadata": {
      "tags": []
     },
     "output_type": "execute_result"
    }
   ],
   "source": [
    "model_to_save = model.module if hasattr(model, 'module') else model  # Only save the model it-self\n",
    "\n",
    "\n",
    "# If we save using the predefined names, we can load using `from_pretrained`\n",
    "output_model_file = os.path.join(OUTPUT_DIR, WEIGHTS_NAME)\n",
    "output_config_file = os.path.join(OUTPUT_DIR, CONFIG_NAME)\n",
    "\n",
    "torch.save(model_to_save.state_dict(), output_model_file)\n",
    "model_to_save.config.to_json_file(output_config_file)\n",
    "#model_to_save.save_pretrained(OUTPUT_DIR)\n",
    "#tokenizer.save_pretrained(OUTPUT_DIR)\n",
    "tokenizer.save_vocabulary(OUTPUT_DIR)"
   ]
  },
  {
   "cell_type": "code",
   "execution_count": 0,
   "metadata": {
    "colab": {},
    "colab_type": "code",
    "id": "QFfLO68BNpeU"
   },
   "outputs": [],
   "source": [
    "# The input data dir. Should contain the .tsv files (or other data files) for the task.\n",
    "DATA_DIR = \"data/\"\n",
    "\n",
    "# Bert pre-trained model selected in the list: bert-base-uncased, \n",
    "# bert-large-uncased, bert-base-cased, bert-large-cased, bert-base-multilingual-uncased,\n",
    "# bert-base-multilingual-cased, bert-base-chinese.\n",
    "BERT_MODEL = 'bert-base-uncased.tar.gz'\n",
    "\n",
    "TASK_NAME = 'yelp'\n",
    "\n",
    "# The output directory where the fine-tuned model and checkpoints will be written.\n",
    "OUTPUT_DIR = f'outputs/{TASK_NAME}/'\n",
    "\n",
    "\n",
    "# This is where BERT will look for pre-trained models to load parameters from.\n",
    "CACHE_DIR = 'cache/'\n",
    "\n",
    "# The maximum total input sequence length after WordPiece tokenization.\n",
    "# Sequences longer than this will be truncated, and sequences shorter than this will be padded.\n",
    "MAX_SEQ_LENGTH = 512\n",
    "\n",
    "TRAIN_BATCH_SIZE = 6\n",
    "EVAL_BATCH_SIZE = 6\n",
    "LEARNING_RATE = 3e-5\n",
    "NUM_TRAIN_EPOCHS = 6\n",
    "RANDOM_SEED = 42\n",
    "#GRADIENT_ACCUMULATION_STEPS = 1\n",
    "#WARMUP_PROPORTION = 0.1\n",
    "OUTPUT_MODE = 'classification'\n",
    "CONFIG_NAME = \"config.json\"\n",
    "WEIGHTS_NAME = \"pytorch_model.bin\""
   ]
  },
  {
   "cell_type": "code",
   "execution_count": 0,
   "metadata": {
    "colab": {},
    "colab_type": "code",
    "id": "px7g7SH-jhvP"
   },
   "outputs": [],
   "source": []
  },
  {
   "cell_type": "code",
   "execution_count": 0,
   "metadata": {
    "colab": {},
    "colab_type": "code",
    "id": "Dwq965Zzf3XK"
   },
   "outputs": [],
   "source": []
  },
  {
   "cell_type": "code",
   "execution_count": 0,
   "metadata": {
    "colab": {},
    "colab_type": "code",
    "id": "uN85c6eps_sk"
   },
   "outputs": [],
   "source": []
  },
  {
   "cell_type": "code",
   "execution_count": 92,
   "metadata": {
    "colab": {
     "base_uri": "https://localhost:8080/",
     "height": 34
    },
    "colab_type": "code",
    "id": "fhffp-XJtFPR",
    "outputId": "e8366257-0a47-49e8-cabe-fccd6c1325dd"
   },
   "outputs": [
    {
     "name": "stderr",
     "output_type": "stream",
     "text": [
      "INFO:pytorch_pretrained_bert.tokenization:loading vocabulary file outputs/yelp/vocab.txt\n"
     ]
    }
   ],
   "source": [
    "tokenizer = BertTokenizer.from_pretrained(OUTPUT_DIR + 'vocab.txt', do_lower_case=True)"
   ]
  },
  {
   "cell_type": "code",
   "execution_count": 0,
   "metadata": {
    "colab": {},
    "colab_type": "code",
    "id": "1Fl6zuMItJFr"
   },
   "outputs": [],
   "source": [
    "processor = ClassificationProcessor()\n",
    "test_examples = processor.get_test_examples(DATA_DIR)\n",
    "label_list = processor.get_labels() # [-1, 0, 1] for classification\n",
    "num_labels = len(label_list)\n",
    "test_examples_len = len(test_examples)"
   ]
  },
  {
   "cell_type": "code",
   "execution_count": 0,
   "metadata": {
    "colab": {},
    "colab_type": "code",
    "id": "xnpYMUVwtNje"
   },
   "outputs": [],
   "source": [
    "label_map = {label: i for i, label in enumerate(label_list)}\n",
    "test_examples_for_processing = [(example, label_map, MAX_SEQ_LENGTH, tokenizer, OUTPUT_MODE) for example in test_examples]"
   ]
  },
  {
   "cell_type": "code",
   "execution_count": 95,
   "metadata": {
    "colab": {
     "base_uri": "https://localhost:8080/",
     "height": 99,
     "referenced_widgets": [
      "2d4c661059f84e5e834742360ce7f547",
      "2ab11a83636148299fd82361e75cec6c",
      "bf420f681beb4e5498594120ead60940",
      "3fd3c1c3a1ba4540819359daac2e494b",
      "5e4c313ba7a941a0b3c79b3ce9b76f8e",
      "fcdb5d065b3743f3a69a1603a28be862",
      "f1f1fca713034073b5949052b4caf7fd",
      "729fa02c7a2c4433ae8ea8702303ed53"
     ]
    },
    "colab_type": "code",
    "id": "dT5MnJfZtPso",
    "outputId": "6bc24714-032f-483f-d568-9b95b2caef36"
   },
   "outputs": [
    {
     "name": "stdout",
     "output_type": "stream",
     "text": [
      "Preparing to convert 750 examples..\n",
      "Spawning 3 processes..\n"
     ]
    },
    {
     "data": {
      "application/vnd.jupyter.widget-view+json": {
       "model_id": "2d4c661059f84e5e834742360ce7f547",
       "version_major": 2,
       "version_minor": 0
      },
      "text/plain": [
       "HBox(children=(IntProgress(value=0, max=750), HTML(value='')))"
      ]
     },
     "metadata": {
      "tags": []
     },
     "output_type": "display_data"
    },
    {
     "name": "stdout",
     "output_type": "stream",
     "text": [
      "\n"
     ]
    }
   ],
   "source": [
    "  process_count = cpu_count() - 1\n",
    "  if __name__ ==  '__main__':\n",
    "      print(f'Preparing to convert {test_examples_len} examples..')\n",
    "      print(f'Spawning {process_count} processes..')\n",
    "      with Pool(process_count) as p:\n",
    "          test_features = list(tqdm_notebook(p.imap(convert_example_to_feature, test_examples_for_processing), total=test_examples_len))"
   ]
  },
  {
   "cell_type": "code",
   "execution_count": 0,
   "metadata": {
    "colab": {},
    "colab_type": "code",
    "id": "-RJSU2FKgGDT"
   },
   "outputs": [],
   "source": []
  },
  {
   "cell_type": "code",
   "execution_count": 0,
   "metadata": {
    "colab": {},
    "colab_type": "code",
    "id": "B8WpUWy8gUsu"
   },
   "outputs": [],
   "source": []
  },
  {
   "cell_type": "code",
   "execution_count": 0,
   "metadata": {
    "colab": {},
    "colab_type": "code",
    "id": "uNgX4zeqgjWS"
   },
   "outputs": [],
   "source": []
  },
  {
   "cell_type": "code",
   "execution_count": 0,
   "metadata": {
    "colab": {},
    "colab_type": "code",
    "id": "Rw-VwyKUfaEO"
   },
   "outputs": [],
   "source": []
  },
  {
   "cell_type": "code",
   "execution_count": 0,
   "metadata": {
    "colab": {},
    "colab_type": "code",
    "id": "rbS-7gt5fot3"
   },
   "outputs": [],
   "source": []
  },
  {
   "cell_type": "code",
   "execution_count": 0,
   "metadata": {
    "colab": {},
    "colab_type": "code",
    "id": "UjBLb5kktSq9"
   },
   "outputs": [],
   "source": [
    "all_input_ids = torch.tensor([f.input_ids for f in test_features], dtype=torch.long)\n",
    "all_input_mask = torch.tensor([f.input_mask for f in test_features], dtype=torch.long)\n",
    "all_segment_ids = torch.tensor([f.segment_ids for f in test_features], dtype=torch.long)\n",
    "all_label_ids = torch.tensor([f.label_id for f in test_features], dtype=torch.long)\n"
   ]
  },
  {
   "cell_type": "code",
   "execution_count": 0,
   "metadata": {
    "colab": {},
    "colab_type": "code",
    "id": "nZ9tGXfFtaJQ"
   },
   "outputs": [],
   "source": [
    "\n",
    "test_data = TensorDataset(all_input_ids, all_input_mask, all_segment_ids, all_label_ids)\n",
    "\n",
    "test_sampler = SequentialSampler(test_data)\n",
    "test_dataloader = DataLoader(test_data, sampler=test_sampler, batch_size=EVAL_BATCH_SIZE)"
   ]
  },
  {
   "cell_type": "code",
   "execution_count": 0,
   "metadata": {
    "colab": {},
    "colab_type": "code",
    "id": "GZVtK5AxtkRN"
   },
   "outputs": [],
   "source": []
  },
  {
   "cell_type": "code",
   "execution_count": 0,
   "metadata": {
    "colab": {},
    "colab_type": "code",
    "id": "Zl6xa1dutlr2"
   },
   "outputs": [],
   "source": []
  },
  {
   "cell_type": "code",
   "execution_count": 0,
   "metadata": {
    "colab": {},
    "colab_type": "code",
    "id": "a-RsOeKNtpq3"
   },
   "outputs": [],
   "source": []
  },
  {
   "cell_type": "code",
   "execution_count": 98,
   "metadata": {
    "colab": {
     "base_uri": "https://localhost:8080/",
     "height": 34
    },
    "colab_type": "code",
    "id": "exAJQICKtqpw",
    "outputId": "7100d574-7ec0-48e3-c8dd-d00017cb1c4b"
   },
   "outputs": [
    {
     "name": "stdout",
     "output_type": "stream",
     "text": [
      "    DONE.\n"
     ]
    }
   ],
   "source": [
    "#Testing\n",
    "\n",
    "model.eval()\n",
    "\n",
    "# Tracking variables \n",
    "predictions_test , true_labels_test = [], []\n",
    "\n",
    " \n",
    "for batch in test_dataloader:\n",
    "  # Add batch to GPU\n",
    "  batch = tuple(t.to(device) for t in batch)\n",
    "  \n",
    "  # Unpack the inputs from our dataloader\n",
    "  b_input_ids, b_input_mask, b_segment_ids, b_label_ids = batch\n",
    "  \n",
    "  with torch.no_grad():\n",
    "      # Forward pass, calculate logit predictions\n",
    "      logits = model(b_input_ids, token_type_ids=b_segment_ids, attention_mask=b_input_mask,labels=None)\n",
    "\n",
    "  \n",
    "  # Move logits and labels to CPU\n",
    "  logits = logits.detach().cpu().numpy()\n",
    "  label_ids = b_label_ids.to('cpu').numpy()\n",
    "  \n",
    "  # Store predictions and true labels\n",
    "  predictions_test.append(logits)\n",
    "  true_labels_test.append(label_ids)\n",
    "\n",
    "print('    DONE.')"
   ]
  },
  {
   "cell_type": "code",
   "execution_count": 0,
   "metadata": {
    "colab": {},
    "colab_type": "code",
    "id": "wf1_DKxjhd5p"
   },
   "outputs": [],
   "source": []
  },
  {
   "cell_type": "code",
   "execution_count": 0,
   "metadata": {
    "colab": {},
    "colab_type": "code",
    "id": "K5puGcmRpcnY"
   },
   "outputs": [],
   "source": []
  },
  {
   "cell_type": "code",
   "execution_count": 0,
   "metadata": {
    "colab": {},
    "colab_type": "code",
    "id": "K6VOr4CyyqRc"
   },
   "outputs": [],
   "source": []
  },
  {
   "cell_type": "code",
   "execution_count": 0,
   "metadata": {
    "colab": {},
    "colab_type": "code",
    "id": "WoaOpwZ9yq-D"
   },
   "outputs": [],
   "source": []
  },
  {
   "cell_type": "code",
   "execution_count": 0,
   "metadata": {
    "colab": {},
    "colab_type": "code",
    "id": "x-tol4kdyw_I"
   },
   "outputs": [],
   "source": []
  },
  {
   "cell_type": "code",
   "execution_count": 0,
   "metadata": {
    "colab": {},
    "colab_type": "code",
    "id": "sXC-aMuiyxkY"
   },
   "outputs": [],
   "source": []
  },
  {
   "cell_type": "code",
   "execution_count": 99,
   "metadata": {
    "colab": {
     "base_uri": "https://localhost:8080/",
     "height": 34
    },
    "colab_type": "code",
    "id": "8brwgaiFqBCi",
    "outputId": "8493830f-11ae-4901-9feb-5662d0cbbad4"
   },
   "outputs": [
    {
     "name": "stdout",
     "output_type": "stream",
     "text": [
      "Calculating Matthews Corr. Coef. for each batch...\n"
     ]
    }
   ],
   "source": [
    "\n",
    "matthews_set = []\n",
    "\n",
    "# Evaluate each test batch using Matthew's correlation coefficient\n",
    "print('Calculating Matthews Corr. Coef. for each batch...')\n",
    "\n",
    "# For each input batch...\n",
    "for i in range(len(true_labels_test)):\n",
    "  \n",
    "  # The predictions for this batch are a 3-column ndarray (one column for \"0\" \n",
    "  # , one column for \"1\" and another for \"2\"). Pick the label with the highest value and turn this\n",
    "  # in to a list of 0s, 1s and 2s.\n",
    "  pred_labels_i = np.argmax(predictions_test[i], axis=1).flatten()\n",
    "  \n",
    "  # Calculate and store the coef for this batch.  \n",
    "  matthews = matthews_corrcoef(true_labels_test[i], pred_labels_i)                \n",
    "  matthews_set.append(matthews)"
   ]
  },
  {
   "cell_type": "code",
   "execution_count": 0,
   "metadata": {
    "colab": {},
    "colab_type": "code",
    "id": "xM8EXOA2r_CV"
   },
   "outputs": [],
   "source": []
  },
  {
   "cell_type": "code",
   "execution_count": 0,
   "metadata": {
    "colab": {},
    "colab_type": "code",
    "id": "Q--6jlf1bnpo"
   },
   "outputs": [],
   "source": []
  },
  {
   "cell_type": "code",
   "execution_count": 0,
   "metadata": {
    "colab": {},
    "colab_type": "code",
    "id": "MgDDx9JgrTdZ"
   },
   "outputs": [],
   "source": []
  },
  {
   "cell_type": "code",
   "execution_count": 101,
   "metadata": {
    "colab": {
     "base_uri": "https://localhost:8080/",
     "height": 34
    },
    "colab_type": "code",
    "id": "Lpdw0WPTrTgg",
    "outputId": "d0bb4788-88a1-46e3-f676-e702d25f6508"
   },
   "outputs": [
    {
     "name": "stdout",
     "output_type": "stream",
     "text": [
      "Total MCC: 0.778\n"
     ]
    }
   ],
   "source": [
    "# Combine the results across all batches. \n",
    "flat_predictions_test = np.concatenate(predictions_test, axis=0)\n",
    "\n",
    "# For each sample, pick the label (0 or 1) with the higher score.\n",
    "flat_predictions_test = np.argmax(flat_predictions_test, axis=1).flatten()\n",
    "\n",
    "# Combine the correct labels for each batch into a single list.\n",
    "flat_true_labels_test = np.concatenate(true_labels_test, axis=0)\n",
    "\n",
    "# Calculate the MCC\n",
    "mcc = matthews_corrcoef(flat_true_labels_test, flat_predictions_test)\n",
    "\n",
    "print('Total MCC: %.3f' % mcc)"
   ]
  },
  {
   "cell_type": "code",
   "execution_count": 0,
   "metadata": {
    "colab": {},
    "colab_type": "code",
    "id": "UqRHS_KHmJMi"
   },
   "outputs": [],
   "source": []
  },
  {
   "cell_type": "code",
   "execution_count": 102,
   "metadata": {
    "colab": {
     "base_uri": "https://localhost:8080/",
     "height": 34
    },
    "colab_type": "code",
    "id": "hEsb3_Fvk6D2",
    "outputId": "a3878b2b-dda8-4775-d390-ea90892d90f4"
   },
   "outputs": [
    {
     "name": "stdout",
     "output_type": "stream",
     "text": [
      "Testing Accuracy: 0.876\n"
     ]
    }
   ],
   "source": [
    "print(\"Testing Accuracy:\",accuracy_score(flat_true_labels_test, flat_predictions_test))"
   ]
  },
  {
   "cell_type": "code",
   "execution_count": 103,
   "metadata": {
    "colab": {
     "base_uri": "https://localhost:8080/",
     "height": 185
    },
    "colab_type": "code",
    "id": "rBc3Oi6XrTi7",
    "outputId": "df13a236-8bc6-4d8f-d73c-8e8cdf97df43"
   },
   "outputs": [
    {
     "name": "stdout",
     "output_type": "stream",
     "text": [
      "              precision    recall  f1-score   support\n",
      "\n",
      "           0       0.90      0.73      0.80       150\n",
      "           1       0.90      0.92      0.91       450\n",
      "           2       0.79      0.89      0.84       150\n",
      "\n",
      "    accuracy                           0.88       750\n",
      "   macro avg       0.86      0.85      0.85       750\n",
      "weighted avg       0.88      0.88      0.87       750\n",
      "\n"
     ]
    }
   ],
   "source": [
    "print(classification_report(flat_true_labels_test, flat_predictions_test))\n"
   ]
  },
  {
   "cell_type": "code",
   "execution_count": 0,
   "metadata": {
    "colab": {},
    "colab_type": "code",
    "id": "eXEaOB5ohsjL"
   },
   "outputs": [],
   "source": [
    "from sklearn.metrics import confusion_matrix"
   ]
  },
  {
   "cell_type": "code",
   "execution_count": 105,
   "metadata": {
    "colab": {
     "base_uri": "https://localhost:8080/",
     "height": 67
    },
    "colab_type": "code",
    "id": "wCI8CUE7h7Mu",
    "outputId": "62e9fe36-8cef-4259-9a1c-024763a4204f"
   },
   "outputs": [
    {
     "name": "stdout",
     "output_type": "stream",
     "text": [
      "[[109  29  12]\n",
      " [ 12 414  24]\n",
      " [  0  16 134]]\n"
     ]
    }
   ],
   "source": [
    "print(confusion_matrix(flat_true_labels_test, flat_predictions_test))\n"
   ]
  },
  {
   "cell_type": "code",
   "execution_count": 0,
   "metadata": {
    "colab": {},
    "colab_type": "code",
    "id": "OOqLRh8iiJ2Y"
   },
   "outputs": [],
   "source": [
    "prediction_list = flat_predictions_test.tolist()\n",
    "sentiment=[]\n",
    "for item in prediction_list:\n",
    "    if item == 0:\n",
    "        sentiment.append(\"negative\")\n",
    "    elif item == 1:\n",
    "        sentiment.append(\"neutral\")\n",
    "    elif item == 2:\n",
    "        sentiment.append(\"positive\")\n",
    "\n",
    "test_df['predicted_sentiment']=sentiment\n",
    "test_df.to_csv(\"predicted_test_file.csv\")"
   ]
  },
  {
   "cell_type": "code",
   "execution_count": 0,
   "metadata": {
    "colab": {},
    "colab_type": "code",
    "id": "Swfh-7qwrTmC"
   },
   "outputs": [],
   "source": []
  },
  {
   "cell_type": "code",
   "execution_count": 0,
   "metadata": {
    "colab": {},
    "colab_type": "code",
    "id": "dO5YNzqy1krp"
   },
   "outputs": [],
   "source": []
  },
  {
   "cell_type": "code",
   "execution_count": 0,
   "metadata": {
    "colab": {},
    "colab_type": "code",
    "id": "y1TIwUwNU-_4"
   },
   "outputs": [],
   "source": []
  },
  {
   "cell_type": "code",
   "execution_count": 0,
   "metadata": {
    "colab": {},
    "colab_type": "code",
    "id": "jOqjuAuR1kw2"
   },
   "outputs": [],
   "source": []
  },
  {
   "cell_type": "code",
   "execution_count": 0,
   "metadata": {
    "colab": {},
    "colab_type": "code",
    "id": "mzJGVcRSVDVZ"
   },
   "outputs": [],
   "source": []
  },
  {
   "cell_type": "code",
   "execution_count": 0,
   "metadata": {
    "colab": {},
    "colab_type": "code",
    "id": "hCPUsB2A1kze"
   },
   "outputs": [],
   "source": []
  },
  {
   "cell_type": "code",
   "execution_count": 0,
   "metadata": {
    "colab": {},
    "colab_type": "code",
    "id": "jxZEg1ws1k3D"
   },
   "outputs": [],
   "source": []
  },
  {
   "cell_type": "code",
   "execution_count": 0,
   "metadata": {
    "colab": {},
    "colab_type": "code",
    "id": "DTZIWkZq1kvA"
   },
   "outputs": [],
   "source": []
  },
  {
   "cell_type": "code",
   "execution_count": 0,
   "metadata": {
    "colab": {},
    "colab_type": "code",
    "id": "T3SjCGmUTXAJ"
   },
   "outputs": [],
   "source": []
  },
  {
   "cell_type": "code",
   "execution_count": 0,
   "metadata": {
    "colab": {},
    "colab_type": "code",
    "id": "UQhIPfJFTY_9"
   },
   "outputs": [],
   "source": []
  },
  {
   "cell_type": "code",
   "execution_count": 0,
   "metadata": {
    "colab": {},
    "colab_type": "code",
    "id": "K2wpMo8a3Ujs"
   },
   "outputs": [],
   "source": []
  },
  {
   "cell_type": "code",
   "execution_count": 0,
   "metadata": {
    "colab": {},
    "colab_type": "code",
    "id": "orDQ8x1i4WwQ"
   },
   "outputs": [],
   "source": []
  },
  {
   "cell_type": "code",
   "execution_count": 0,
   "metadata": {
    "colab": {},
    "colab_type": "code",
    "id": "Vf7lpL7R5f_g"
   },
   "outputs": [],
   "source": []
  },
  {
   "cell_type": "code",
   "execution_count": 0,
   "metadata": {
    "colab": {},
    "colab_type": "code",
    "id": "zkT9YFtk6pPK"
   },
   "outputs": [],
   "source": []
  },
  {
   "cell_type": "code",
   "execution_count": 0,
   "metadata": {
    "colab": {},
    "colab_type": "code",
    "id": "IAEEUAHJ7yed"
   },
   "outputs": [],
   "source": []
  },
  {
   "cell_type": "code",
   "execution_count": 0,
   "metadata": {
    "colab": {},
    "colab_type": "code",
    "id": "a9o36RV287uG"
   },
   "outputs": [],
   "source": []
  },
  {
   "cell_type": "code",
   "execution_count": 0,
   "metadata": {
    "colab": {},
    "colab_type": "code",
    "id": "e8ng2iJF-E9j"
   },
   "outputs": [],
   "source": []
  },
  {
   "cell_type": "code",
   "execution_count": 0,
   "metadata": {
    "colab": {},
    "colab_type": "code",
    "id": "O55dhfa-_OM-"
   },
   "outputs": [],
   "source": []
  },
  {
   "cell_type": "code",
   "execution_count": 0,
   "metadata": {
    "colab": {},
    "colab_type": "code",
    "id": "nhlSYlVTAXcl"
   },
   "outputs": [],
   "source": []
  },
  {
   "cell_type": "code",
   "execution_count": 0,
   "metadata": {
    "colab": {},
    "colab_type": "code",
    "id": "zyRiHgZVBgr-"
   },
   "outputs": [],
   "source": []
  },
  {
   "cell_type": "code",
   "execution_count": 0,
   "metadata": {
    "colab": {},
    "colab_type": "code",
    "id": "dKflleoFCp7l"
   },
   "outputs": [],
   "source": []
  },
  {
   "cell_type": "code",
   "execution_count": 0,
   "metadata": {
    "colab": {},
    "colab_type": "code",
    "id": "VYKqbH4-DzK9"
   },
   "outputs": [],
   "source": []
  },
  {
   "cell_type": "code",
   "execution_count": 0,
   "metadata": {
    "colab": {},
    "colab_type": "code",
    "id": "Fh124CuFE8ah"
   },
   "outputs": [],
   "source": []
  },
  {
   "cell_type": "code",
   "execution_count": 0,
   "metadata": {
    "colab": {},
    "colab_type": "code",
    "id": "0MFA4TtVGFqC"
   },
   "outputs": [],
   "source": []
  },
  {
   "cell_type": "code",
   "execution_count": 0,
   "metadata": {
    "colab": {},
    "colab_type": "code",
    "id": "y0KHqsZEHO5g"
   },
   "outputs": [],
   "source": []
  },
  {
   "cell_type": "code",
   "execution_count": 0,
   "metadata": {
    "colab": {},
    "colab_type": "code",
    "id": "63OKnkHYIYJM"
   },
   "outputs": [],
   "source": []
  },
  {
   "cell_type": "code",
   "execution_count": 0,
   "metadata": {
    "colab": {},
    "colab_type": "code",
    "id": "iR1jJlyDJhYd"
   },
   "outputs": [],
   "source": []
  },
  {
   "cell_type": "code",
   "execution_count": 0,
   "metadata": {
    "colab": {},
    "colab_type": "code",
    "id": "_6-LFeDjKqn-"
   },
   "outputs": [],
   "source": []
  },
  {
   "cell_type": "code",
   "execution_count": 0,
   "metadata": {
    "colab": {},
    "colab_type": "code",
    "id": "aZR1wUbeLz3e"
   },
   "outputs": [],
   "source": []
  },
  {
   "cell_type": "code",
   "execution_count": 0,
   "metadata": {
    "colab": {},
    "colab_type": "code",
    "id": "SEDnZu7QM9HD"
   },
   "outputs": [],
   "source": []
  },
  {
   "cell_type": "code",
   "execution_count": 0,
   "metadata": {
    "colab": {},
    "colab_type": "code",
    "id": "GQJap7UxOGWj"
   },
   "outputs": [],
   "source": []
  },
  {
   "cell_type": "code",
   "execution_count": 0,
   "metadata": {
    "colab": {},
    "colab_type": "code",
    "id": "678apNsZPPmD"
   },
   "outputs": [],
   "source": []
  },
  {
   "cell_type": "code",
   "execution_count": 0,
   "metadata": {
    "colab": {},
    "colab_type": "code",
    "id": "i0OuG6dMQY1k"
   },
   "outputs": [],
   "source": []
  },
  {
   "cell_type": "code",
   "execution_count": 0,
   "metadata": {
    "colab": {},
    "colab_type": "code",
    "id": "bHW8LiZxRiFB"
   },
   "outputs": [],
   "source": []
  },
  {
   "cell_type": "code",
   "execution_count": 0,
   "metadata": {
    "colab": {},
    "colab_type": "code",
    "id": "_eSCtomcSrUj"
   },
   "outputs": [],
   "source": []
  },
  {
   "cell_type": "code",
   "execution_count": 0,
   "metadata": {
    "colab": {},
    "colab_type": "code",
    "id": "gNOr_IFNT0j-"
   },
   "outputs": [],
   "source": []
  },
  {
   "cell_type": "code",
   "execution_count": 0,
   "metadata": {
    "colab": {},
    "colab_type": "code",
    "id": "USiBiDcWU9zs"
   },
   "outputs": [],
   "source": []
  },
  {
   "cell_type": "code",
   "execution_count": 0,
   "metadata": {
    "colab": {},
    "colab_type": "code",
    "id": "bKrZ7X25WHDD"
   },
   "outputs": [],
   "source": []
  },
  {
   "cell_type": "code",
   "execution_count": 0,
   "metadata": {
    "colab": {},
    "colab_type": "code",
    "id": "JTzld8C8XQSg"
   },
   "outputs": [],
   "source": []
  },
  {
   "cell_type": "code",
   "execution_count": 0,
   "metadata": {
    "colab": {},
    "colab_type": "code",
    "id": "7JFn35o-YZiC"
   },
   "outputs": [],
   "source": []
  },
  {
   "cell_type": "code",
   "execution_count": 0,
   "metadata": {
    "colab": {},
    "colab_type": "code",
    "id": "_4lHwIuvZixd"
   },
   "outputs": [],
   "source": []
  },
  {
   "cell_type": "code",
   "execution_count": 0,
   "metadata": {
    "colab": {},
    "colab_type": "code",
    "id": "ZVm5yAZhasBF"
   },
   "outputs": [],
   "source": []
  },
  {
   "cell_type": "code",
   "execution_count": 0,
   "metadata": {
    "colab": {},
    "colab_type": "code",
    "id": "kAm-M60-b1Qi"
   },
   "outputs": [],
   "source": []
  },
  {
   "cell_type": "code",
   "execution_count": 0,
   "metadata": {
    "colab": {},
    "colab_type": "code",
    "id": "pn9vplyEc-gM"
   },
   "outputs": [],
   "source": []
  },
  {
   "cell_type": "code",
   "execution_count": 0,
   "metadata": {
    "colab": {},
    "colab_type": "code",
    "id": "KagaLnKkeHve"
   },
   "outputs": [],
   "source": []
  },
  {
   "cell_type": "code",
   "execution_count": 0,
   "metadata": {
    "colab": {},
    "colab_type": "code",
    "id": "dpo-vLIUfQ-9"
   },
   "outputs": [],
   "source": []
  },
  {
   "cell_type": "code",
   "execution_count": 0,
   "metadata": {
    "colab": {},
    "colab_type": "code",
    "id": "zSeQzmTXgaOg"
   },
   "outputs": [],
   "source": []
  },
  {
   "cell_type": "code",
   "execution_count": 0,
   "metadata": {
    "colab": {},
    "colab_type": "code",
    "id": "x5A2tIndhjd9"
   },
   "outputs": [],
   "source": []
  },
  {
   "cell_type": "code",
   "execution_count": 0,
   "metadata": {
    "colab": {},
    "colab_type": "code",
    "id": "BlQbOiqUistg"
   },
   "outputs": [],
   "source": []
  },
  {
   "cell_type": "code",
   "execution_count": 0,
   "metadata": {
    "colab": {},
    "colab_type": "code",
    "id": "DW9aPPvRj19A"
   },
   "outputs": [],
   "source": []
  },
  {
   "cell_type": "code",
   "execution_count": 0,
   "metadata": {
    "colab": {},
    "colab_type": "code",
    "id": "KWBQNk1Ak_Mj"
   },
   "outputs": [],
   "source": []
  },
  {
   "cell_type": "code",
   "execution_count": 0,
   "metadata": {
    "colab": {},
    "colab_type": "code",
    "id": "N3LUwMfpmIcC"
   },
   "outputs": [],
   "source": []
  },
  {
   "cell_type": "code",
   "execution_count": 0,
   "metadata": {
    "colab": {},
    "colab_type": "code",
    "id": "Wh04OGDInRoY"
   },
   "outputs": [],
   "source": []
  },
  {
   "cell_type": "code",
   "execution_count": 0,
   "metadata": {
    "colab": {},
    "colab_type": "code",
    "id": "B0lDz-ypPpJV"
   },
   "outputs": [],
   "source": []
  },
  {
   "cell_type": "code",
   "execution_count": 0,
   "metadata": {
    "colab": {},
    "colab_type": "code",
    "id": "mcYbF_4IQyY0"
   },
   "outputs": [],
   "source": []
  },
  {
   "cell_type": "code",
   "execution_count": 0,
   "metadata": {
    "colab": {},
    "colab_type": "code",
    "id": "eAPrUv0SR7oU"
   },
   "outputs": [],
   "source": []
  },
  {
   "cell_type": "code",
   "execution_count": 0,
   "metadata": {
    "colab": {},
    "colab_type": "code",
    "id": "JTHtIORQUOHO"
   },
   "outputs": [],
   "source": []
  },
  {
   "cell_type": "code",
   "execution_count": 0,
   "metadata": {
    "colab": {},
    "colab_type": "code",
    "id": "uT8BluPwVXgr"
   },
   "outputs": [],
   "source": []
  },
  {
   "cell_type": "code",
   "execution_count": 0,
   "metadata": {
    "colab": {},
    "colab_type": "code",
    "id": "5xqfNHTEWgwY"
   },
   "outputs": [],
   "source": []
  },
  {
   "cell_type": "code",
   "execution_count": 0,
   "metadata": {
    "colab": {},
    "colab_type": "code",
    "id": "HvtzaUFjXp_w"
   },
   "outputs": [],
   "source": []
  },
  {
   "cell_type": "code",
   "execution_count": 0,
   "metadata": {
    "colab": {},
    "colab_type": "code",
    "id": "sCNokOoOYzPY"
   },
   "outputs": [],
   "source": []
  },
  {
   "cell_type": "code",
   "execution_count": 0,
   "metadata": {
    "colab": {},
    "colab_type": "code",
    "id": "SPEA4P5LZ8ey"
   },
   "outputs": [],
   "source": []
  },
  {
   "cell_type": "code",
   "execution_count": 0,
   "metadata": {
    "colab": {},
    "colab_type": "code",
    "id": "_HLrqaRPbFuO"
   },
   "outputs": [],
   "source": []
  },
  {
   "cell_type": "code",
   "execution_count": 0,
   "metadata": {
    "colab": {},
    "colab_type": "code",
    "id": "A8nf6SBscO90"
   },
   "outputs": [],
   "source": []
  },
  {
   "cell_type": "code",
   "execution_count": 0,
   "metadata": {
    "colab": {},
    "colab_type": "code",
    "id": "u4af1DSSdYNL"
   },
   "outputs": [],
   "source": []
  },
  {
   "cell_type": "code",
   "execution_count": 0,
   "metadata": {
    "colab": {},
    "colab_type": "code",
    "id": "D-Ok9s86ehc-"
   },
   "outputs": [],
   "source": []
  },
  {
   "cell_type": "code",
   "execution_count": 0,
   "metadata": {
    "colab": {},
    "colab_type": "code",
    "id": "m6FYJy2nfqsX"
   },
   "outputs": [],
   "source": []
  },
  {
   "cell_type": "code",
   "execution_count": 0,
   "metadata": {
    "colab": {},
    "colab_type": "code",
    "id": "T4XCdb54gz7x"
   },
   "outputs": [],
   "source": []
  },
  {
   "cell_type": "code",
   "execution_count": 0,
   "metadata": {
    "colab": {},
    "colab_type": "code",
    "id": "GOpPiOXUkPgZ"
   },
   "outputs": [],
   "source": []
  },
  {
   "cell_type": "code",
   "execution_count": 0,
   "metadata": {
    "colab": {},
    "colab_type": "code",
    "id": "541RN6gulYv2"
   },
   "outputs": [],
   "source": []
  },
  {
   "cell_type": "code",
   "execution_count": 0,
   "metadata": {
    "colab": {},
    "colab_type": "code",
    "id": "5v7IX4u3mh_S"
   },
   "outputs": [],
   "source": []
  },
  {
   "cell_type": "code",
   "execution_count": 0,
   "metadata": {
    "colab": {},
    "colab_type": "code",
    "id": "5OsABMQGnrO0"
   },
   "outputs": [],
   "source": []
  },
  {
   "cell_type": "code",
   "execution_count": 0,
   "metadata": {
    "colab": {},
    "colab_type": "code",
    "id": "BeF8bN1bo0eP"
   },
   "outputs": [],
   "source": []
  },
  {
   "cell_type": "code",
   "execution_count": 0,
   "metadata": {
    "colab": {},
    "colab_type": "code",
    "id": "qk0YEnM7p9tv"
   },
   "outputs": [],
   "source": []
  },
  {
   "cell_type": "code",
   "execution_count": 0,
   "metadata": {
    "colab": {},
    "colab_type": "code",
    "id": "_DSbJ8lerG9V"
   },
   "outputs": [],
   "source": []
  },
  {
   "cell_type": "code",
   "execution_count": 0,
   "metadata": {
    "colab": {},
    "colab_type": "code",
    "id": "eoOi0rkAsQMv"
   },
   "outputs": [],
   "source": []
  },
  {
   "cell_type": "code",
   "execution_count": 0,
   "metadata": {
    "colab": {},
    "colab_type": "code",
    "id": "w1ERj2sjtZcU"
   },
   "outputs": [],
   "source": []
  },
  {
   "cell_type": "code",
   "execution_count": 0,
   "metadata": {
    "colab": {},
    "colab_type": "code",
    "id": "bvlaBA1Rh9LZ"
   },
   "outputs": [],
   "source": []
  },
  {
   "cell_type": "code",
   "execution_count": 0,
   "metadata": {
    "colab": {},
    "colab_type": "code",
    "id": "EDQngzx6jGQ3"
   },
   "outputs": [],
   "source": []
  },
  {
   "cell_type": "code",
   "execution_count": 0,
   "metadata": {
    "colab": {},
    "colab_type": "code",
    "id": "KfPQ4o4hTE30"
   },
   "outputs": [],
   "source": []
  }
 ],
 "metadata": {
  "accelerator": "GPU",
  "colab": {
   "collapsed_sections": [],
   "machine_shape": "hm",
   "name": "Copy_of_A1_cased_128 (4).ipynb",
   "provenance": []
  },
  "kernelspec": {
   "display_name": "Python 3",
   "language": "python",
   "name": "python3"
  },
  "language_info": {
   "codemirror_mode": {
    "name": "ipython",
    "version": 3
   },
   "file_extension": ".py",
   "mimetype": "text/x-python",
   "name": "python",
   "nbconvert_exporter": "python",
   "pygments_lexer": "ipython3",
   "version": "3.7.3"
  },
  "widgets": {
   "application/vnd.jupyter.widget-state+json": {
    "24b14f47580a4a0fbcba3d243008c597": {
     "model_module": "@jupyter-widgets/base",
     "model_name": "LayoutModel",
     "state": {
      "_model_module": "@jupyter-widgets/base",
      "_model_module_version": "1.2.0",
      "_model_name": "LayoutModel",
      "_view_count": null,
      "_view_module": "@jupyter-widgets/base",
      "_view_module_version": "1.2.0",
      "_view_name": "LayoutView",
      "align_content": null,
      "align_items": null,
      "align_self": null,
      "border": null,
      "bottom": null,
      "display": null,
      "flex": null,
      "flex_flow": null,
      "grid_area": null,
      "grid_auto_columns": null,
      "grid_auto_flow": null,
      "grid_auto_rows": null,
      "grid_column": null,
      "grid_gap": null,
      "grid_row": null,
      "grid_template_areas": null,
      "grid_template_columns": null,
      "grid_template_rows": null,
      "height": null,
      "justify_content": null,
      "justify_items": null,
      "left": null,
      "margin": null,
      "max_height": null,
      "max_width": null,
      "min_height": null,
      "min_width": null,
      "object_fit": null,
      "object_position": null,
      "order": null,
      "overflow": null,
      "overflow_x": null,
      "overflow_y": null,
      "padding": null,
      "right": null,
      "top": null,
      "visibility": null,
      "width": null
     }
    },
    "27c8a45ce12e487ab07b7d35809ad57f": {
     "model_module": "@jupyter-widgets/base",
     "model_name": "LayoutModel",
     "state": {
      "_model_module": "@jupyter-widgets/base",
      "_model_module_version": "1.2.0",
      "_model_name": "LayoutModel",
      "_view_count": null,
      "_view_module": "@jupyter-widgets/base",
      "_view_module_version": "1.2.0",
      "_view_name": "LayoutView",
      "align_content": null,
      "align_items": null,
      "align_self": null,
      "border": null,
      "bottom": null,
      "display": null,
      "flex": null,
      "flex_flow": null,
      "grid_area": null,
      "grid_auto_columns": null,
      "grid_auto_flow": null,
      "grid_auto_rows": null,
      "grid_column": null,
      "grid_gap": null,
      "grid_row": null,
      "grid_template_areas": null,
      "grid_template_columns": null,
      "grid_template_rows": null,
      "height": null,
      "justify_content": null,
      "justify_items": null,
      "left": null,
      "margin": null,
      "max_height": null,
      "max_width": null,
      "min_height": null,
      "min_width": null,
      "object_fit": null,
      "object_position": null,
      "order": null,
      "overflow": null,
      "overflow_x": null,
      "overflow_y": null,
      "padding": null,
      "right": null,
      "top": null,
      "visibility": null,
      "width": null
     }
    },
    "2a902454afe3483c9a456ce0a110146e": {
     "model_module": "@jupyter-widgets/controls",
     "model_name": "IntProgressModel",
     "state": {
      "_dom_classes": [],
      "_model_module": "@jupyter-widgets/controls",
      "_model_module_version": "1.5.0",
      "_model_name": "IntProgressModel",
      "_view_count": null,
      "_view_module": "@jupyter-widgets/controls",
      "_view_module_version": "1.5.0",
      "_view_name": "ProgressView",
      "bar_style": "success",
      "description": "100%",
      "description_tooltip": null,
      "layout": "IPY_MODEL_439dd89e17704d5eb76c08ad04ae7739",
      "max": 4500,
      "min": 0,
      "orientation": "horizontal",
      "style": "IPY_MODEL_50499dda874a4d92906767303d471527",
      "value": 4500
     }
    },
    "2ab11a83636148299fd82361e75cec6c": {
     "model_module": "@jupyter-widgets/base",
     "model_name": "LayoutModel",
     "state": {
      "_model_module": "@jupyter-widgets/base",
      "_model_module_version": "1.2.0",
      "_model_name": "LayoutModel",
      "_view_count": null,
      "_view_module": "@jupyter-widgets/base",
      "_view_module_version": "1.2.0",
      "_view_name": "LayoutView",
      "align_content": null,
      "align_items": null,
      "align_self": null,
      "border": null,
      "bottom": null,
      "display": null,
      "flex": null,
      "flex_flow": null,
      "grid_area": null,
      "grid_auto_columns": null,
      "grid_auto_flow": null,
      "grid_auto_rows": null,
      "grid_column": null,
      "grid_gap": null,
      "grid_row": null,
      "grid_template_areas": null,
      "grid_template_columns": null,
      "grid_template_rows": null,
      "height": null,
      "justify_content": null,
      "justify_items": null,
      "left": null,
      "margin": null,
      "max_height": null,
      "max_width": null,
      "min_height": null,
      "min_width": null,
      "object_fit": null,
      "object_position": null,
      "order": null,
      "overflow": null,
      "overflow_x": null,
      "overflow_y": null,
      "padding": null,
      "right": null,
      "top": null,
      "visibility": null,
      "width": null
     }
    },
    "2d4c661059f84e5e834742360ce7f547": {
     "model_module": "@jupyter-widgets/controls",
     "model_name": "HBoxModel",
     "state": {
      "_dom_classes": [],
      "_model_module": "@jupyter-widgets/controls",
      "_model_module_version": "1.5.0",
      "_model_name": "HBoxModel",
      "_view_count": null,
      "_view_module": "@jupyter-widgets/controls",
      "_view_module_version": "1.5.0",
      "_view_name": "HBoxView",
      "box_style": "",
      "children": [
       "IPY_MODEL_bf420f681beb4e5498594120ead60940",
       "IPY_MODEL_3fd3c1c3a1ba4540819359daac2e494b"
      ],
      "layout": "IPY_MODEL_2ab11a83636148299fd82361e75cec6c"
     }
    },
    "3c5b9a15c66e4501a3716bc5a0b98ee6": {
     "model_module": "@jupyter-widgets/base",
     "model_name": "LayoutModel",
     "state": {
      "_model_module": "@jupyter-widgets/base",
      "_model_module_version": "1.2.0",
      "_model_name": "LayoutModel",
      "_view_count": null,
      "_view_module": "@jupyter-widgets/base",
      "_view_module_version": "1.2.0",
      "_view_name": "LayoutView",
      "align_content": null,
      "align_items": null,
      "align_self": null,
      "border": null,
      "bottom": null,
      "display": null,
      "flex": null,
      "flex_flow": null,
      "grid_area": null,
      "grid_auto_columns": null,
      "grid_auto_flow": null,
      "grid_auto_rows": null,
      "grid_column": null,
      "grid_gap": null,
      "grid_row": null,
      "grid_template_areas": null,
      "grid_template_columns": null,
      "grid_template_rows": null,
      "height": null,
      "justify_content": null,
      "justify_items": null,
      "left": null,
      "margin": null,
      "max_height": null,
      "max_width": null,
      "min_height": null,
      "min_width": null,
      "object_fit": null,
      "object_position": null,
      "order": null,
      "overflow": null,
      "overflow_x": null,
      "overflow_y": null,
      "padding": null,
      "right": null,
      "top": null,
      "visibility": null,
      "width": null
     }
    },
    "3fd3c1c3a1ba4540819359daac2e494b": {
     "model_module": "@jupyter-widgets/controls",
     "model_name": "HTMLModel",
     "state": {
      "_dom_classes": [],
      "_model_module": "@jupyter-widgets/controls",
      "_model_module_version": "1.5.0",
      "_model_name": "HTMLModel",
      "_view_count": null,
      "_view_module": "@jupyter-widgets/controls",
      "_view_module_version": "1.5.0",
      "_view_name": "HTMLView",
      "description": "",
      "description_tooltip": null,
      "layout": "IPY_MODEL_729fa02c7a2c4433ae8ea8702303ed53",
      "placeholder": "​",
      "style": "IPY_MODEL_f1f1fca713034073b5949052b4caf7fd",
      "value": " 750/750 [00:33&lt;00:00, 22.24it/s]"
     }
    },
    "439dd89e17704d5eb76c08ad04ae7739": {
     "model_module": "@jupyter-widgets/base",
     "model_name": "LayoutModel",
     "state": {
      "_model_module": "@jupyter-widgets/base",
      "_model_module_version": "1.2.0",
      "_model_name": "LayoutModel",
      "_view_count": null,
      "_view_module": "@jupyter-widgets/base",
      "_view_module_version": "1.2.0",
      "_view_name": "LayoutView",
      "align_content": null,
      "align_items": null,
      "align_self": null,
      "border": null,
      "bottom": null,
      "display": null,
      "flex": null,
      "flex_flow": null,
      "grid_area": null,
      "grid_auto_columns": null,
      "grid_auto_flow": null,
      "grid_auto_rows": null,
      "grid_column": null,
      "grid_gap": null,
      "grid_row": null,
      "grid_template_areas": null,
      "grid_template_columns": null,
      "grid_template_rows": null,
      "height": null,
      "justify_content": null,
      "justify_items": null,
      "left": null,
      "margin": null,
      "max_height": null,
      "max_width": null,
      "min_height": null,
      "min_width": null,
      "object_fit": null,
      "object_position": null,
      "order": null,
      "overflow": null,
      "overflow_x": null,
      "overflow_y": null,
      "padding": null,
      "right": null,
      "top": null,
      "visibility": null,
      "width": null
     }
    },
    "4574a4657bdc41879c1c89fc3509fcc5": {
     "model_module": "@jupyter-widgets/controls",
     "model_name": "HTMLModel",
     "state": {
      "_dom_classes": [],
      "_model_module": "@jupyter-widgets/controls",
      "_model_module_version": "1.5.0",
      "_model_name": "HTMLModel",
      "_view_count": null,
      "_view_module": "@jupyter-widgets/controls",
      "_view_module_version": "1.5.0",
      "_view_name": "HTMLView",
      "description": "",
      "description_tooltip": null,
      "layout": "IPY_MODEL_27c8a45ce12e487ab07b7d35809ad57f",
      "placeholder": "​",
      "style": "IPY_MODEL_d5c635372c924de790feb19a29567821",
      "value": " 4500/4500 [01:58&lt;00:00, 38.03it/s]"
     }
    },
    "50499dda874a4d92906767303d471527": {
     "model_module": "@jupyter-widgets/controls",
     "model_name": "ProgressStyleModel",
     "state": {
      "_model_module": "@jupyter-widgets/controls",
      "_model_module_version": "1.5.0",
      "_model_name": "ProgressStyleModel",
      "_view_count": null,
      "_view_module": "@jupyter-widgets/base",
      "_view_module_version": "1.2.0",
      "_view_name": "StyleView",
      "bar_color": null,
      "description_width": "initial"
     }
    },
    "55f7b06f0799442d9e5fb097774af2e5": {
     "model_module": "@jupyter-widgets/controls",
     "model_name": "DescriptionStyleModel",
     "state": {
      "_model_module": "@jupyter-widgets/controls",
      "_model_module_version": "1.5.0",
      "_model_name": "DescriptionStyleModel",
      "_view_count": null,
      "_view_module": "@jupyter-widgets/base",
      "_view_module_version": "1.2.0",
      "_view_name": "StyleView",
      "description_width": ""
     }
    },
    "5e4c313ba7a941a0b3c79b3ce9b76f8e": {
     "model_module": "@jupyter-widgets/controls",
     "model_name": "ProgressStyleModel",
     "state": {
      "_model_module": "@jupyter-widgets/controls",
      "_model_module_version": "1.5.0",
      "_model_name": "ProgressStyleModel",
      "_view_count": null,
      "_view_module": "@jupyter-widgets/base",
      "_view_module_version": "1.2.0",
      "_view_name": "StyleView",
      "bar_color": null,
      "description_width": "initial"
     }
    },
    "729fa02c7a2c4433ae8ea8702303ed53": {
     "model_module": "@jupyter-widgets/base",
     "model_name": "LayoutModel",
     "state": {
      "_model_module": "@jupyter-widgets/base",
      "_model_module_version": "1.2.0",
      "_model_name": "LayoutModel",
      "_view_count": null,
      "_view_module": "@jupyter-widgets/base",
      "_view_module_version": "1.2.0",
      "_view_name": "LayoutView",
      "align_content": null,
      "align_items": null,
      "align_self": null,
      "border": null,
      "bottom": null,
      "display": null,
      "flex": null,
      "flex_flow": null,
      "grid_area": null,
      "grid_auto_columns": null,
      "grid_auto_flow": null,
      "grid_auto_rows": null,
      "grid_column": null,
      "grid_gap": null,
      "grid_row": null,
      "grid_template_areas": null,
      "grid_template_columns": null,
      "grid_template_rows": null,
      "height": null,
      "justify_content": null,
      "justify_items": null,
      "left": null,
      "margin": null,
      "max_height": null,
      "max_width": null,
      "min_height": null,
      "min_width": null,
      "object_fit": null,
      "object_position": null,
      "order": null,
      "overflow": null,
      "overflow_x": null,
      "overflow_y": null,
      "padding": null,
      "right": null,
      "top": null,
      "visibility": null,
      "width": null
     }
    },
    "74ac6fc9ce054f0baaacd19b5568d3bb": {
     "model_module": "@jupyter-widgets/base",
     "model_name": "LayoutModel",
     "state": {
      "_model_module": "@jupyter-widgets/base",
      "_model_module_version": "1.2.0",
      "_model_name": "LayoutModel",
      "_view_count": null,
      "_view_module": "@jupyter-widgets/base",
      "_view_module_version": "1.2.0",
      "_view_name": "LayoutView",
      "align_content": null,
      "align_items": null,
      "align_self": null,
      "border": null,
      "bottom": null,
      "display": null,
      "flex": null,
      "flex_flow": null,
      "grid_area": null,
      "grid_auto_columns": null,
      "grid_auto_flow": null,
      "grid_auto_rows": null,
      "grid_column": null,
      "grid_gap": null,
      "grid_row": null,
      "grid_template_areas": null,
      "grid_template_columns": null,
      "grid_template_rows": null,
      "height": null,
      "justify_content": null,
      "justify_items": null,
      "left": null,
      "margin": null,
      "max_height": null,
      "max_width": null,
      "min_height": null,
      "min_width": null,
      "object_fit": null,
      "object_position": null,
      "order": null,
      "overflow": null,
      "overflow_x": null,
      "overflow_y": null,
      "padding": null,
      "right": null,
      "top": null,
      "visibility": null,
      "width": null
     }
    },
    "988020f3d08c400590e06d7ac82276e5": {
     "model_module": "@jupyter-widgets/controls",
     "model_name": "HBoxModel",
     "state": {
      "_dom_classes": [],
      "_model_module": "@jupyter-widgets/controls",
      "_model_module_version": "1.5.0",
      "_model_name": "HBoxModel",
      "_view_count": null,
      "_view_module": "@jupyter-widgets/controls",
      "_view_module_version": "1.5.0",
      "_view_name": "HBoxView",
      "box_style": "",
      "children": [
       "IPY_MODEL_2a902454afe3483c9a456ce0a110146e",
       "IPY_MODEL_4574a4657bdc41879c1c89fc3509fcc5"
      ],
      "layout": "IPY_MODEL_24b14f47580a4a0fbcba3d243008c597"
     }
    },
    "9a959c7f84ab4f899fa93bbf1baa67e7": {
     "model_module": "@jupyter-widgets/controls",
     "model_name": "HBoxModel",
     "state": {
      "_dom_classes": [],
      "_model_module": "@jupyter-widgets/controls",
      "_model_module_version": "1.5.0",
      "_model_name": "HBoxModel",
      "_view_count": null,
      "_view_module": "@jupyter-widgets/controls",
      "_view_module_version": "1.5.0",
      "_view_name": "HBoxView",
      "box_style": "",
      "children": [
       "IPY_MODEL_d51bf3f5e2b945219c055a07f18ab986",
       "IPY_MODEL_9b4a1885459d4f30a911a0aae0a5e258"
      ],
      "layout": "IPY_MODEL_3c5b9a15c66e4501a3716bc5a0b98ee6"
     }
    },
    "9b4a1885459d4f30a911a0aae0a5e258": {
     "model_module": "@jupyter-widgets/controls",
     "model_name": "HTMLModel",
     "state": {
      "_dom_classes": [],
      "_model_module": "@jupyter-widgets/controls",
      "_model_module_version": "1.5.0",
      "_model_name": "HTMLModel",
      "_view_count": null,
      "_view_module": "@jupyter-widgets/controls",
      "_view_module_version": "1.5.0",
      "_view_name": "HTMLView",
      "description": "",
      "description_tooltip": null,
      "layout": "IPY_MODEL_74ac6fc9ce054f0baaacd19b5568d3bb",
      "placeholder": "​",
      "style": "IPY_MODEL_55f7b06f0799442d9e5fb097774af2e5",
      "value": " 500/500 [00:08&lt;00:00, 56.76it/s]"
     }
    },
    "b6c8964ccd1246c99d9dcb3c752f63f4": {
     "model_module": "@jupyter-widgets/base",
     "model_name": "LayoutModel",
     "state": {
      "_model_module": "@jupyter-widgets/base",
      "_model_module_version": "1.2.0",
      "_model_name": "LayoutModel",
      "_view_count": null,
      "_view_module": "@jupyter-widgets/base",
      "_view_module_version": "1.2.0",
      "_view_name": "LayoutView",
      "align_content": null,
      "align_items": null,
      "align_self": null,
      "border": null,
      "bottom": null,
      "display": null,
      "flex": null,
      "flex_flow": null,
      "grid_area": null,
      "grid_auto_columns": null,
      "grid_auto_flow": null,
      "grid_auto_rows": null,
      "grid_column": null,
      "grid_gap": null,
      "grid_row": null,
      "grid_template_areas": null,
      "grid_template_columns": null,
      "grid_template_rows": null,
      "height": null,
      "justify_content": null,
      "justify_items": null,
      "left": null,
      "margin": null,
      "max_height": null,
      "max_width": null,
      "min_height": null,
      "min_width": null,
      "object_fit": null,
      "object_position": null,
      "order": null,
      "overflow": null,
      "overflow_x": null,
      "overflow_y": null,
      "padding": null,
      "right": null,
      "top": null,
      "visibility": null,
      "width": null
     }
    },
    "bbb83f08bd9443eab554f852d5fa75a2": {
     "model_module": "@jupyter-widgets/controls",
     "model_name": "ProgressStyleModel",
     "state": {
      "_model_module": "@jupyter-widgets/controls",
      "_model_module_version": "1.5.0",
      "_model_name": "ProgressStyleModel",
      "_view_count": null,
      "_view_module": "@jupyter-widgets/base",
      "_view_module_version": "1.2.0",
      "_view_name": "StyleView",
      "bar_color": null,
      "description_width": "initial"
     }
    },
    "bf420f681beb4e5498594120ead60940": {
     "model_module": "@jupyter-widgets/controls",
     "model_name": "IntProgressModel",
     "state": {
      "_dom_classes": [],
      "_model_module": "@jupyter-widgets/controls",
      "_model_module_version": "1.5.0",
      "_model_name": "IntProgressModel",
      "_view_count": null,
      "_view_module": "@jupyter-widgets/controls",
      "_view_module_version": "1.5.0",
      "_view_name": "ProgressView",
      "bar_style": "success",
      "description": "100%",
      "description_tooltip": null,
      "layout": "IPY_MODEL_fcdb5d065b3743f3a69a1603a28be862",
      "max": 750,
      "min": 0,
      "orientation": "horizontal",
      "style": "IPY_MODEL_5e4c313ba7a941a0b3c79b3ce9b76f8e",
      "value": 750
     }
    },
    "d51bf3f5e2b945219c055a07f18ab986": {
     "model_module": "@jupyter-widgets/controls",
     "model_name": "IntProgressModel",
     "state": {
      "_dom_classes": [],
      "_model_module": "@jupyter-widgets/controls",
      "_model_module_version": "1.5.0",
      "_model_name": "IntProgressModel",
      "_view_count": null,
      "_view_module": "@jupyter-widgets/controls",
      "_view_module_version": "1.5.0",
      "_view_name": "ProgressView",
      "bar_style": "success",
      "description": "100%",
      "description_tooltip": null,
      "layout": "IPY_MODEL_b6c8964ccd1246c99d9dcb3c752f63f4",
      "max": 500,
      "min": 0,
      "orientation": "horizontal",
      "style": "IPY_MODEL_bbb83f08bd9443eab554f852d5fa75a2",
      "value": 500
     }
    },
    "d5c635372c924de790feb19a29567821": {
     "model_module": "@jupyter-widgets/controls",
     "model_name": "DescriptionStyleModel",
     "state": {
      "_model_module": "@jupyter-widgets/controls",
      "_model_module_version": "1.5.0",
      "_model_name": "DescriptionStyleModel",
      "_view_count": null,
      "_view_module": "@jupyter-widgets/base",
      "_view_module_version": "1.2.0",
      "_view_name": "StyleView",
      "description_width": ""
     }
    },
    "f1f1fca713034073b5949052b4caf7fd": {
     "model_module": "@jupyter-widgets/controls",
     "model_name": "DescriptionStyleModel",
     "state": {
      "_model_module": "@jupyter-widgets/controls",
      "_model_module_version": "1.5.0",
      "_model_name": "DescriptionStyleModel",
      "_view_count": null,
      "_view_module": "@jupyter-widgets/base",
      "_view_module_version": "1.2.0",
      "_view_name": "StyleView",
      "description_width": ""
     }
    },
    "fcdb5d065b3743f3a69a1603a28be862": {
     "model_module": "@jupyter-widgets/base",
     "model_name": "LayoutModel",
     "state": {
      "_model_module": "@jupyter-widgets/base",
      "_model_module_version": "1.2.0",
      "_model_name": "LayoutModel",
      "_view_count": null,
      "_view_module": "@jupyter-widgets/base",
      "_view_module_version": "1.2.0",
      "_view_name": "LayoutView",
      "align_content": null,
      "align_items": null,
      "align_self": null,
      "border": null,
      "bottom": null,
      "display": null,
      "flex": null,
      "flex_flow": null,
      "grid_area": null,
      "grid_auto_columns": null,
      "grid_auto_flow": null,
      "grid_auto_rows": null,
      "grid_column": null,
      "grid_gap": null,
      "grid_row": null,
      "grid_template_areas": null,
      "grid_template_columns": null,
      "grid_template_rows": null,
      "height": null,
      "justify_content": null,
      "justify_items": null,
      "left": null,
      "margin": null,
      "max_height": null,
      "max_width": null,
      "min_height": null,
      "min_width": null,
      "object_fit": null,
      "object_position": null,
      "order": null,
      "overflow": null,
      "overflow_x": null,
      "overflow_y": null,
      "padding": null,
      "right": null,
      "top": null,
      "visibility": null,
      "width": null
     }
    }
   }
  }
 },
 "nbformat": 4,
 "nbformat_minor": 1
}
